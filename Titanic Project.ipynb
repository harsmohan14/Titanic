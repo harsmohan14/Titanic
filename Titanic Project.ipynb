{
 "cells": [
  {
   "cell_type": "code",
   "execution_count": 1,
   "metadata": {
    "scrolled": true
   },
   "outputs": [
    {
     "name": "stderr",
     "output_type": "stream",
     "text": [
      "C:\\Users\\harsmoha\\Anaconda3\\lib\\site-packages\\sklearn\\cross_validation.py:41: DeprecationWarning: This module was deprecated in version 0.18 in favor of the model_selection module into which all the refactored classes and functions are moved. Also note that the interface of the new CV iterators are different from that of this module. This module will be removed in 0.20.\n",
      "  \"This module will be removed in 0.20.\", DeprecationWarning)\n"
     ]
    }
   ],
   "source": [
    "import numpy as np\n",
    "import datetime\n",
    "import matplotlib.pyplot as plt\n",
    "from scipy.stats import skew\n",
    "from scipy.stats import kurtosis\n",
    "import scipy.stats as stat\n",
    "%matplotlib inline\n",
    "import pandas as pd\n",
    "import seaborn as sns\n",
    "from sklearn.datasets import load_iris\n",
    "from sklearn.cross_validation import train_test_split\n",
    "from sklearn import metrics"
   ]
  },
  {
   "cell_type": "code",
   "execution_count": 2,
   "metadata": {},
   "outputs": [
    {
     "data": {
      "text/html": [
       "<div>\n",
       "<style>\n",
       "    .dataframe thead tr:only-child th {\n",
       "        text-align: right;\n",
       "    }\n",
       "\n",
       "    .dataframe thead th {\n",
       "        text-align: left;\n",
       "    }\n",
       "\n",
       "    .dataframe tbody tr th {\n",
       "        vertical-align: top;\n",
       "    }\n",
       "</style>\n",
       "<table border=\"1\" class=\"dataframe\">\n",
       "  <thead>\n",
       "    <tr style=\"text-align: right;\">\n",
       "      <th></th>\n",
       "      <th>PassengerId</th>\n",
       "      <th>Survived</th>\n",
       "      <th>Pclass</th>\n",
       "      <th>Name</th>\n",
       "      <th>Sex</th>\n",
       "      <th>Age</th>\n",
       "      <th>SibSp</th>\n",
       "      <th>Parch</th>\n",
       "      <th>Ticket</th>\n",
       "      <th>Fare</th>\n",
       "      <th>Cabin</th>\n",
       "      <th>Embarked</th>\n",
       "    </tr>\n",
       "  </thead>\n",
       "  <tbody>\n",
       "    <tr>\n",
       "      <th>0</th>\n",
       "      <td>1</td>\n",
       "      <td>0</td>\n",
       "      <td>3</td>\n",
       "      <td>Braund, Mr. Owen Harris</td>\n",
       "      <td>male</td>\n",
       "      <td>22.0</td>\n",
       "      <td>1</td>\n",
       "      <td>0</td>\n",
       "      <td>A/5 21171</td>\n",
       "      <td>7.2500</td>\n",
       "      <td>NaN</td>\n",
       "      <td>S</td>\n",
       "    </tr>\n",
       "    <tr>\n",
       "      <th>1</th>\n",
       "      <td>2</td>\n",
       "      <td>1</td>\n",
       "      <td>1</td>\n",
       "      <td>Cumings, Mrs. John Bradley (Florence Briggs Th...</td>\n",
       "      <td>female</td>\n",
       "      <td>38.0</td>\n",
       "      <td>1</td>\n",
       "      <td>0</td>\n",
       "      <td>PC 17599</td>\n",
       "      <td>71.2833</td>\n",
       "      <td>C85</td>\n",
       "      <td>C</td>\n",
       "    </tr>\n",
       "    <tr>\n",
       "      <th>2</th>\n",
       "      <td>3</td>\n",
       "      <td>1</td>\n",
       "      <td>3</td>\n",
       "      <td>Heikkinen, Miss. Laina</td>\n",
       "      <td>female</td>\n",
       "      <td>26.0</td>\n",
       "      <td>0</td>\n",
       "      <td>0</td>\n",
       "      <td>STON/O2. 3101282</td>\n",
       "      <td>7.9250</td>\n",
       "      <td>NaN</td>\n",
       "      <td>S</td>\n",
       "    </tr>\n",
       "    <tr>\n",
       "      <th>3</th>\n",
       "      <td>4</td>\n",
       "      <td>1</td>\n",
       "      <td>1</td>\n",
       "      <td>Futrelle, Mrs. Jacques Heath (Lily May Peel)</td>\n",
       "      <td>female</td>\n",
       "      <td>35.0</td>\n",
       "      <td>1</td>\n",
       "      <td>0</td>\n",
       "      <td>113803</td>\n",
       "      <td>53.1000</td>\n",
       "      <td>C123</td>\n",
       "      <td>S</td>\n",
       "    </tr>\n",
       "    <tr>\n",
       "      <th>4</th>\n",
       "      <td>5</td>\n",
       "      <td>0</td>\n",
       "      <td>3</td>\n",
       "      <td>Allen, Mr. William Henry</td>\n",
       "      <td>male</td>\n",
       "      <td>35.0</td>\n",
       "      <td>0</td>\n",
       "      <td>0</td>\n",
       "      <td>373450</td>\n",
       "      <td>8.0500</td>\n",
       "      <td>NaN</td>\n",
       "      <td>S</td>\n",
       "    </tr>\n",
       "  </tbody>\n",
       "</table>\n",
       "</div>"
      ],
      "text/plain": [
       "   PassengerId  Survived  Pclass  \\\n",
       "0            1         0       3   \n",
       "1            2         1       1   \n",
       "2            3         1       3   \n",
       "3            4         1       1   \n",
       "4            5         0       3   \n",
       "\n",
       "                                                Name     Sex   Age  SibSp  \\\n",
       "0                            Braund, Mr. Owen Harris    male  22.0      1   \n",
       "1  Cumings, Mrs. John Bradley (Florence Briggs Th...  female  38.0      1   \n",
       "2                             Heikkinen, Miss. Laina  female  26.0      0   \n",
       "3       Futrelle, Mrs. Jacques Heath (Lily May Peel)  female  35.0      1   \n",
       "4                           Allen, Mr. William Henry    male  35.0      0   \n",
       "\n",
       "   Parch            Ticket     Fare Cabin Embarked  \n",
       "0      0         A/5 21171   7.2500   NaN        S  \n",
       "1      0          PC 17599  71.2833   C85        C  \n",
       "2      0  STON/O2. 3101282   7.9250   NaN        S  \n",
       "3      0            113803  53.1000  C123        S  \n",
       "4      0            373450   8.0500   NaN        S  "
      ]
     },
     "execution_count": 2,
     "metadata": {},
     "output_type": "execute_result"
    }
   ],
   "source": [
    "titanic = pd.read_csv('Titanic/train.csv')\n",
    "titanic.head()"
   ]
  },
  {
   "cell_type": "code",
   "execution_count": 3,
   "metadata": {},
   "outputs": [
    {
     "data": {
      "text/plain": [
       "342"
      ]
     },
     "execution_count": 3,
     "metadata": {},
     "output_type": "execute_result"
    }
   ],
   "source": [
    "np.sum(titanic.Survived)"
   ]
  },
  {
   "cell_type": "code",
   "execution_count": 4,
   "metadata": {},
   "outputs": [
    {
     "data": {
      "text/html": [
       "<div>\n",
       "<style>\n",
       "    .dataframe thead tr:only-child th {\n",
       "        text-align: right;\n",
       "    }\n",
       "\n",
       "    .dataframe thead th {\n",
       "        text-align: left;\n",
       "    }\n",
       "\n",
       "    .dataframe tbody tr th {\n",
       "        vertical-align: top;\n",
       "    }\n",
       "</style>\n",
       "<table border=\"1\" class=\"dataframe\">\n",
       "  <thead>\n",
       "    <tr style=\"text-align: right;\">\n",
       "      <th></th>\n",
       "      <th>PassengerId</th>\n",
       "      <th>Survived</th>\n",
       "      <th>Pclass</th>\n",
       "      <th>Age</th>\n",
       "      <th>SibSp</th>\n",
       "      <th>Parch</th>\n",
       "      <th>Fare</th>\n",
       "    </tr>\n",
       "  </thead>\n",
       "  <tbody>\n",
       "    <tr>\n",
       "      <th>count</th>\n",
       "      <td>891.000000</td>\n",
       "      <td>891.000000</td>\n",
       "      <td>891.000000</td>\n",
       "      <td>714.000000</td>\n",
       "      <td>891.000000</td>\n",
       "      <td>891.000000</td>\n",
       "      <td>891.000000</td>\n",
       "    </tr>\n",
       "    <tr>\n",
       "      <th>mean</th>\n",
       "      <td>446.000000</td>\n",
       "      <td>0.383838</td>\n",
       "      <td>2.308642</td>\n",
       "      <td>29.699118</td>\n",
       "      <td>0.523008</td>\n",
       "      <td>0.381594</td>\n",
       "      <td>32.204208</td>\n",
       "    </tr>\n",
       "    <tr>\n",
       "      <th>std</th>\n",
       "      <td>257.353842</td>\n",
       "      <td>0.486592</td>\n",
       "      <td>0.836071</td>\n",
       "      <td>14.526497</td>\n",
       "      <td>1.102743</td>\n",
       "      <td>0.806057</td>\n",
       "      <td>49.693429</td>\n",
       "    </tr>\n",
       "    <tr>\n",
       "      <th>min</th>\n",
       "      <td>1.000000</td>\n",
       "      <td>0.000000</td>\n",
       "      <td>1.000000</td>\n",
       "      <td>0.420000</td>\n",
       "      <td>0.000000</td>\n",
       "      <td>0.000000</td>\n",
       "      <td>0.000000</td>\n",
       "    </tr>\n",
       "    <tr>\n",
       "      <th>25%</th>\n",
       "      <td>223.500000</td>\n",
       "      <td>0.000000</td>\n",
       "      <td>2.000000</td>\n",
       "      <td>20.125000</td>\n",
       "      <td>0.000000</td>\n",
       "      <td>0.000000</td>\n",
       "      <td>7.910400</td>\n",
       "    </tr>\n",
       "    <tr>\n",
       "      <th>50%</th>\n",
       "      <td>446.000000</td>\n",
       "      <td>0.000000</td>\n",
       "      <td>3.000000</td>\n",
       "      <td>28.000000</td>\n",
       "      <td>0.000000</td>\n",
       "      <td>0.000000</td>\n",
       "      <td>14.454200</td>\n",
       "    </tr>\n",
       "    <tr>\n",
       "      <th>75%</th>\n",
       "      <td>668.500000</td>\n",
       "      <td>1.000000</td>\n",
       "      <td>3.000000</td>\n",
       "      <td>38.000000</td>\n",
       "      <td>1.000000</td>\n",
       "      <td>0.000000</td>\n",
       "      <td>31.000000</td>\n",
       "    </tr>\n",
       "    <tr>\n",
       "      <th>max</th>\n",
       "      <td>891.000000</td>\n",
       "      <td>1.000000</td>\n",
       "      <td>3.000000</td>\n",
       "      <td>80.000000</td>\n",
       "      <td>8.000000</td>\n",
       "      <td>6.000000</td>\n",
       "      <td>512.329200</td>\n",
       "    </tr>\n",
       "  </tbody>\n",
       "</table>\n",
       "</div>"
      ],
      "text/plain": [
       "       PassengerId    Survived      Pclass         Age       SibSp  \\\n",
       "count   891.000000  891.000000  891.000000  714.000000  891.000000   \n",
       "mean    446.000000    0.383838    2.308642   29.699118    0.523008   \n",
       "std     257.353842    0.486592    0.836071   14.526497    1.102743   \n",
       "min       1.000000    0.000000    1.000000    0.420000    0.000000   \n",
       "25%     223.500000    0.000000    2.000000   20.125000    0.000000   \n",
       "50%     446.000000    0.000000    3.000000   28.000000    0.000000   \n",
       "75%     668.500000    1.000000    3.000000   38.000000    1.000000   \n",
       "max     891.000000    1.000000    3.000000   80.000000    8.000000   \n",
       "\n",
       "            Parch        Fare  \n",
       "count  891.000000  891.000000  \n",
       "mean     0.381594   32.204208  \n",
       "std      0.806057   49.693429  \n",
       "min      0.000000    0.000000  \n",
       "25%      0.000000    7.910400  \n",
       "50%      0.000000   14.454200  \n",
       "75%      0.000000   31.000000  \n",
       "max      6.000000  512.329200  "
      ]
     },
     "execution_count": 4,
     "metadata": {},
     "output_type": "execute_result"
    }
   ],
   "source": [
    "titanic.describe()"
   ]
  },
  {
   "cell_type": "code",
   "execution_count": 5,
   "metadata": {},
   "outputs": [
    {
     "data": {
      "text/html": [
       "<div>\n",
       "<style>\n",
       "    .dataframe thead tr:only-child th {\n",
       "        text-align: right;\n",
       "    }\n",
       "\n",
       "    .dataframe thead th {\n",
       "        text-align: left;\n",
       "    }\n",
       "\n",
       "    .dataframe tbody tr th {\n",
       "        vertical-align: top;\n",
       "    }\n",
       "</style>\n",
       "<table border=\"1\" class=\"dataframe\">\n",
       "  <thead>\n",
       "    <tr style=\"text-align: right;\">\n",
       "      <th></th>\n",
       "      <th>Survived</th>\n",
       "      <th>Pclass</th>\n",
       "      <th>Sex</th>\n",
       "      <th>Age</th>\n",
       "      <th>SibSp</th>\n",
       "      <th>Parch</th>\n",
       "      <th>Fare</th>\n",
       "      <th>Cabin</th>\n",
       "      <th>Embarked</th>\n",
       "    </tr>\n",
       "  </thead>\n",
       "  <tbody>\n",
       "    <tr>\n",
       "      <th>0</th>\n",
       "      <td>0</td>\n",
       "      <td>3</td>\n",
       "      <td>male</td>\n",
       "      <td>22.0</td>\n",
       "      <td>1</td>\n",
       "      <td>0</td>\n",
       "      <td>7.2500</td>\n",
       "      <td>NaN</td>\n",
       "      <td>S</td>\n",
       "    </tr>\n",
       "    <tr>\n",
       "      <th>1</th>\n",
       "      <td>1</td>\n",
       "      <td>1</td>\n",
       "      <td>female</td>\n",
       "      <td>38.0</td>\n",
       "      <td>1</td>\n",
       "      <td>0</td>\n",
       "      <td>71.2833</td>\n",
       "      <td>C85</td>\n",
       "      <td>C</td>\n",
       "    </tr>\n",
       "    <tr>\n",
       "      <th>2</th>\n",
       "      <td>1</td>\n",
       "      <td>3</td>\n",
       "      <td>female</td>\n",
       "      <td>26.0</td>\n",
       "      <td>0</td>\n",
       "      <td>0</td>\n",
       "      <td>7.9250</td>\n",
       "      <td>NaN</td>\n",
       "      <td>S</td>\n",
       "    </tr>\n",
       "    <tr>\n",
       "      <th>3</th>\n",
       "      <td>1</td>\n",
       "      <td>1</td>\n",
       "      <td>female</td>\n",
       "      <td>35.0</td>\n",
       "      <td>1</td>\n",
       "      <td>0</td>\n",
       "      <td>53.1000</td>\n",
       "      <td>C123</td>\n",
       "      <td>S</td>\n",
       "    </tr>\n",
       "    <tr>\n",
       "      <th>4</th>\n",
       "      <td>0</td>\n",
       "      <td>3</td>\n",
       "      <td>male</td>\n",
       "      <td>35.0</td>\n",
       "      <td>0</td>\n",
       "      <td>0</td>\n",
       "      <td>8.0500</td>\n",
       "      <td>NaN</td>\n",
       "      <td>S</td>\n",
       "    </tr>\n",
       "  </tbody>\n",
       "</table>\n",
       "</div>"
      ],
      "text/plain": [
       "   Survived  Pclass     Sex   Age  SibSp  Parch     Fare Cabin Embarked\n",
       "0         0       3    male  22.0      1      0   7.2500   NaN        S\n",
       "1         1       1  female  38.0      1      0  71.2833   C85        C\n",
       "2         1       3  female  26.0      0      0   7.9250   NaN        S\n",
       "3         1       1  female  35.0      1      0  53.1000  C123        S\n",
       "4         0       3    male  35.0      0      0   8.0500   NaN        S"
      ]
     },
     "execution_count": 5,
     "metadata": {},
     "output_type": "execute_result"
    }
   ],
   "source": [
    "titanicDF = titanic.iloc[:,(list(range(1,3)) + list(range(4,8)) + list(range(9,12)))]\n",
    "titanicDF.head()"
   ]
  },
  {
   "cell_type": "code",
   "execution_count": 6,
   "metadata": {},
   "outputs": [
    {
     "data": {
      "text/html": [
       "<div>\n",
       "<style>\n",
       "    .dataframe thead tr:only-child th {\n",
       "        text-align: right;\n",
       "    }\n",
       "\n",
       "    .dataframe thead th {\n",
       "        text-align: left;\n",
       "    }\n",
       "\n",
       "    .dataframe tbody tr th {\n",
       "        vertical-align: top;\n",
       "    }\n",
       "</style>\n",
       "<table border=\"1\" class=\"dataframe\">\n",
       "  <thead>\n",
       "    <tr style=\"text-align: right;\">\n",
       "      <th></th>\n",
       "      <th>Survived</th>\n",
       "      <th>Pclass</th>\n",
       "      <th>Age</th>\n",
       "      <th>SibSp</th>\n",
       "      <th>Parch</th>\n",
       "      <th>Fare</th>\n",
       "    </tr>\n",
       "  </thead>\n",
       "  <tbody>\n",
       "    <tr>\n",
       "      <th>Survived</th>\n",
       "      <td>1.000000</td>\n",
       "      <td>-0.338481</td>\n",
       "      <td>-0.077221</td>\n",
       "      <td>-0.035322</td>\n",
       "      <td>0.081629</td>\n",
       "      <td>0.257307</td>\n",
       "    </tr>\n",
       "    <tr>\n",
       "      <th>Pclass</th>\n",
       "      <td>-0.338481</td>\n",
       "      <td>1.000000</td>\n",
       "      <td>-0.369226</td>\n",
       "      <td>0.083081</td>\n",
       "      <td>0.018443</td>\n",
       "      <td>-0.549500</td>\n",
       "    </tr>\n",
       "    <tr>\n",
       "      <th>Age</th>\n",
       "      <td>-0.077221</td>\n",
       "      <td>-0.369226</td>\n",
       "      <td>1.000000</td>\n",
       "      <td>-0.308247</td>\n",
       "      <td>-0.189119</td>\n",
       "      <td>0.096067</td>\n",
       "    </tr>\n",
       "    <tr>\n",
       "      <th>SibSp</th>\n",
       "      <td>-0.035322</td>\n",
       "      <td>0.083081</td>\n",
       "      <td>-0.308247</td>\n",
       "      <td>1.000000</td>\n",
       "      <td>0.414838</td>\n",
       "      <td>0.159651</td>\n",
       "    </tr>\n",
       "    <tr>\n",
       "      <th>Parch</th>\n",
       "      <td>0.081629</td>\n",
       "      <td>0.018443</td>\n",
       "      <td>-0.189119</td>\n",
       "      <td>0.414838</td>\n",
       "      <td>1.000000</td>\n",
       "      <td>0.216225</td>\n",
       "    </tr>\n",
       "    <tr>\n",
       "      <th>Fare</th>\n",
       "      <td>0.257307</td>\n",
       "      <td>-0.549500</td>\n",
       "      <td>0.096067</td>\n",
       "      <td>0.159651</td>\n",
       "      <td>0.216225</td>\n",
       "      <td>1.000000</td>\n",
       "    </tr>\n",
       "  </tbody>\n",
       "</table>\n",
       "</div>"
      ],
      "text/plain": [
       "          Survived    Pclass       Age     SibSp     Parch      Fare\n",
       "Survived  1.000000 -0.338481 -0.077221 -0.035322  0.081629  0.257307\n",
       "Pclass   -0.338481  1.000000 -0.369226  0.083081  0.018443 -0.549500\n",
       "Age      -0.077221 -0.369226  1.000000 -0.308247 -0.189119  0.096067\n",
       "SibSp    -0.035322  0.083081 -0.308247  1.000000  0.414838  0.159651\n",
       "Parch     0.081629  0.018443 -0.189119  0.414838  1.000000  0.216225\n",
       "Fare      0.257307 -0.549500  0.096067  0.159651  0.216225  1.000000"
      ]
     },
     "execution_count": 6,
     "metadata": {},
     "output_type": "execute_result"
    }
   ],
   "source": [
    "titanicDF.corr()"
   ]
  },
  {
   "cell_type": "code",
   "execution_count": 7,
   "metadata": {},
   "outputs": [
    {
     "name": "stdout",
     "output_type": "stream",
     "text": [
      "<class 'pandas.core.frame.DataFrame'>\n",
      "RangeIndex: 891 entries, 0 to 890\n",
      "Data columns (total 9 columns):\n",
      "Survived    891 non-null int64\n",
      "Pclass      891 non-null int64\n",
      "Sex         891 non-null object\n",
      "Age         714 non-null float64\n",
      "SibSp       891 non-null int64\n",
      "Parch       891 non-null int64\n",
      "Fare        891 non-null float64\n",
      "Cabin       204 non-null object\n",
      "Embarked    889 non-null object\n",
      "dtypes: float64(2), int64(4), object(3)\n",
      "memory usage: 62.7+ KB\n"
     ]
    }
   ],
   "source": [
    "#Useful in finding missing values all at once in df\n",
    "titanicDF.info()"
   ]
  },
  {
   "cell_type": "code",
   "execution_count": 8,
   "metadata": {},
   "outputs": [
    {
     "name": "stdout",
     "output_type": "stream",
     "text": [
      "4\n"
     ]
    }
   ],
   "source": [
    "print (len(titanicDF.Embarked.unique()))"
   ]
  },
  {
   "cell_type": "code",
   "execution_count": 9,
   "metadata": {},
   "outputs": [
    {
     "name": "stdout",
     "output_type": "stream",
     "text": [
      "148\n"
     ]
    }
   ],
   "source": [
    "print (len(titanicDF.Cabin.unique()))"
   ]
  },
  {
   "cell_type": "code",
   "execution_count": 10,
   "metadata": {},
   "outputs": [
    {
     "name": "stdout",
     "output_type": "stream",
     "text": [
      "3\n"
     ]
    }
   ],
   "source": [
    "print (len(titanicDF.Pclass.unique()))"
   ]
  },
  {
   "cell_type": "code",
   "execution_count": 11,
   "metadata": {},
   "outputs": [
    {
     "name": "stdout",
     "output_type": "stream",
     "text": [
      "28.0\n"
     ]
    }
   ],
   "source": [
    "#Checking if age is normally distributed\n",
    "print (titanicDF.Age.median())"
   ]
  },
  {
   "cell_type": "code",
   "execution_count": 12,
   "metadata": {},
   "outputs": [
    {
     "name": "stdout",
     "output_type": "stream",
     "text": [
      "0    24.0\n",
      "dtype: float64\n"
     ]
    }
   ],
   "source": [
    "print (titanicDF.Age.mode())"
   ]
  },
  {
   "cell_type": "code",
   "execution_count": 13,
   "metadata": {},
   "outputs": [
    {
     "name": "stdout",
     "output_type": "stream",
     "text": [
      "0        B96 B98\n",
      "1    C23 C25 C27\n",
      "2             G6\n",
      "dtype: object\n"
     ]
    }
   ],
   "source": [
    "print (titanicDF.Cabin.mode())"
   ]
  },
  {
   "cell_type": "code",
   "execution_count": 14,
   "metadata": {},
   "outputs": [
    {
     "name": "stdout",
     "output_type": "stream",
     "text": [
      "0\n"
     ]
    }
   ],
   "source": [
    "print ((titanicDF.Fare.isnull().sum()))\n",
    "#No missing value in Fare"
   ]
  },
  {
   "cell_type": "code",
   "execution_count": 15,
   "metadata": {},
   "outputs": [
    {
     "data": {
      "text/html": [
       "<div>\n",
       "<style>\n",
       "    .dataframe thead tr:only-child th {\n",
       "        text-align: right;\n",
       "    }\n",
       "\n",
       "    .dataframe thead th {\n",
       "        text-align: left;\n",
       "    }\n",
       "\n",
       "    .dataframe tbody tr th {\n",
       "        vertical-align: top;\n",
       "    }\n",
       "</style>\n",
       "<table border=\"1\" class=\"dataframe\">\n",
       "  <thead>\n",
       "    <tr style=\"text-align: right;\">\n",
       "      <th></th>\n",
       "      <th>Survived</th>\n",
       "      <th>Pclass</th>\n",
       "      <th>Age</th>\n",
       "      <th>SibSp</th>\n",
       "      <th>Parch</th>\n",
       "      <th>Fare</th>\n",
       "    </tr>\n",
       "  </thead>\n",
       "  <tbody>\n",
       "    <tr>\n",
       "      <th>count</th>\n",
       "      <td>891.000000</td>\n",
       "      <td>891.000000</td>\n",
       "      <td>714.000000</td>\n",
       "      <td>891.000000</td>\n",
       "      <td>891.000000</td>\n",
       "      <td>891.000000</td>\n",
       "    </tr>\n",
       "    <tr>\n",
       "      <th>mean</th>\n",
       "      <td>0.383838</td>\n",
       "      <td>2.308642</td>\n",
       "      <td>29.699118</td>\n",
       "      <td>0.523008</td>\n",
       "      <td>0.381594</td>\n",
       "      <td>32.204208</td>\n",
       "    </tr>\n",
       "    <tr>\n",
       "      <th>std</th>\n",
       "      <td>0.486592</td>\n",
       "      <td>0.836071</td>\n",
       "      <td>14.526497</td>\n",
       "      <td>1.102743</td>\n",
       "      <td>0.806057</td>\n",
       "      <td>49.693429</td>\n",
       "    </tr>\n",
       "    <tr>\n",
       "      <th>min</th>\n",
       "      <td>0.000000</td>\n",
       "      <td>1.000000</td>\n",
       "      <td>0.420000</td>\n",
       "      <td>0.000000</td>\n",
       "      <td>0.000000</td>\n",
       "      <td>0.000000</td>\n",
       "    </tr>\n",
       "    <tr>\n",
       "      <th>25%</th>\n",
       "      <td>0.000000</td>\n",
       "      <td>2.000000</td>\n",
       "      <td>20.125000</td>\n",
       "      <td>0.000000</td>\n",
       "      <td>0.000000</td>\n",
       "      <td>7.910400</td>\n",
       "    </tr>\n",
       "    <tr>\n",
       "      <th>50%</th>\n",
       "      <td>0.000000</td>\n",
       "      <td>3.000000</td>\n",
       "      <td>28.000000</td>\n",
       "      <td>0.000000</td>\n",
       "      <td>0.000000</td>\n",
       "      <td>14.454200</td>\n",
       "    </tr>\n",
       "    <tr>\n",
       "      <th>75%</th>\n",
       "      <td>1.000000</td>\n",
       "      <td>3.000000</td>\n",
       "      <td>38.000000</td>\n",
       "      <td>1.000000</td>\n",
       "      <td>0.000000</td>\n",
       "      <td>31.000000</td>\n",
       "    </tr>\n",
       "    <tr>\n",
       "      <th>max</th>\n",
       "      <td>1.000000</td>\n",
       "      <td>3.000000</td>\n",
       "      <td>80.000000</td>\n",
       "      <td>8.000000</td>\n",
       "      <td>6.000000</td>\n",
       "      <td>512.329200</td>\n",
       "    </tr>\n",
       "  </tbody>\n",
       "</table>\n",
       "</div>"
      ],
      "text/plain": [
       "         Survived      Pclass         Age       SibSp       Parch        Fare\n",
       "count  891.000000  891.000000  714.000000  891.000000  891.000000  891.000000\n",
       "mean     0.383838    2.308642   29.699118    0.523008    0.381594   32.204208\n",
       "std      0.486592    0.836071   14.526497    1.102743    0.806057   49.693429\n",
       "min      0.000000    1.000000    0.420000    0.000000    0.000000    0.000000\n",
       "25%      0.000000    2.000000   20.125000    0.000000    0.000000    7.910400\n",
       "50%      0.000000    3.000000   28.000000    0.000000    0.000000   14.454200\n",
       "75%      1.000000    3.000000   38.000000    1.000000    0.000000   31.000000\n",
       "max      1.000000    3.000000   80.000000    8.000000    6.000000  512.329200"
      ]
     },
     "execution_count": 15,
     "metadata": {},
     "output_type": "execute_result"
    }
   ],
   "source": [
    "titanicDF.describe()"
   ]
  },
  {
   "cell_type": "code",
   "execution_count": 16,
   "metadata": {},
   "outputs": [
    {
     "name": "stdout",
     "output_type": "stream",
     "text": [
      "Survived       0\n",
      "Pclass         2\n",
      "Sex         male\n",
      "Age           66\n",
      "SibSp          0\n",
      "Parch          0\n",
      "Fare        10.5\n",
      "Cabin        NaN\n",
      "Embarked       S\n",
      "Name: 33, dtype: object\n"
     ]
    }
   ],
   "source": [
    "#get row at a particular index\n",
    "print (titanicDF.iloc[33])"
   ]
  },
  {
   "cell_type": "code",
   "execution_count": 17,
   "metadata": {},
   "outputs": [
    {
     "data": {
      "text/html": [
       "<div>\n",
       "<style>\n",
       "    .dataframe thead tr:only-child th {\n",
       "        text-align: right;\n",
       "    }\n",
       "\n",
       "    .dataframe thead th {\n",
       "        text-align: left;\n",
       "    }\n",
       "\n",
       "    .dataframe tbody tr th {\n",
       "        vertical-align: top;\n",
       "    }\n",
       "</style>\n",
       "<table border=\"1\" class=\"dataframe\">\n",
       "  <thead>\n",
       "    <tr style=\"text-align: right;\">\n",
       "      <th></th>\n",
       "      <th>Survived</th>\n",
       "      <th>Pclass</th>\n",
       "      <th>Sex</th>\n",
       "      <th>Age</th>\n",
       "      <th>SibSp</th>\n",
       "      <th>Parch</th>\n",
       "      <th>Fare</th>\n",
       "      <th>Cabin</th>\n",
       "      <th>Embarked</th>\n",
       "    </tr>\n",
       "  </thead>\n",
       "  <tbody>\n",
       "    <tr>\n",
       "      <th>33</th>\n",
       "      <td>0</td>\n",
       "      <td>2</td>\n",
       "      <td>male</td>\n",
       "      <td>66.0</td>\n",
       "      <td>0</td>\n",
       "      <td>0</td>\n",
       "      <td>10.5000</td>\n",
       "      <td>NaN</td>\n",
       "      <td>S</td>\n",
       "    </tr>\n",
       "    <tr>\n",
       "      <th>96</th>\n",
       "      <td>0</td>\n",
       "      <td>1</td>\n",
       "      <td>male</td>\n",
       "      <td>71.0</td>\n",
       "      <td>0</td>\n",
       "      <td>0</td>\n",
       "      <td>34.6542</td>\n",
       "      <td>A5</td>\n",
       "      <td>C</td>\n",
       "    </tr>\n",
       "    <tr>\n",
       "      <th>116</th>\n",
       "      <td>0</td>\n",
       "      <td>3</td>\n",
       "      <td>male</td>\n",
       "      <td>70.5</td>\n",
       "      <td>0</td>\n",
       "      <td>0</td>\n",
       "      <td>7.7500</td>\n",
       "      <td>NaN</td>\n",
       "      <td>Q</td>\n",
       "    </tr>\n",
       "    <tr>\n",
       "      <th>493</th>\n",
       "      <td>0</td>\n",
       "      <td>1</td>\n",
       "      <td>male</td>\n",
       "      <td>71.0</td>\n",
       "      <td>0</td>\n",
       "      <td>0</td>\n",
       "      <td>49.5042</td>\n",
       "      <td>NaN</td>\n",
       "      <td>C</td>\n",
       "    </tr>\n",
       "    <tr>\n",
       "      <th>630</th>\n",
       "      <td>1</td>\n",
       "      <td>1</td>\n",
       "      <td>male</td>\n",
       "      <td>80.0</td>\n",
       "      <td>0</td>\n",
       "      <td>0</td>\n",
       "      <td>30.0000</td>\n",
       "      <td>A23</td>\n",
       "      <td>S</td>\n",
       "    </tr>\n",
       "    <tr>\n",
       "      <th>672</th>\n",
       "      <td>0</td>\n",
       "      <td>2</td>\n",
       "      <td>male</td>\n",
       "      <td>70.0</td>\n",
       "      <td>0</td>\n",
       "      <td>0</td>\n",
       "      <td>10.5000</td>\n",
       "      <td>NaN</td>\n",
       "      <td>S</td>\n",
       "    </tr>\n",
       "    <tr>\n",
       "      <th>745</th>\n",
       "      <td>0</td>\n",
       "      <td>1</td>\n",
       "      <td>male</td>\n",
       "      <td>70.0</td>\n",
       "      <td>1</td>\n",
       "      <td>1</td>\n",
       "      <td>71.0000</td>\n",
       "      <td>B22</td>\n",
       "      <td>S</td>\n",
       "    </tr>\n",
       "    <tr>\n",
       "      <th>851</th>\n",
       "      <td>0</td>\n",
       "      <td>3</td>\n",
       "      <td>male</td>\n",
       "      <td>74.0</td>\n",
       "      <td>0</td>\n",
       "      <td>0</td>\n",
       "      <td>7.7750</td>\n",
       "      <td>NaN</td>\n",
       "      <td>S</td>\n",
       "    </tr>\n",
       "  </tbody>\n",
       "</table>\n",
       "</div>"
      ],
      "text/plain": [
       "     Survived  Pclass   Sex   Age  SibSp  Parch     Fare Cabin Embarked\n",
       "33          0       2  male  66.0      0      0  10.5000   NaN        S\n",
       "96          0       1  male  71.0      0      0  34.6542    A5        C\n",
       "116         0       3  male  70.5      0      0   7.7500   NaN        Q\n",
       "493         0       1  male  71.0      0      0  49.5042   NaN        C\n",
       "630         1       1  male  80.0      0      0  30.0000   A23        S\n",
       "672         0       2  male  70.0      0      0  10.5000   NaN        S\n",
       "745         0       1  male  70.0      1      1  71.0000   B22        S\n",
       "851         0       3  male  74.0      0      0   7.7750   NaN        S"
      ]
     },
     "execution_count": 17,
     "metadata": {},
     "output_type": "execute_result"
    }
   ],
   "source": [
    "#Outlier treatment\n",
    "age_99 = titanicDF.Age.quantile(0.99)\n",
    "list1 = titanicDF[(titanicDF['Age']>age_99)].Age.index\n",
    "titanicDF.iloc[list1]\n",
    "#for i in titanicDF[(titanicDF['Age']>=age_99)].Age.index:\n",
    "#titanicDF1 = titanicDF.drop(titanicDF.index[titanicDF[(titanicDF['Age']>age_99)].Age.index]).copy()\n",
    "#titanicDF.drop(titanicDF.index[titanicDF[(titanicDF['Age']>age_99)].Age.index])\n",
    "#titanicDF1.reset_index()\n",
    "#titanicDF.reset_index()\n"
   ]
  },
  {
   "cell_type": "code",
   "execution_count": 18,
   "metadata": {
    "collapsed": true
   },
   "outputs": [],
   "source": [
    "from scipy import stats"
   ]
  },
  {
   "cell_type": "code",
   "execution_count": 19,
   "metadata": {
    "collapsed": true
   },
   "outputs": [],
   "source": [
    "#tDF = titanicDF[(np.abs(stats.zscore(titanicDF)) < 3).all(axis=1)]\n",
    "#tDF.describe()"
   ]
  },
  {
   "cell_type": "code",
   "execution_count": 20,
   "metadata": {
    "collapsed": true
   },
   "outputs": [],
   "source": [
    "#MIssing value treatment\n",
    "from sklearn.preprocessing import Imputer"
   ]
  },
  {
   "cell_type": "code",
   "execution_count": 21,
   "metadata": {},
   "outputs": [
    {
     "name": "stderr",
     "output_type": "stream",
     "text": [
      "C:\\Users\\harsmoha\\Anaconda3\\lib\\site-packages\\ipykernel_launcher.py:2: FutureWarning: reshape is deprecated and will raise in a subsequent release. Please use .values.reshape(...) instead\n",
      "  \n",
      "C:\\Users\\harsmoha\\Anaconda3\\lib\\site-packages\\ipykernel_launcher.py:3: SettingWithCopyWarning: \n",
      "A value is trying to be set on a copy of a slice from a DataFrame.\n",
      "Try using .loc[row_indexer,col_indexer] = value instead\n",
      "\n",
      "See the caveats in the documentation: http://pandas.pydata.org/pandas-docs/stable/indexing.html#indexing-view-versus-copy\n",
      "  This is separate from the ipykernel package so we can avoid doing imports until\n"
     ]
    },
    {
     "data": {
      "text/html": [
       "<div>\n",
       "<style>\n",
       "    .dataframe thead tr:only-child th {\n",
       "        text-align: right;\n",
       "    }\n",
       "\n",
       "    .dataframe thead th {\n",
       "        text-align: left;\n",
       "    }\n",
       "\n",
       "    .dataframe tbody tr th {\n",
       "        vertical-align: top;\n",
       "    }\n",
       "</style>\n",
       "<table border=\"1\" class=\"dataframe\">\n",
       "  <thead>\n",
       "    <tr style=\"text-align: right;\">\n",
       "      <th></th>\n",
       "      <th>Survived</th>\n",
       "      <th>Pclass</th>\n",
       "      <th>Sex</th>\n",
       "      <th>Age</th>\n",
       "      <th>SibSp</th>\n",
       "      <th>Parch</th>\n",
       "      <th>Fare</th>\n",
       "      <th>Cabin</th>\n",
       "      <th>Embarked</th>\n",
       "    </tr>\n",
       "  </thead>\n",
       "  <tbody>\n",
       "    <tr>\n",
       "      <th>0</th>\n",
       "      <td>0</td>\n",
       "      <td>3</td>\n",
       "      <td>male</td>\n",
       "      <td>22.0</td>\n",
       "      <td>1</td>\n",
       "      <td>0</td>\n",
       "      <td>7.2500</td>\n",
       "      <td>NaN</td>\n",
       "      <td>S</td>\n",
       "    </tr>\n",
       "    <tr>\n",
       "      <th>1</th>\n",
       "      <td>1</td>\n",
       "      <td>1</td>\n",
       "      <td>female</td>\n",
       "      <td>38.0</td>\n",
       "      <td>1</td>\n",
       "      <td>0</td>\n",
       "      <td>71.2833</td>\n",
       "      <td>C85</td>\n",
       "      <td>C</td>\n",
       "    </tr>\n",
       "    <tr>\n",
       "      <th>2</th>\n",
       "      <td>1</td>\n",
       "      <td>3</td>\n",
       "      <td>female</td>\n",
       "      <td>26.0</td>\n",
       "      <td>0</td>\n",
       "      <td>0</td>\n",
       "      <td>7.9250</td>\n",
       "      <td>NaN</td>\n",
       "      <td>S</td>\n",
       "    </tr>\n",
       "    <tr>\n",
       "      <th>3</th>\n",
       "      <td>1</td>\n",
       "      <td>1</td>\n",
       "      <td>female</td>\n",
       "      <td>35.0</td>\n",
       "      <td>1</td>\n",
       "      <td>0</td>\n",
       "      <td>53.1000</td>\n",
       "      <td>C123</td>\n",
       "      <td>S</td>\n",
       "    </tr>\n",
       "    <tr>\n",
       "      <th>4</th>\n",
       "      <td>0</td>\n",
       "      <td>3</td>\n",
       "      <td>male</td>\n",
       "      <td>35.0</td>\n",
       "      <td>0</td>\n",
       "      <td>0</td>\n",
       "      <td>8.0500</td>\n",
       "      <td>NaN</td>\n",
       "      <td>S</td>\n",
       "    </tr>\n",
       "    <tr>\n",
       "      <th>5</th>\n",
       "      <td>0</td>\n",
       "      <td>3</td>\n",
       "      <td>male</td>\n",
       "      <td>28.0</td>\n",
       "      <td>0</td>\n",
       "      <td>0</td>\n",
       "      <td>8.4583</td>\n",
       "      <td>NaN</td>\n",
       "      <td>Q</td>\n",
       "    </tr>\n",
       "    <tr>\n",
       "      <th>6</th>\n",
       "      <td>0</td>\n",
       "      <td>1</td>\n",
       "      <td>male</td>\n",
       "      <td>54.0</td>\n",
       "      <td>0</td>\n",
       "      <td>0</td>\n",
       "      <td>51.8625</td>\n",
       "      <td>E46</td>\n",
       "      <td>S</td>\n",
       "    </tr>\n",
       "    <tr>\n",
       "      <th>7</th>\n",
       "      <td>0</td>\n",
       "      <td>3</td>\n",
       "      <td>male</td>\n",
       "      <td>2.0</td>\n",
       "      <td>3</td>\n",
       "      <td>1</td>\n",
       "      <td>21.0750</td>\n",
       "      <td>NaN</td>\n",
       "      <td>S</td>\n",
       "    </tr>\n",
       "    <tr>\n",
       "      <th>8</th>\n",
       "      <td>1</td>\n",
       "      <td>3</td>\n",
       "      <td>female</td>\n",
       "      <td>27.0</td>\n",
       "      <td>0</td>\n",
       "      <td>2</td>\n",
       "      <td>11.1333</td>\n",
       "      <td>NaN</td>\n",
       "      <td>S</td>\n",
       "    </tr>\n",
       "    <tr>\n",
       "      <th>9</th>\n",
       "      <td>1</td>\n",
       "      <td>2</td>\n",
       "      <td>female</td>\n",
       "      <td>14.0</td>\n",
       "      <td>1</td>\n",
       "      <td>0</td>\n",
       "      <td>30.0708</td>\n",
       "      <td>NaN</td>\n",
       "      <td>C</td>\n",
       "    </tr>\n",
       "  </tbody>\n",
       "</table>\n",
       "</div>"
      ],
      "text/plain": [
       "   Survived  Pclass     Sex   Age  SibSp  Parch     Fare Cabin Embarked\n",
       "0         0       3    male  22.0      1      0   7.2500   NaN        S\n",
       "1         1       1  female  38.0      1      0  71.2833   C85        C\n",
       "2         1       3  female  26.0      0      0   7.9250   NaN        S\n",
       "3         1       1  female  35.0      1      0  53.1000  C123        S\n",
       "4         0       3    male  35.0      0      0   8.0500   NaN        S\n",
       "5         0       3    male  28.0      0      0   8.4583   NaN        Q\n",
       "6         0       1    male  54.0      0      0  51.8625   E46        S\n",
       "7         0       3    male   2.0      3      1  21.0750   NaN        S\n",
       "8         1       3  female  27.0      0      2  11.1333   NaN        S\n",
       "9         1       2  female  14.0      1      0  30.0708   NaN        C"
      ]
     },
     "execution_count": 21,
     "metadata": {},
     "output_type": "execute_result"
    }
   ],
   "source": [
    "imp = Imputer(axis=0,strategy='median',missing_values='NaN')\n",
    "temp = imp.fit_transform(titanicDF.Age.reshape(-1,1))\n",
    "titanicDF['Age'] = temp\n",
    "titanicDF.head(10)"
   ]
  },
  {
   "cell_type": "code",
   "execution_count": 22,
   "metadata": {},
   "outputs": [
    {
     "data": {
      "text/html": [
       "<div>\n",
       "<style>\n",
       "    .dataframe thead tr:only-child th {\n",
       "        text-align: right;\n",
       "    }\n",
       "\n",
       "    .dataframe thead th {\n",
       "        text-align: left;\n",
       "    }\n",
       "\n",
       "    .dataframe tbody tr th {\n",
       "        vertical-align: top;\n",
       "    }\n",
       "</style>\n",
       "<table border=\"1\" class=\"dataframe\">\n",
       "  <thead>\n",
       "    <tr style=\"text-align: right;\">\n",
       "      <th></th>\n",
       "      <th>Survived</th>\n",
       "      <th>Pclass</th>\n",
       "      <th>Age</th>\n",
       "      <th>SibSp</th>\n",
       "      <th>Parch</th>\n",
       "      <th>Fare</th>\n",
       "    </tr>\n",
       "  </thead>\n",
       "  <tbody>\n",
       "    <tr>\n",
       "      <th>count</th>\n",
       "      <td>883.000000</td>\n",
       "      <td>883.000000</td>\n",
       "      <td>883.000000</td>\n",
       "      <td>883.000000</td>\n",
       "      <td>883.000000</td>\n",
       "      <td>883.000000</td>\n",
       "    </tr>\n",
       "    <tr>\n",
       "      <th>mean</th>\n",
       "      <td>0.386183</td>\n",
       "      <td>2.313703</td>\n",
       "      <td>28.979241</td>\n",
       "      <td>0.526614</td>\n",
       "      <td>0.383918</td>\n",
       "      <td>32.244922</td>\n",
       "    </tr>\n",
       "    <tr>\n",
       "      <th>std</th>\n",
       "      <td>0.487149</td>\n",
       "      <td>0.834424</td>\n",
       "      <td>12.434636</td>\n",
       "      <td>1.106630</td>\n",
       "      <td>0.808719</td>\n",
       "      <td>49.873367</td>\n",
       "    </tr>\n",
       "    <tr>\n",
       "      <th>min</th>\n",
       "      <td>0.000000</td>\n",
       "      <td>1.000000</td>\n",
       "      <td>0.420000</td>\n",
       "      <td>0.000000</td>\n",
       "      <td>0.000000</td>\n",
       "      <td>0.000000</td>\n",
       "    </tr>\n",
       "    <tr>\n",
       "      <th>25%</th>\n",
       "      <td>0.000000</td>\n",
       "      <td>2.000000</td>\n",
       "      <td>22.000000</td>\n",
       "      <td>0.000000</td>\n",
       "      <td>0.000000</td>\n",
       "      <td>7.910400</td>\n",
       "    </tr>\n",
       "    <tr>\n",
       "      <th>50%</th>\n",
       "      <td>0.000000</td>\n",
       "      <td>3.000000</td>\n",
       "      <td>28.000000</td>\n",
       "      <td>0.000000</td>\n",
       "      <td>0.000000</td>\n",
       "      <td>14.454200</td>\n",
       "    </tr>\n",
       "    <tr>\n",
       "      <th>75%</th>\n",
       "      <td>1.000000</td>\n",
       "      <td>3.000000</td>\n",
       "      <td>35.000000</td>\n",
       "      <td>1.000000</td>\n",
       "      <td>0.000000</td>\n",
       "      <td>31.000000</td>\n",
       "    </tr>\n",
       "    <tr>\n",
       "      <th>max</th>\n",
       "      <td>1.000000</td>\n",
       "      <td>3.000000</td>\n",
       "      <td>65.000000</td>\n",
       "      <td>8.000000</td>\n",
       "      <td>6.000000</td>\n",
       "      <td>512.329200</td>\n",
       "    </tr>\n",
       "  </tbody>\n",
       "</table>\n",
       "</div>"
      ],
      "text/plain": [
       "         Survived      Pclass         Age       SibSp       Parch        Fare\n",
       "count  883.000000  883.000000  883.000000  883.000000  883.000000  883.000000\n",
       "mean     0.386183    2.313703   28.979241    0.526614    0.383918   32.244922\n",
       "std      0.487149    0.834424   12.434636    1.106630    0.808719   49.873367\n",
       "min      0.000000    1.000000    0.420000    0.000000    0.000000    0.000000\n",
       "25%      0.000000    2.000000   22.000000    0.000000    0.000000    7.910400\n",
       "50%      0.000000    3.000000   28.000000    0.000000    0.000000   14.454200\n",
       "75%      1.000000    3.000000   35.000000    1.000000    0.000000   31.000000\n",
       "max      1.000000    3.000000   65.000000    8.000000    6.000000  512.329200"
      ]
     },
     "execution_count": 22,
     "metadata": {},
     "output_type": "execute_result"
    }
   ],
   "source": [
    "#titanicDF1 = titanicDF.drop(titanicDF.index[titanicDF[(titanicDF['Age']>age_99)].Age.index]).copy()\n",
    "#titanicDF1 = titanicDF.drop(titanicDF.index[titanicDF[(titanicDF['Age']>age_99)].Age.index])\n",
    "#titanicDF1 = titanicDF.iloc[titanicDF.index[titanicDF[(titanicDF['Age']<=age_99)].Age.index]]\n",
    "titanicDF1 = titanicDF[(titanicDF['Age']<=age_99)]\n",
    "#titanicDF1.iloc[list1]\n",
    "titanicDF1.describe()"
   ]
  },
  {
   "cell_type": "code",
   "execution_count": 23,
   "metadata": {},
   "outputs": [
    {
     "data": {
      "text/html": [
       "<div>\n",
       "<style>\n",
       "    .dataframe thead tr:only-child th {\n",
       "        text-align: right;\n",
       "    }\n",
       "\n",
       "    .dataframe thead th {\n",
       "        text-align: left;\n",
       "    }\n",
       "\n",
       "    .dataframe tbody tr th {\n",
       "        vertical-align: top;\n",
       "    }\n",
       "</style>\n",
       "<table border=\"1\" class=\"dataframe\">\n",
       "  <thead>\n",
       "    <tr style=\"text-align: right;\">\n",
       "      <th></th>\n",
       "      <th>Survived</th>\n",
       "      <th>Pclass</th>\n",
       "      <th>Sex</th>\n",
       "      <th>Age</th>\n",
       "      <th>SibSp</th>\n",
       "      <th>Parch</th>\n",
       "      <th>Fare</th>\n",
       "      <th>Cabin</th>\n",
       "      <th>Embarked</th>\n",
       "    </tr>\n",
       "  </thead>\n",
       "  <tbody>\n",
       "    <tr>\n",
       "      <th>886</th>\n",
       "      <td>0</td>\n",
       "      <td>2</td>\n",
       "      <td>male</td>\n",
       "      <td>27.0</td>\n",
       "      <td>0</td>\n",
       "      <td>0</td>\n",
       "      <td>13.00</td>\n",
       "      <td>NaN</td>\n",
       "      <td>S</td>\n",
       "    </tr>\n",
       "    <tr>\n",
       "      <th>887</th>\n",
       "      <td>1</td>\n",
       "      <td>1</td>\n",
       "      <td>female</td>\n",
       "      <td>19.0</td>\n",
       "      <td>0</td>\n",
       "      <td>0</td>\n",
       "      <td>30.00</td>\n",
       "      <td>B42</td>\n",
       "      <td>S</td>\n",
       "    </tr>\n",
       "    <tr>\n",
       "      <th>888</th>\n",
       "      <td>0</td>\n",
       "      <td>3</td>\n",
       "      <td>female</td>\n",
       "      <td>28.0</td>\n",
       "      <td>1</td>\n",
       "      <td>2</td>\n",
       "      <td>23.45</td>\n",
       "      <td>NaN</td>\n",
       "      <td>S</td>\n",
       "    </tr>\n",
       "    <tr>\n",
       "      <th>889</th>\n",
       "      <td>1</td>\n",
       "      <td>1</td>\n",
       "      <td>male</td>\n",
       "      <td>26.0</td>\n",
       "      <td>0</td>\n",
       "      <td>0</td>\n",
       "      <td>30.00</td>\n",
       "      <td>C148</td>\n",
       "      <td>C</td>\n",
       "    </tr>\n",
       "    <tr>\n",
       "      <th>890</th>\n",
       "      <td>0</td>\n",
       "      <td>3</td>\n",
       "      <td>male</td>\n",
       "      <td>32.0</td>\n",
       "      <td>0</td>\n",
       "      <td>0</td>\n",
       "      <td>7.75</td>\n",
       "      <td>NaN</td>\n",
       "      <td>Q</td>\n",
       "    </tr>\n",
       "  </tbody>\n",
       "</table>\n",
       "</div>"
      ],
      "text/plain": [
       "     Survived  Pclass     Sex   Age  SibSp  Parch   Fare Cabin Embarked\n",
       "886         0       2    male  27.0      0      0  13.00   NaN        S\n",
       "887         1       1  female  19.0      0      0  30.00   B42        S\n",
       "888         0       3  female  28.0      1      2  23.45   NaN        S\n",
       "889         1       1    male  26.0      0      0  30.00  C148        C\n",
       "890         0       3    male  32.0      0      0   7.75   NaN        Q"
      ]
     },
     "execution_count": 23,
     "metadata": {},
     "output_type": "execute_result"
    }
   ],
   "source": [
    "titanicDF1.tail()"
   ]
  },
  {
   "cell_type": "code",
   "execution_count": 24,
   "metadata": {},
   "outputs": [
    {
     "data": {
      "text/html": [
       "<div>\n",
       "<style>\n",
       "    .dataframe thead tr:only-child th {\n",
       "        text-align: right;\n",
       "    }\n",
       "\n",
       "    .dataframe thead th {\n",
       "        text-align: left;\n",
       "    }\n",
       "\n",
       "    .dataframe tbody tr th {\n",
       "        vertical-align: top;\n",
       "    }\n",
       "</style>\n",
       "<table border=\"1\" class=\"dataframe\">\n",
       "  <thead>\n",
       "    <tr style=\"text-align: right;\">\n",
       "      <th></th>\n",
       "      <th>Survived</th>\n",
       "      <th>Pclass</th>\n",
       "      <th>Age</th>\n",
       "      <th>SibSp</th>\n",
       "      <th>Parch</th>\n",
       "      <th>Fare</th>\n",
       "    </tr>\n",
       "  </thead>\n",
       "  <tbody>\n",
       "    <tr>\n",
       "      <th>count</th>\n",
       "      <td>876.000000</td>\n",
       "      <td>876.000000</td>\n",
       "      <td>876.000000</td>\n",
       "      <td>876.000000</td>\n",
       "      <td>876.000000</td>\n",
       "      <td>876.000000</td>\n",
       "    </tr>\n",
       "    <tr>\n",
       "      <th>mean</th>\n",
       "      <td>0.389269</td>\n",
       "      <td>2.308219</td>\n",
       "      <td>28.987066</td>\n",
       "      <td>0.466895</td>\n",
       "      <td>0.371005</td>\n",
       "      <td>31.946822</td>\n",
       "    </tr>\n",
       "    <tr>\n",
       "      <th>std</th>\n",
       "      <td>0.487863</td>\n",
       "      <td>0.835485</td>\n",
       "      <td>12.483965</td>\n",
       "      <td>0.885464</td>\n",
       "      <td>0.798873</td>\n",
       "      <td>49.960277</td>\n",
       "    </tr>\n",
       "    <tr>\n",
       "      <th>min</th>\n",
       "      <td>0.000000</td>\n",
       "      <td>1.000000</td>\n",
       "      <td>0.420000</td>\n",
       "      <td>0.000000</td>\n",
       "      <td>0.000000</td>\n",
       "      <td>0.000000</td>\n",
       "    </tr>\n",
       "    <tr>\n",
       "      <th>25%</th>\n",
       "      <td>0.000000</td>\n",
       "      <td>2.000000</td>\n",
       "      <td>22.000000</td>\n",
       "      <td>0.000000</td>\n",
       "      <td>0.000000</td>\n",
       "      <td>7.895800</td>\n",
       "    </tr>\n",
       "    <tr>\n",
       "      <th>50%</th>\n",
       "      <td>0.000000</td>\n",
       "      <td>3.000000</td>\n",
       "      <td>28.000000</td>\n",
       "      <td>0.000000</td>\n",
       "      <td>0.000000</td>\n",
       "      <td>14.454200</td>\n",
       "    </tr>\n",
       "    <tr>\n",
       "      <th>75%</th>\n",
       "      <td>1.000000</td>\n",
       "      <td>3.000000</td>\n",
       "      <td>35.000000</td>\n",
       "      <td>1.000000</td>\n",
       "      <td>0.000000</td>\n",
       "      <td>30.500000</td>\n",
       "    </tr>\n",
       "    <tr>\n",
       "      <th>max</th>\n",
       "      <td>1.000000</td>\n",
       "      <td>3.000000</td>\n",
       "      <td>65.000000</td>\n",
       "      <td>5.000000</td>\n",
       "      <td>6.000000</td>\n",
       "      <td>512.329200</td>\n",
       "    </tr>\n",
       "  </tbody>\n",
       "</table>\n",
       "</div>"
      ],
      "text/plain": [
       "         Survived      Pclass         Age       SibSp       Parch        Fare\n",
       "count  876.000000  876.000000  876.000000  876.000000  876.000000  876.000000\n",
       "mean     0.389269    2.308219   28.987066    0.466895    0.371005   31.946822\n",
       "std      0.487863    0.835485   12.483965    0.885464    0.798873   49.960277\n",
       "min      0.000000    1.000000    0.420000    0.000000    0.000000    0.000000\n",
       "25%      0.000000    2.000000   22.000000    0.000000    0.000000    7.895800\n",
       "50%      0.000000    3.000000   28.000000    0.000000    0.000000   14.454200\n",
       "75%      1.000000    3.000000   35.000000    1.000000    0.000000   30.500000\n",
       "max      1.000000    3.000000   65.000000    5.000000    6.000000  512.329200"
      ]
     },
     "execution_count": 24,
     "metadata": {},
     "output_type": "execute_result"
    }
   ],
   "source": [
    "#titanicDF1.reset_index()\n",
    "sibsp_99 = titanicDF1.SibSp.quantile(0.99)\n",
    "titanicDF2 = titanicDF1[(titanicDF1['SibSp']<=sibsp_99)]\n",
    "#titanicDF2 = titanicDF1.iloc[titanicDF1.index[titanicDF1[(titanicDF1['SibSp']<=sibsp_99)].SibSp.index]]\n",
    "titanicDF2.describe()"
   ]
  },
  {
   "cell_type": "code",
   "execution_count": 25,
   "metadata": {},
   "outputs": [
    {
     "data": {
      "text/html": [
       "<div>\n",
       "<style>\n",
       "    .dataframe thead tr:only-child th {\n",
       "        text-align: right;\n",
       "    }\n",
       "\n",
       "    .dataframe thead th {\n",
       "        text-align: left;\n",
       "    }\n",
       "\n",
       "    .dataframe tbody tr th {\n",
       "        vertical-align: top;\n",
       "    }\n",
       "</style>\n",
       "<table border=\"1\" class=\"dataframe\">\n",
       "  <thead>\n",
       "    <tr style=\"text-align: right;\">\n",
       "      <th></th>\n",
       "      <th>Survived</th>\n",
       "      <th>Pclass</th>\n",
       "      <th>Age</th>\n",
       "      <th>SibSp</th>\n",
       "      <th>Parch</th>\n",
       "      <th>Fare</th>\n",
       "    </tr>\n",
       "  </thead>\n",
       "  <tbody>\n",
       "    <tr>\n",
       "      <th>count</th>\n",
       "      <td>870.000000</td>\n",
       "      <td>870.000000</td>\n",
       "      <td>870.000000</td>\n",
       "      <td>870.000000</td>\n",
       "      <td>870.000000</td>\n",
       "      <td>870.000000</td>\n",
       "    </tr>\n",
       "    <tr>\n",
       "      <th>mean</th>\n",
       "      <td>0.390805</td>\n",
       "      <td>2.303448</td>\n",
       "      <td>28.912264</td>\n",
       "      <td>0.465517</td>\n",
       "      <td>0.337931</td>\n",
       "      <td>31.926168</td>\n",
       "    </tr>\n",
       "    <tr>\n",
       "      <th>std</th>\n",
       "      <td>0.488211</td>\n",
       "      <td>0.836378</td>\n",
       "      <td>12.493527</td>\n",
       "      <td>0.887495</td>\n",
       "      <td>0.694088</td>\n",
       "      <td>50.129092</td>\n",
       "    </tr>\n",
       "    <tr>\n",
       "      <th>min</th>\n",
       "      <td>0.000000</td>\n",
       "      <td>1.000000</td>\n",
       "      <td>0.420000</td>\n",
       "      <td>0.000000</td>\n",
       "      <td>0.000000</td>\n",
       "      <td>0.000000</td>\n",
       "    </tr>\n",
       "    <tr>\n",
       "      <th>25%</th>\n",
       "      <td>0.000000</td>\n",
       "      <td>2.000000</td>\n",
       "      <td>22.000000</td>\n",
       "      <td>0.000000</td>\n",
       "      <td>0.000000</td>\n",
       "      <td>7.895800</td>\n",
       "    </tr>\n",
       "    <tr>\n",
       "      <th>50%</th>\n",
       "      <td>0.000000</td>\n",
       "      <td>3.000000</td>\n",
       "      <td>28.000000</td>\n",
       "      <td>0.000000</td>\n",
       "      <td>0.000000</td>\n",
       "      <td>14.400000</td>\n",
       "    </tr>\n",
       "    <tr>\n",
       "      <th>75%</th>\n",
       "      <td>1.000000</td>\n",
       "      <td>3.000000</td>\n",
       "      <td>35.000000</td>\n",
       "      <td>1.000000</td>\n",
       "      <td>0.000000</td>\n",
       "      <td>30.070800</td>\n",
       "    </tr>\n",
       "    <tr>\n",
       "      <th>max</th>\n",
       "      <td>1.000000</td>\n",
       "      <td>3.000000</td>\n",
       "      <td>65.000000</td>\n",
       "      <td>5.000000</td>\n",
       "      <td>4.000000</td>\n",
       "      <td>512.329200</td>\n",
       "    </tr>\n",
       "  </tbody>\n",
       "</table>\n",
       "</div>"
      ],
      "text/plain": [
       "         Survived      Pclass         Age       SibSp       Parch        Fare\n",
       "count  870.000000  870.000000  870.000000  870.000000  870.000000  870.000000\n",
       "mean     0.390805    2.303448   28.912264    0.465517    0.337931   31.926168\n",
       "std      0.488211    0.836378   12.493527    0.887495    0.694088   50.129092\n",
       "min      0.000000    1.000000    0.420000    0.000000    0.000000    0.000000\n",
       "25%      0.000000    2.000000   22.000000    0.000000    0.000000    7.895800\n",
       "50%      0.000000    3.000000   28.000000    0.000000    0.000000   14.400000\n",
       "75%      1.000000    3.000000   35.000000    1.000000    0.000000   30.070800\n",
       "max      1.000000    3.000000   65.000000    5.000000    4.000000  512.329200"
      ]
     },
     "execution_count": 25,
     "metadata": {},
     "output_type": "execute_result"
    }
   ],
   "source": [
    "#titanicDF2.reset_index()\n",
    "parch_99 = titanicDF2.Parch.quantile(0.99)\n",
    "titanicDF3 = titanicDF2[(titanicDF2['Parch']<=parch_99)]\n",
    "titanicDF3.describe()"
   ]
  },
  {
   "cell_type": "code",
   "execution_count": 26,
   "metadata": {},
   "outputs": [
    {
     "data": {
      "text/html": [
       "<div>\n",
       "<style>\n",
       "    .dataframe thead tr:only-child th {\n",
       "        text-align: right;\n",
       "    }\n",
       "\n",
       "    .dataframe thead th {\n",
       "        text-align: left;\n",
       "    }\n",
       "\n",
       "    .dataframe tbody tr th {\n",
       "        vertical-align: top;\n",
       "    }\n",
       "</style>\n",
       "<table border=\"1\" class=\"dataframe\">\n",
       "  <thead>\n",
       "    <tr style=\"text-align: right;\">\n",
       "      <th></th>\n",
       "      <th>Survived</th>\n",
       "      <th>Pclass</th>\n",
       "      <th>Age</th>\n",
       "      <th>SibSp</th>\n",
       "      <th>Parch</th>\n",
       "      <th>Fare</th>\n",
       "    </tr>\n",
       "  </thead>\n",
       "  <tbody>\n",
       "    <tr>\n",
       "      <th>count</th>\n",
       "      <td>861.000000</td>\n",
       "      <td>861.000000</td>\n",
       "      <td>861.000000</td>\n",
       "      <td>861.000000</td>\n",
       "      <td>861.000000</td>\n",
       "      <td>861.000000</td>\n",
       "    </tr>\n",
       "    <tr>\n",
       "      <th>mean</th>\n",
       "      <td>0.386760</td>\n",
       "      <td>2.317073</td>\n",
       "      <td>28.895087</td>\n",
       "      <td>0.454123</td>\n",
       "      <td>0.324042</td>\n",
       "      <td>28.643471</td>\n",
       "    </tr>\n",
       "    <tr>\n",
       "      <th>std</th>\n",
       "      <td>0.487291</td>\n",
       "      <td>0.829990</td>\n",
       "      <td>12.480025</td>\n",
       "      <td>0.875664</td>\n",
       "      <td>0.673927</td>\n",
       "      <td>36.762900</td>\n",
       "    </tr>\n",
       "    <tr>\n",
       "      <th>min</th>\n",
       "      <td>0.000000</td>\n",
       "      <td>1.000000</td>\n",
       "      <td>0.420000</td>\n",
       "      <td>0.000000</td>\n",
       "      <td>0.000000</td>\n",
       "      <td>0.000000</td>\n",
       "    </tr>\n",
       "    <tr>\n",
       "      <th>25%</th>\n",
       "      <td>0.000000</td>\n",
       "      <td>2.000000</td>\n",
       "      <td>22.000000</td>\n",
       "      <td>0.000000</td>\n",
       "      <td>0.000000</td>\n",
       "      <td>7.895800</td>\n",
       "    </tr>\n",
       "    <tr>\n",
       "      <th>50%</th>\n",
       "      <td>0.000000</td>\n",
       "      <td>3.000000</td>\n",
       "      <td>28.000000</td>\n",
       "      <td>0.000000</td>\n",
       "      <td>0.000000</td>\n",
       "      <td>13.858300</td>\n",
       "    </tr>\n",
       "    <tr>\n",
       "      <th>75%</th>\n",
       "      <td>1.000000</td>\n",
       "      <td>3.000000</td>\n",
       "      <td>35.000000</td>\n",
       "      <td>1.000000</td>\n",
       "      <td>0.000000</td>\n",
       "      <td>29.700000</td>\n",
       "    </tr>\n",
       "    <tr>\n",
       "      <th>max</th>\n",
       "      <td>1.000000</td>\n",
       "      <td>3.000000</td>\n",
       "      <td>65.000000</td>\n",
       "      <td>5.000000</td>\n",
       "      <td>4.000000</td>\n",
       "      <td>247.520800</td>\n",
       "    </tr>\n",
       "  </tbody>\n",
       "</table>\n",
       "</div>"
      ],
      "text/plain": [
       "         Survived      Pclass         Age       SibSp       Parch        Fare\n",
       "count  861.000000  861.000000  861.000000  861.000000  861.000000  861.000000\n",
       "mean     0.386760    2.317073   28.895087    0.454123    0.324042   28.643471\n",
       "std      0.487291    0.829990   12.480025    0.875664    0.673927   36.762900\n",
       "min      0.000000    1.000000    0.420000    0.000000    0.000000    0.000000\n",
       "25%      0.000000    2.000000   22.000000    0.000000    0.000000    7.895800\n",
       "50%      0.000000    3.000000   28.000000    0.000000    0.000000   13.858300\n",
       "75%      1.000000    3.000000   35.000000    1.000000    0.000000   29.700000\n",
       "max      1.000000    3.000000   65.000000    5.000000    4.000000  247.520800"
      ]
     },
     "execution_count": 26,
     "metadata": {},
     "output_type": "execute_result"
    }
   ],
   "source": [
    "Fare_99 = titanicDF3.Fare.quantile(0.99)\n",
    "titanicDF4 = titanicDF3[(titanicDF3['Fare']<=Fare_99)]\n",
    "titanicDF4.describe()"
   ]
  },
  {
   "cell_type": "code",
   "execution_count": 27,
   "metadata": {},
   "outputs": [
    {
     "data": {
      "text/html": [
       "<div>\n",
       "<style>\n",
       "    .dataframe thead tr:only-child th {\n",
       "        text-align: right;\n",
       "    }\n",
       "\n",
       "    .dataframe thead th {\n",
       "        text-align: left;\n",
       "    }\n",
       "\n",
       "    .dataframe tbody tr th {\n",
       "        vertical-align: top;\n",
       "    }\n",
       "</style>\n",
       "<table border=\"1\" class=\"dataframe\">\n",
       "  <thead>\n",
       "    <tr style=\"text-align: right;\">\n",
       "      <th></th>\n",
       "      <th>Survived</th>\n",
       "      <th>Pclass</th>\n",
       "      <th>Age</th>\n",
       "      <th>SibSp</th>\n",
       "      <th>Parch</th>\n",
       "      <th>Fare</th>\n",
       "    </tr>\n",
       "  </thead>\n",
       "  <tbody>\n",
       "    <tr>\n",
       "      <th>count</th>\n",
       "      <td>861.000000</td>\n",
       "      <td>861.000000</td>\n",
       "      <td>861.000000</td>\n",
       "      <td>861.000000</td>\n",
       "      <td>861.000000</td>\n",
       "      <td>861.000000</td>\n",
       "    </tr>\n",
       "    <tr>\n",
       "      <th>mean</th>\n",
       "      <td>0.386760</td>\n",
       "      <td>2.317073</td>\n",
       "      <td>28.895087</td>\n",
       "      <td>0.454123</td>\n",
       "      <td>0.324042</td>\n",
       "      <td>28.643471</td>\n",
       "    </tr>\n",
       "    <tr>\n",
       "      <th>std</th>\n",
       "      <td>0.487291</td>\n",
       "      <td>0.829990</td>\n",
       "      <td>12.480025</td>\n",
       "      <td>0.875664</td>\n",
       "      <td>0.673927</td>\n",
       "      <td>36.762900</td>\n",
       "    </tr>\n",
       "    <tr>\n",
       "      <th>min</th>\n",
       "      <td>0.000000</td>\n",
       "      <td>1.000000</td>\n",
       "      <td>0.420000</td>\n",
       "      <td>0.000000</td>\n",
       "      <td>0.000000</td>\n",
       "      <td>0.000000</td>\n",
       "    </tr>\n",
       "    <tr>\n",
       "      <th>25%</th>\n",
       "      <td>0.000000</td>\n",
       "      <td>2.000000</td>\n",
       "      <td>22.000000</td>\n",
       "      <td>0.000000</td>\n",
       "      <td>0.000000</td>\n",
       "      <td>7.895800</td>\n",
       "    </tr>\n",
       "    <tr>\n",
       "      <th>50%</th>\n",
       "      <td>0.000000</td>\n",
       "      <td>3.000000</td>\n",
       "      <td>28.000000</td>\n",
       "      <td>0.000000</td>\n",
       "      <td>0.000000</td>\n",
       "      <td>13.858300</td>\n",
       "    </tr>\n",
       "    <tr>\n",
       "      <th>75%</th>\n",
       "      <td>1.000000</td>\n",
       "      <td>3.000000</td>\n",
       "      <td>35.000000</td>\n",
       "      <td>1.000000</td>\n",
       "      <td>0.000000</td>\n",
       "      <td>29.700000</td>\n",
       "    </tr>\n",
       "    <tr>\n",
       "      <th>max</th>\n",
       "      <td>1.000000</td>\n",
       "      <td>3.000000</td>\n",
       "      <td>65.000000</td>\n",
       "      <td>5.000000</td>\n",
       "      <td>4.000000</td>\n",
       "      <td>247.520800</td>\n",
       "    </tr>\n",
       "  </tbody>\n",
       "</table>\n",
       "</div>"
      ],
      "text/plain": [
       "         Survived      Pclass         Age       SibSp       Parch        Fare\n",
       "count  861.000000  861.000000  861.000000  861.000000  861.000000  861.000000\n",
       "mean     0.386760    2.317073   28.895087    0.454123    0.324042   28.643471\n",
       "std      0.487291    0.829990   12.480025    0.875664    0.673927   36.762900\n",
       "min      0.000000    1.000000    0.420000    0.000000    0.000000    0.000000\n",
       "25%      0.000000    2.000000   22.000000    0.000000    0.000000    7.895800\n",
       "50%      0.000000    3.000000   28.000000    0.000000    0.000000   13.858300\n",
       "75%      1.000000    3.000000   35.000000    1.000000    0.000000   29.700000\n",
       "max      1.000000    3.000000   65.000000    5.000000    4.000000  247.520800"
      ]
     },
     "execution_count": 27,
     "metadata": {},
     "output_type": "execute_result"
    }
   ],
   "source": [
    "titanicDF = titanicDF4\n",
    "titanicDF.describe()"
   ]
  },
  {
   "cell_type": "code",
   "execution_count": 28,
   "metadata": {},
   "outputs": [
    {
     "data": {
      "text/html": [
       "<div>\n",
       "<style>\n",
       "    .dataframe thead tr:only-child th {\n",
       "        text-align: right;\n",
       "    }\n",
       "\n",
       "    .dataframe thead th {\n",
       "        text-align: left;\n",
       "    }\n",
       "\n",
       "    .dataframe tbody tr th {\n",
       "        vertical-align: top;\n",
       "    }\n",
       "</style>\n",
       "<table border=\"1\" class=\"dataframe\">\n",
       "  <thead>\n",
       "    <tr style=\"text-align: right;\">\n",
       "      <th></th>\n",
       "      <th>Survived</th>\n",
       "      <th>Pclass</th>\n",
       "      <th>Sex</th>\n",
       "      <th>Age</th>\n",
       "      <th>SibSp</th>\n",
       "      <th>Parch</th>\n",
       "      <th>Fare</th>\n",
       "      <th>Cabin</th>\n",
       "      <th>Embarked</th>\n",
       "    </tr>\n",
       "  </thead>\n",
       "  <tbody>\n",
       "    <tr>\n",
       "      <th>0</th>\n",
       "      <td>0</td>\n",
       "      <td>3</td>\n",
       "      <td>male</td>\n",
       "      <td>22.0</td>\n",
       "      <td>1</td>\n",
       "      <td>0</td>\n",
       "      <td>7.2500</td>\n",
       "      <td>NaN</td>\n",
       "      <td>S</td>\n",
       "    </tr>\n",
       "    <tr>\n",
       "      <th>1</th>\n",
       "      <td>1</td>\n",
       "      <td>1</td>\n",
       "      <td>female</td>\n",
       "      <td>38.0</td>\n",
       "      <td>1</td>\n",
       "      <td>0</td>\n",
       "      <td>71.2833</td>\n",
       "      <td>C85</td>\n",
       "      <td>C</td>\n",
       "    </tr>\n",
       "    <tr>\n",
       "      <th>2</th>\n",
       "      <td>1</td>\n",
       "      <td>3</td>\n",
       "      <td>female</td>\n",
       "      <td>26.0</td>\n",
       "      <td>0</td>\n",
       "      <td>0</td>\n",
       "      <td>7.9250</td>\n",
       "      <td>NaN</td>\n",
       "      <td>S</td>\n",
       "    </tr>\n",
       "    <tr>\n",
       "      <th>3</th>\n",
       "      <td>1</td>\n",
       "      <td>1</td>\n",
       "      <td>female</td>\n",
       "      <td>35.0</td>\n",
       "      <td>1</td>\n",
       "      <td>0</td>\n",
       "      <td>53.1000</td>\n",
       "      <td>C123</td>\n",
       "      <td>S</td>\n",
       "    </tr>\n",
       "    <tr>\n",
       "      <th>4</th>\n",
       "      <td>0</td>\n",
       "      <td>3</td>\n",
       "      <td>male</td>\n",
       "      <td>35.0</td>\n",
       "      <td>0</td>\n",
       "      <td>0</td>\n",
       "      <td>8.0500</td>\n",
       "      <td>NaN</td>\n",
       "      <td>S</td>\n",
       "    </tr>\n",
       "  </tbody>\n",
       "</table>\n",
       "</div>"
      ],
      "text/plain": [
       "   Survived  Pclass     Sex   Age  SibSp  Parch     Fare Cabin Embarked\n",
       "0         0       3    male  22.0      1      0   7.2500   NaN        S\n",
       "1         1       1  female  38.0      1      0  71.2833   C85        C\n",
       "2         1       3  female  26.0      0      0   7.9250   NaN        S\n",
       "3         1       1  female  35.0      1      0  53.1000  C123        S\n",
       "4         0       3    male  35.0      0      0   8.0500   NaN        S"
      ]
     },
     "execution_count": 28,
     "metadata": {},
     "output_type": "execute_result"
    }
   ],
   "source": [
    "titanicDF.head()"
   ]
  },
  {
   "cell_type": "code",
   "execution_count": 29,
   "metadata": {},
   "outputs": [
    {
     "data": {
      "text/html": [
       "<div>\n",
       "<style>\n",
       "    .dataframe thead tr:only-child th {\n",
       "        text-align: right;\n",
       "    }\n",
       "\n",
       "    .dataframe thead th {\n",
       "        text-align: left;\n",
       "    }\n",
       "\n",
       "    .dataframe tbody tr th {\n",
       "        vertical-align: top;\n",
       "    }\n",
       "</style>\n",
       "<table border=\"1\" class=\"dataframe\">\n",
       "  <thead>\n",
       "    <tr style=\"text-align: right;\">\n",
       "      <th></th>\n",
       "      <th>Survived</th>\n",
       "      <th>Pclass</th>\n",
       "      <th>Sex</th>\n",
       "      <th>Age</th>\n",
       "      <th>SibSp</th>\n",
       "      <th>Parch</th>\n",
       "      <th>Fare</th>\n",
       "      <th>Cabin</th>\n",
       "      <th>Embarked</th>\n",
       "      <th>Pclass__1</th>\n",
       "      <th>Pclass__2</th>\n",
       "      <th>Pclass__3</th>\n",
       "    </tr>\n",
       "  </thead>\n",
       "  <tbody>\n",
       "    <tr>\n",
       "      <th>0</th>\n",
       "      <td>0</td>\n",
       "      <td>3</td>\n",
       "      <td>male</td>\n",
       "      <td>22.0</td>\n",
       "      <td>1</td>\n",
       "      <td>0</td>\n",
       "      <td>7.2500</td>\n",
       "      <td>NaN</td>\n",
       "      <td>S</td>\n",
       "      <td>0</td>\n",
       "      <td>0</td>\n",
       "      <td>1</td>\n",
       "    </tr>\n",
       "    <tr>\n",
       "      <th>1</th>\n",
       "      <td>1</td>\n",
       "      <td>1</td>\n",
       "      <td>female</td>\n",
       "      <td>38.0</td>\n",
       "      <td>1</td>\n",
       "      <td>0</td>\n",
       "      <td>71.2833</td>\n",
       "      <td>C85</td>\n",
       "      <td>C</td>\n",
       "      <td>1</td>\n",
       "      <td>0</td>\n",
       "      <td>0</td>\n",
       "    </tr>\n",
       "    <tr>\n",
       "      <th>2</th>\n",
       "      <td>1</td>\n",
       "      <td>3</td>\n",
       "      <td>female</td>\n",
       "      <td>26.0</td>\n",
       "      <td>0</td>\n",
       "      <td>0</td>\n",
       "      <td>7.9250</td>\n",
       "      <td>NaN</td>\n",
       "      <td>S</td>\n",
       "      <td>0</td>\n",
       "      <td>0</td>\n",
       "      <td>1</td>\n",
       "    </tr>\n",
       "    <tr>\n",
       "      <th>3</th>\n",
       "      <td>1</td>\n",
       "      <td>1</td>\n",
       "      <td>female</td>\n",
       "      <td>35.0</td>\n",
       "      <td>1</td>\n",
       "      <td>0</td>\n",
       "      <td>53.1000</td>\n",
       "      <td>C123</td>\n",
       "      <td>S</td>\n",
       "      <td>1</td>\n",
       "      <td>0</td>\n",
       "      <td>0</td>\n",
       "    </tr>\n",
       "    <tr>\n",
       "      <th>4</th>\n",
       "      <td>0</td>\n",
       "      <td>3</td>\n",
       "      <td>male</td>\n",
       "      <td>35.0</td>\n",
       "      <td>0</td>\n",
       "      <td>0</td>\n",
       "      <td>8.0500</td>\n",
       "      <td>NaN</td>\n",
       "      <td>S</td>\n",
       "      <td>0</td>\n",
       "      <td>0</td>\n",
       "      <td>1</td>\n",
       "    </tr>\n",
       "  </tbody>\n",
       "</table>\n",
       "</div>"
      ],
      "text/plain": [
       "   Survived  Pclass     Sex   Age  SibSp  Parch     Fare Cabin Embarked  \\\n",
       "0         0       3    male  22.0      1      0   7.2500   NaN        S   \n",
       "1         1       1  female  38.0      1      0  71.2833   C85        C   \n",
       "2         1       3  female  26.0      0      0   7.9250   NaN        S   \n",
       "3         1       1  female  35.0      1      0  53.1000  C123        S   \n",
       "4         0       3    male  35.0      0      0   8.0500   NaN        S   \n",
       "\n",
       "   Pclass__1  Pclass__2  Pclass__3  \n",
       "0          0          0          1  \n",
       "1          1          0          0  \n",
       "2          0          0          1  \n",
       "3          1          0          0  \n",
       "4          0          0          1  "
      ]
     },
     "execution_count": 29,
     "metadata": {},
     "output_type": "execute_result"
    }
   ],
   "source": [
    "#Perform cross tabulation\n",
    "class_dummy = pd.get_dummies(titanicDF['Pclass'],prefix='Pclass_')\n",
    "titanicDF = pd.concat([titanicDF,class_dummy],axis=1)\n",
    "titanicDF.head()"
   ]
  },
  {
   "cell_type": "code",
   "execution_count": 30,
   "metadata": {},
   "outputs": [
    {
     "data": {
      "text/html": [
       "<div>\n",
       "<style>\n",
       "    .dataframe thead tr:only-child th {\n",
       "        text-align: right;\n",
       "    }\n",
       "\n",
       "    .dataframe thead th {\n",
       "        text-align: left;\n",
       "    }\n",
       "\n",
       "    .dataframe tbody tr th {\n",
       "        vertical-align: top;\n",
       "    }\n",
       "</style>\n",
       "<table border=\"1\" class=\"dataframe\">\n",
       "  <thead>\n",
       "    <tr style=\"text-align: right;\">\n",
       "      <th></th>\n",
       "      <th>Survived</th>\n",
       "      <th>Pclass</th>\n",
       "      <th>Sex</th>\n",
       "      <th>Age</th>\n",
       "      <th>SibSp</th>\n",
       "      <th>Parch</th>\n",
       "      <th>Fare</th>\n",
       "      <th>Cabin</th>\n",
       "      <th>Embarked</th>\n",
       "      <th>Pclass__1</th>\n",
       "      <th>Pclass__2</th>\n",
       "      <th>Pclass__3</th>\n",
       "      <th>Sex__female</th>\n",
       "      <th>Sex__male</th>\n",
       "    </tr>\n",
       "  </thead>\n",
       "  <tbody>\n",
       "    <tr>\n",
       "      <th>0</th>\n",
       "      <td>0</td>\n",
       "      <td>3</td>\n",
       "      <td>male</td>\n",
       "      <td>22.0</td>\n",
       "      <td>1</td>\n",
       "      <td>0</td>\n",
       "      <td>7.2500</td>\n",
       "      <td>NaN</td>\n",
       "      <td>S</td>\n",
       "      <td>0</td>\n",
       "      <td>0</td>\n",
       "      <td>1</td>\n",
       "      <td>0</td>\n",
       "      <td>1</td>\n",
       "    </tr>\n",
       "    <tr>\n",
       "      <th>1</th>\n",
       "      <td>1</td>\n",
       "      <td>1</td>\n",
       "      <td>female</td>\n",
       "      <td>38.0</td>\n",
       "      <td>1</td>\n",
       "      <td>0</td>\n",
       "      <td>71.2833</td>\n",
       "      <td>C85</td>\n",
       "      <td>C</td>\n",
       "      <td>1</td>\n",
       "      <td>0</td>\n",
       "      <td>0</td>\n",
       "      <td>1</td>\n",
       "      <td>0</td>\n",
       "    </tr>\n",
       "    <tr>\n",
       "      <th>2</th>\n",
       "      <td>1</td>\n",
       "      <td>3</td>\n",
       "      <td>female</td>\n",
       "      <td>26.0</td>\n",
       "      <td>0</td>\n",
       "      <td>0</td>\n",
       "      <td>7.9250</td>\n",
       "      <td>NaN</td>\n",
       "      <td>S</td>\n",
       "      <td>0</td>\n",
       "      <td>0</td>\n",
       "      <td>1</td>\n",
       "      <td>1</td>\n",
       "      <td>0</td>\n",
       "    </tr>\n",
       "    <tr>\n",
       "      <th>3</th>\n",
       "      <td>1</td>\n",
       "      <td>1</td>\n",
       "      <td>female</td>\n",
       "      <td>35.0</td>\n",
       "      <td>1</td>\n",
       "      <td>0</td>\n",
       "      <td>53.1000</td>\n",
       "      <td>C123</td>\n",
       "      <td>S</td>\n",
       "      <td>1</td>\n",
       "      <td>0</td>\n",
       "      <td>0</td>\n",
       "      <td>1</td>\n",
       "      <td>0</td>\n",
       "    </tr>\n",
       "    <tr>\n",
       "      <th>4</th>\n",
       "      <td>0</td>\n",
       "      <td>3</td>\n",
       "      <td>male</td>\n",
       "      <td>35.0</td>\n",
       "      <td>0</td>\n",
       "      <td>0</td>\n",
       "      <td>8.0500</td>\n",
       "      <td>NaN</td>\n",
       "      <td>S</td>\n",
       "      <td>0</td>\n",
       "      <td>0</td>\n",
       "      <td>1</td>\n",
       "      <td>0</td>\n",
       "      <td>1</td>\n",
       "    </tr>\n",
       "  </tbody>\n",
       "</table>\n",
       "</div>"
      ],
      "text/plain": [
       "   Survived  Pclass     Sex   Age  SibSp  Parch     Fare Cabin Embarked  \\\n",
       "0         0       3    male  22.0      1      0   7.2500   NaN        S   \n",
       "1         1       1  female  38.0      1      0  71.2833   C85        C   \n",
       "2         1       3  female  26.0      0      0   7.9250   NaN        S   \n",
       "3         1       1  female  35.0      1      0  53.1000  C123        S   \n",
       "4         0       3    male  35.0      0      0   8.0500   NaN        S   \n",
       "\n",
       "   Pclass__1  Pclass__2  Pclass__3  Sex__female  Sex__male  \n",
       "0          0          0          1            0          1  \n",
       "1          1          0          0            1          0  \n",
       "2          0          0          1            1          0  \n",
       "3          1          0          0            1          0  \n",
       "4          0          0          1            0          1  "
      ]
     },
     "execution_count": 30,
     "metadata": {},
     "output_type": "execute_result"
    }
   ],
   "source": [
    "class_dummy = pd.get_dummies(titanicDF['Sex'],prefix='Sex_')\n",
    "titanicDF = pd.concat([titanicDF,class_dummy],axis=1)\n",
    "titanicDF.head()"
   ]
  },
  {
   "cell_type": "code",
   "execution_count": 31,
   "metadata": {},
   "outputs": [
    {
     "name": "stdout",
     "output_type": "stream",
     "text": [
      "6\n"
     ]
    }
   ],
   "source": [
    "print (len(titanicDF.SibSp.unique()))"
   ]
  },
  {
   "cell_type": "code",
   "execution_count": 32,
   "metadata": {},
   "outputs": [
    {
     "data": {
      "text/html": [
       "<div>\n",
       "<style>\n",
       "    .dataframe thead tr:only-child th {\n",
       "        text-align: right;\n",
       "    }\n",
       "\n",
       "    .dataframe thead th {\n",
       "        text-align: left;\n",
       "    }\n",
       "\n",
       "    .dataframe tbody tr th {\n",
       "        vertical-align: top;\n",
       "    }\n",
       "</style>\n",
       "<table border=\"1\" class=\"dataframe\">\n",
       "  <thead>\n",
       "    <tr style=\"text-align: right;\">\n",
       "      <th></th>\n",
       "      <th>Survived</th>\n",
       "      <th>Pclass</th>\n",
       "      <th>Sex</th>\n",
       "      <th>Age</th>\n",
       "      <th>SibSp</th>\n",
       "      <th>Parch</th>\n",
       "      <th>Fare</th>\n",
       "      <th>Cabin</th>\n",
       "      <th>Embarked</th>\n",
       "      <th>Pclass__1</th>\n",
       "      <th>Pclass__2</th>\n",
       "      <th>Pclass__3</th>\n",
       "      <th>Sex__female</th>\n",
       "      <th>Sex__male</th>\n",
       "      <th>SibSp__0</th>\n",
       "      <th>SibSp__1</th>\n",
       "      <th>SibSp__2</th>\n",
       "      <th>SibSp__3</th>\n",
       "      <th>SibSp__4</th>\n",
       "      <th>SibSp__5</th>\n",
       "    </tr>\n",
       "  </thead>\n",
       "  <tbody>\n",
       "    <tr>\n",
       "      <th>0</th>\n",
       "      <td>0</td>\n",
       "      <td>3</td>\n",
       "      <td>male</td>\n",
       "      <td>22.0</td>\n",
       "      <td>1</td>\n",
       "      <td>0</td>\n",
       "      <td>7.2500</td>\n",
       "      <td>NaN</td>\n",
       "      <td>S</td>\n",
       "      <td>0</td>\n",
       "      <td>0</td>\n",
       "      <td>1</td>\n",
       "      <td>0</td>\n",
       "      <td>1</td>\n",
       "      <td>0</td>\n",
       "      <td>1</td>\n",
       "      <td>0</td>\n",
       "      <td>0</td>\n",
       "      <td>0</td>\n",
       "      <td>0</td>\n",
       "    </tr>\n",
       "    <tr>\n",
       "      <th>1</th>\n",
       "      <td>1</td>\n",
       "      <td>1</td>\n",
       "      <td>female</td>\n",
       "      <td>38.0</td>\n",
       "      <td>1</td>\n",
       "      <td>0</td>\n",
       "      <td>71.2833</td>\n",
       "      <td>C85</td>\n",
       "      <td>C</td>\n",
       "      <td>1</td>\n",
       "      <td>0</td>\n",
       "      <td>0</td>\n",
       "      <td>1</td>\n",
       "      <td>0</td>\n",
       "      <td>0</td>\n",
       "      <td>1</td>\n",
       "      <td>0</td>\n",
       "      <td>0</td>\n",
       "      <td>0</td>\n",
       "      <td>0</td>\n",
       "    </tr>\n",
       "    <tr>\n",
       "      <th>2</th>\n",
       "      <td>1</td>\n",
       "      <td>3</td>\n",
       "      <td>female</td>\n",
       "      <td>26.0</td>\n",
       "      <td>0</td>\n",
       "      <td>0</td>\n",
       "      <td>7.9250</td>\n",
       "      <td>NaN</td>\n",
       "      <td>S</td>\n",
       "      <td>0</td>\n",
       "      <td>0</td>\n",
       "      <td>1</td>\n",
       "      <td>1</td>\n",
       "      <td>0</td>\n",
       "      <td>1</td>\n",
       "      <td>0</td>\n",
       "      <td>0</td>\n",
       "      <td>0</td>\n",
       "      <td>0</td>\n",
       "      <td>0</td>\n",
       "    </tr>\n",
       "    <tr>\n",
       "      <th>3</th>\n",
       "      <td>1</td>\n",
       "      <td>1</td>\n",
       "      <td>female</td>\n",
       "      <td>35.0</td>\n",
       "      <td>1</td>\n",
       "      <td>0</td>\n",
       "      <td>53.1000</td>\n",
       "      <td>C123</td>\n",
       "      <td>S</td>\n",
       "      <td>1</td>\n",
       "      <td>0</td>\n",
       "      <td>0</td>\n",
       "      <td>1</td>\n",
       "      <td>0</td>\n",
       "      <td>0</td>\n",
       "      <td>1</td>\n",
       "      <td>0</td>\n",
       "      <td>0</td>\n",
       "      <td>0</td>\n",
       "      <td>0</td>\n",
       "    </tr>\n",
       "    <tr>\n",
       "      <th>4</th>\n",
       "      <td>0</td>\n",
       "      <td>3</td>\n",
       "      <td>male</td>\n",
       "      <td>35.0</td>\n",
       "      <td>0</td>\n",
       "      <td>0</td>\n",
       "      <td>8.0500</td>\n",
       "      <td>NaN</td>\n",
       "      <td>S</td>\n",
       "      <td>0</td>\n",
       "      <td>0</td>\n",
       "      <td>1</td>\n",
       "      <td>0</td>\n",
       "      <td>1</td>\n",
       "      <td>1</td>\n",
       "      <td>0</td>\n",
       "      <td>0</td>\n",
       "      <td>0</td>\n",
       "      <td>0</td>\n",
       "      <td>0</td>\n",
       "    </tr>\n",
       "  </tbody>\n",
       "</table>\n",
       "</div>"
      ],
      "text/plain": [
       "   Survived  Pclass     Sex   Age  SibSp  Parch     Fare Cabin Embarked  \\\n",
       "0         0       3    male  22.0      1      0   7.2500   NaN        S   \n",
       "1         1       1  female  38.0      1      0  71.2833   C85        C   \n",
       "2         1       3  female  26.0      0      0   7.9250   NaN        S   \n",
       "3         1       1  female  35.0      1      0  53.1000  C123        S   \n",
       "4         0       3    male  35.0      0      0   8.0500   NaN        S   \n",
       "\n",
       "   Pclass__1  Pclass__2  Pclass__3  Sex__female  Sex__male  SibSp__0  \\\n",
       "0          0          0          1            0          1         0   \n",
       "1          1          0          0            1          0         0   \n",
       "2          0          0          1            1          0         1   \n",
       "3          1          0          0            1          0         0   \n",
       "4          0          0          1            0          1         1   \n",
       "\n",
       "   SibSp__1  SibSp__2  SibSp__3  SibSp__4  SibSp__5  \n",
       "0         1         0         0         0         0  \n",
       "1         1         0         0         0         0  \n",
       "2         0         0         0         0         0  \n",
       "3         1         0         0         0         0  \n",
       "4         0         0         0         0         0  "
      ]
     },
     "execution_count": 32,
     "metadata": {},
     "output_type": "execute_result"
    }
   ],
   "source": [
    "class_dummy = pd.get_dummies(titanicDF['SibSp'],prefix='SibSp_')\n",
    "titanicDF = pd.concat([titanicDF,class_dummy],axis=1)\n",
    "titanicDF.head()"
   ]
  },
  {
   "cell_type": "code",
   "execution_count": 33,
   "metadata": {},
   "outputs": [
    {
     "data": {
      "text/html": [
       "<div>\n",
       "<style>\n",
       "    .dataframe thead tr:only-child th {\n",
       "        text-align: right;\n",
       "    }\n",
       "\n",
       "    .dataframe thead th {\n",
       "        text-align: left;\n",
       "    }\n",
       "\n",
       "    .dataframe tbody tr th {\n",
       "        vertical-align: top;\n",
       "    }\n",
       "</style>\n",
       "<table border=\"1\" class=\"dataframe\">\n",
       "  <thead>\n",
       "    <tr style=\"text-align: right;\">\n",
       "      <th></th>\n",
       "      <th>Survived</th>\n",
       "      <th>Pclass</th>\n",
       "      <th>Sex</th>\n",
       "      <th>Age</th>\n",
       "      <th>SibSp</th>\n",
       "      <th>Parch</th>\n",
       "      <th>Fare</th>\n",
       "      <th>Cabin</th>\n",
       "      <th>Embarked</th>\n",
       "      <th>Pclass__1</th>\n",
       "      <th>...</th>\n",
       "      <th>SibSp__1</th>\n",
       "      <th>SibSp__2</th>\n",
       "      <th>SibSp__3</th>\n",
       "      <th>SibSp__4</th>\n",
       "      <th>SibSp__5</th>\n",
       "      <th>Parch__0</th>\n",
       "      <th>Parch__1</th>\n",
       "      <th>Parch__2</th>\n",
       "      <th>Parch__3</th>\n",
       "      <th>Parch__4</th>\n",
       "    </tr>\n",
       "  </thead>\n",
       "  <tbody>\n",
       "    <tr>\n",
       "      <th>0</th>\n",
       "      <td>0</td>\n",
       "      <td>3</td>\n",
       "      <td>male</td>\n",
       "      <td>22.0</td>\n",
       "      <td>1</td>\n",
       "      <td>0</td>\n",
       "      <td>7.2500</td>\n",
       "      <td>NaN</td>\n",
       "      <td>S</td>\n",
       "      <td>0</td>\n",
       "      <td>...</td>\n",
       "      <td>1</td>\n",
       "      <td>0</td>\n",
       "      <td>0</td>\n",
       "      <td>0</td>\n",
       "      <td>0</td>\n",
       "      <td>1</td>\n",
       "      <td>0</td>\n",
       "      <td>0</td>\n",
       "      <td>0</td>\n",
       "      <td>0</td>\n",
       "    </tr>\n",
       "    <tr>\n",
       "      <th>1</th>\n",
       "      <td>1</td>\n",
       "      <td>1</td>\n",
       "      <td>female</td>\n",
       "      <td>38.0</td>\n",
       "      <td>1</td>\n",
       "      <td>0</td>\n",
       "      <td>71.2833</td>\n",
       "      <td>C85</td>\n",
       "      <td>C</td>\n",
       "      <td>1</td>\n",
       "      <td>...</td>\n",
       "      <td>1</td>\n",
       "      <td>0</td>\n",
       "      <td>0</td>\n",
       "      <td>0</td>\n",
       "      <td>0</td>\n",
       "      <td>1</td>\n",
       "      <td>0</td>\n",
       "      <td>0</td>\n",
       "      <td>0</td>\n",
       "      <td>0</td>\n",
       "    </tr>\n",
       "    <tr>\n",
       "      <th>2</th>\n",
       "      <td>1</td>\n",
       "      <td>3</td>\n",
       "      <td>female</td>\n",
       "      <td>26.0</td>\n",
       "      <td>0</td>\n",
       "      <td>0</td>\n",
       "      <td>7.9250</td>\n",
       "      <td>NaN</td>\n",
       "      <td>S</td>\n",
       "      <td>0</td>\n",
       "      <td>...</td>\n",
       "      <td>0</td>\n",
       "      <td>0</td>\n",
       "      <td>0</td>\n",
       "      <td>0</td>\n",
       "      <td>0</td>\n",
       "      <td>1</td>\n",
       "      <td>0</td>\n",
       "      <td>0</td>\n",
       "      <td>0</td>\n",
       "      <td>0</td>\n",
       "    </tr>\n",
       "    <tr>\n",
       "      <th>3</th>\n",
       "      <td>1</td>\n",
       "      <td>1</td>\n",
       "      <td>female</td>\n",
       "      <td>35.0</td>\n",
       "      <td>1</td>\n",
       "      <td>0</td>\n",
       "      <td>53.1000</td>\n",
       "      <td>C123</td>\n",
       "      <td>S</td>\n",
       "      <td>1</td>\n",
       "      <td>...</td>\n",
       "      <td>1</td>\n",
       "      <td>0</td>\n",
       "      <td>0</td>\n",
       "      <td>0</td>\n",
       "      <td>0</td>\n",
       "      <td>1</td>\n",
       "      <td>0</td>\n",
       "      <td>0</td>\n",
       "      <td>0</td>\n",
       "      <td>0</td>\n",
       "    </tr>\n",
       "    <tr>\n",
       "      <th>4</th>\n",
       "      <td>0</td>\n",
       "      <td>3</td>\n",
       "      <td>male</td>\n",
       "      <td>35.0</td>\n",
       "      <td>0</td>\n",
       "      <td>0</td>\n",
       "      <td>8.0500</td>\n",
       "      <td>NaN</td>\n",
       "      <td>S</td>\n",
       "      <td>0</td>\n",
       "      <td>...</td>\n",
       "      <td>0</td>\n",
       "      <td>0</td>\n",
       "      <td>0</td>\n",
       "      <td>0</td>\n",
       "      <td>0</td>\n",
       "      <td>1</td>\n",
       "      <td>0</td>\n",
       "      <td>0</td>\n",
       "      <td>0</td>\n",
       "      <td>0</td>\n",
       "    </tr>\n",
       "  </tbody>\n",
       "</table>\n",
       "<p>5 rows × 25 columns</p>\n",
       "</div>"
      ],
      "text/plain": [
       "   Survived  Pclass     Sex   Age  SibSp  Parch     Fare Cabin Embarked  \\\n",
       "0         0       3    male  22.0      1      0   7.2500   NaN        S   \n",
       "1         1       1  female  38.0      1      0  71.2833   C85        C   \n",
       "2         1       3  female  26.0      0      0   7.9250   NaN        S   \n",
       "3         1       1  female  35.0      1      0  53.1000  C123        S   \n",
       "4         0       3    male  35.0      0      0   8.0500   NaN        S   \n",
       "\n",
       "   Pclass__1    ...     SibSp__1  SibSp__2  SibSp__3  SibSp__4  SibSp__5  \\\n",
       "0          0    ...            1         0         0         0         0   \n",
       "1          1    ...            1         0         0         0         0   \n",
       "2          0    ...            0         0         0         0         0   \n",
       "3          1    ...            1         0         0         0         0   \n",
       "4          0    ...            0         0         0         0         0   \n",
       "\n",
       "   Parch__0  Parch__1  Parch__2  Parch__3  Parch__4  \n",
       "0         1         0         0         0         0  \n",
       "1         1         0         0         0         0  \n",
       "2         1         0         0         0         0  \n",
       "3         1         0         0         0         0  \n",
       "4         1         0         0         0         0  \n",
       "\n",
       "[5 rows x 25 columns]"
      ]
     },
     "execution_count": 33,
     "metadata": {},
     "output_type": "execute_result"
    }
   ],
   "source": [
    "class_dummy = pd.get_dummies(titanicDF['Parch'],prefix='Parch_')\n",
    "titanicDF = pd.concat([titanicDF,class_dummy],axis=1)\n",
    "titanicDF.head()"
   ]
  },
  {
   "cell_type": "code",
   "execution_count": 34,
   "metadata": {},
   "outputs": [
    {
     "data": {
      "text/html": [
       "<div>\n",
       "<style>\n",
       "    .dataframe thead tr:only-child th {\n",
       "        text-align: right;\n",
       "    }\n",
       "\n",
       "    .dataframe thead th {\n",
       "        text-align: left;\n",
       "    }\n",
       "\n",
       "    .dataframe tbody tr th {\n",
       "        vertical-align: top;\n",
       "    }\n",
       "</style>\n",
       "<table border=\"1\" class=\"dataframe\">\n",
       "  <thead>\n",
       "    <tr style=\"text-align: right;\">\n",
       "      <th></th>\n",
       "      <th>Survived</th>\n",
       "      <th>Pclass</th>\n",
       "      <th>Sex</th>\n",
       "      <th>Age</th>\n",
       "      <th>SibSp</th>\n",
       "      <th>Parch</th>\n",
       "      <th>Fare</th>\n",
       "      <th>Cabin</th>\n",
       "      <th>Embarked</th>\n",
       "      <th>Pclass__1</th>\n",
       "      <th>...</th>\n",
       "      <th>SibSp__4</th>\n",
       "      <th>SibSp__5</th>\n",
       "      <th>Parch__0</th>\n",
       "      <th>Parch__1</th>\n",
       "      <th>Parch__2</th>\n",
       "      <th>Parch__3</th>\n",
       "      <th>Parch__4</th>\n",
       "      <th>Embarked__C</th>\n",
       "      <th>Embarked__Q</th>\n",
       "      <th>Embarked__S</th>\n",
       "    </tr>\n",
       "  </thead>\n",
       "  <tbody>\n",
       "    <tr>\n",
       "      <th>0</th>\n",
       "      <td>0</td>\n",
       "      <td>3</td>\n",
       "      <td>male</td>\n",
       "      <td>22.0</td>\n",
       "      <td>1</td>\n",
       "      <td>0</td>\n",
       "      <td>7.2500</td>\n",
       "      <td>NaN</td>\n",
       "      <td>S</td>\n",
       "      <td>0</td>\n",
       "      <td>...</td>\n",
       "      <td>0</td>\n",
       "      <td>0</td>\n",
       "      <td>1</td>\n",
       "      <td>0</td>\n",
       "      <td>0</td>\n",
       "      <td>0</td>\n",
       "      <td>0</td>\n",
       "      <td>0</td>\n",
       "      <td>0</td>\n",
       "      <td>1</td>\n",
       "    </tr>\n",
       "    <tr>\n",
       "      <th>1</th>\n",
       "      <td>1</td>\n",
       "      <td>1</td>\n",
       "      <td>female</td>\n",
       "      <td>38.0</td>\n",
       "      <td>1</td>\n",
       "      <td>0</td>\n",
       "      <td>71.2833</td>\n",
       "      <td>C85</td>\n",
       "      <td>C</td>\n",
       "      <td>1</td>\n",
       "      <td>...</td>\n",
       "      <td>0</td>\n",
       "      <td>0</td>\n",
       "      <td>1</td>\n",
       "      <td>0</td>\n",
       "      <td>0</td>\n",
       "      <td>0</td>\n",
       "      <td>0</td>\n",
       "      <td>1</td>\n",
       "      <td>0</td>\n",
       "      <td>0</td>\n",
       "    </tr>\n",
       "    <tr>\n",
       "      <th>2</th>\n",
       "      <td>1</td>\n",
       "      <td>3</td>\n",
       "      <td>female</td>\n",
       "      <td>26.0</td>\n",
       "      <td>0</td>\n",
       "      <td>0</td>\n",
       "      <td>7.9250</td>\n",
       "      <td>NaN</td>\n",
       "      <td>S</td>\n",
       "      <td>0</td>\n",
       "      <td>...</td>\n",
       "      <td>0</td>\n",
       "      <td>0</td>\n",
       "      <td>1</td>\n",
       "      <td>0</td>\n",
       "      <td>0</td>\n",
       "      <td>0</td>\n",
       "      <td>0</td>\n",
       "      <td>0</td>\n",
       "      <td>0</td>\n",
       "      <td>1</td>\n",
       "    </tr>\n",
       "    <tr>\n",
       "      <th>3</th>\n",
       "      <td>1</td>\n",
       "      <td>1</td>\n",
       "      <td>female</td>\n",
       "      <td>35.0</td>\n",
       "      <td>1</td>\n",
       "      <td>0</td>\n",
       "      <td>53.1000</td>\n",
       "      <td>C123</td>\n",
       "      <td>S</td>\n",
       "      <td>1</td>\n",
       "      <td>...</td>\n",
       "      <td>0</td>\n",
       "      <td>0</td>\n",
       "      <td>1</td>\n",
       "      <td>0</td>\n",
       "      <td>0</td>\n",
       "      <td>0</td>\n",
       "      <td>0</td>\n",
       "      <td>0</td>\n",
       "      <td>0</td>\n",
       "      <td>1</td>\n",
       "    </tr>\n",
       "    <tr>\n",
       "      <th>4</th>\n",
       "      <td>0</td>\n",
       "      <td>3</td>\n",
       "      <td>male</td>\n",
       "      <td>35.0</td>\n",
       "      <td>0</td>\n",
       "      <td>0</td>\n",
       "      <td>8.0500</td>\n",
       "      <td>NaN</td>\n",
       "      <td>S</td>\n",
       "      <td>0</td>\n",
       "      <td>...</td>\n",
       "      <td>0</td>\n",
       "      <td>0</td>\n",
       "      <td>1</td>\n",
       "      <td>0</td>\n",
       "      <td>0</td>\n",
       "      <td>0</td>\n",
       "      <td>0</td>\n",
       "      <td>0</td>\n",
       "      <td>0</td>\n",
       "      <td>1</td>\n",
       "    </tr>\n",
       "  </tbody>\n",
       "</table>\n",
       "<p>5 rows × 28 columns</p>\n",
       "</div>"
      ],
      "text/plain": [
       "   Survived  Pclass     Sex   Age  SibSp  Parch     Fare Cabin Embarked  \\\n",
       "0         0       3    male  22.0      1      0   7.2500   NaN        S   \n",
       "1         1       1  female  38.0      1      0  71.2833   C85        C   \n",
       "2         1       3  female  26.0      0      0   7.9250   NaN        S   \n",
       "3         1       1  female  35.0      1      0  53.1000  C123        S   \n",
       "4         0       3    male  35.0      0      0   8.0500   NaN        S   \n",
       "\n",
       "   Pclass__1     ...       SibSp__4  SibSp__5  Parch__0  Parch__1  Parch__2  \\\n",
       "0          0     ...              0         0         1         0         0   \n",
       "1          1     ...              0         0         1         0         0   \n",
       "2          0     ...              0         0         1         0         0   \n",
       "3          1     ...              0         0         1         0         0   \n",
       "4          0     ...              0         0         1         0         0   \n",
       "\n",
       "   Parch__3  Parch__4  Embarked__C  Embarked__Q  Embarked__S  \n",
       "0         0         0            0            0            1  \n",
       "1         0         0            1            0            0  \n",
       "2         0         0            0            0            1  \n",
       "3         0         0            0            0            1  \n",
       "4         0         0            0            0            1  \n",
       "\n",
       "[5 rows x 28 columns]"
      ]
     },
     "execution_count": 34,
     "metadata": {},
     "output_type": "execute_result"
    }
   ],
   "source": [
    "class_dummy = pd.get_dummies(titanicDF['Embarked'],prefix='Embarked_')\n",
    "titanicDF = pd.concat([titanicDF,class_dummy],axis=1)\n",
    "titanicDF.head()"
   ]
  },
  {
   "cell_type": "code",
   "execution_count": 35,
   "metadata": {},
   "outputs": [
    {
     "data": {
      "text/html": [
       "<div>\n",
       "<style>\n",
       "    .dataframe thead tr:only-child th {\n",
       "        text-align: right;\n",
       "    }\n",
       "\n",
       "    .dataframe thead th {\n",
       "        text-align: left;\n",
       "    }\n",
       "\n",
       "    .dataframe tbody tr th {\n",
       "        vertical-align: top;\n",
       "    }\n",
       "</style>\n",
       "<table border=\"1\" class=\"dataframe\">\n",
       "  <thead>\n",
       "    <tr style=\"text-align: right;\">\n",
       "      <th></th>\n",
       "      <th>Survived</th>\n",
       "      <th>Pclass</th>\n",
       "      <th>Age</th>\n",
       "      <th>SibSp</th>\n",
       "      <th>Parch</th>\n",
       "      <th>Fare</th>\n",
       "      <th>Pclass__1</th>\n",
       "      <th>Pclass__2</th>\n",
       "      <th>Pclass__3</th>\n",
       "      <th>Sex__female</th>\n",
       "      <th>...</th>\n",
       "      <th>SibSp__4</th>\n",
       "      <th>SibSp__5</th>\n",
       "      <th>Parch__0</th>\n",
       "      <th>Parch__1</th>\n",
       "      <th>Parch__2</th>\n",
       "      <th>Parch__3</th>\n",
       "      <th>Parch__4</th>\n",
       "      <th>Embarked__C</th>\n",
       "      <th>Embarked__Q</th>\n",
       "      <th>Embarked__S</th>\n",
       "    </tr>\n",
       "  </thead>\n",
       "  <tbody>\n",
       "    <tr>\n",
       "      <th>count</th>\n",
       "      <td>861.000000</td>\n",
       "      <td>861.000000</td>\n",
       "      <td>861.000000</td>\n",
       "      <td>861.000000</td>\n",
       "      <td>861.000000</td>\n",
       "      <td>861.000000</td>\n",
       "      <td>861.000000</td>\n",
       "      <td>861.000000</td>\n",
       "      <td>861.000000</td>\n",
       "      <td>861.000000</td>\n",
       "      <td>...</td>\n",
       "      <td>861.000000</td>\n",
       "      <td>861.000000</td>\n",
       "      <td>861.000000</td>\n",
       "      <td>861.000000</td>\n",
       "      <td>861.000000</td>\n",
       "      <td>861.000000</td>\n",
       "      <td>861.000000</td>\n",
       "      <td>861.000000</td>\n",
       "      <td>861.000000</td>\n",
       "      <td>861.000000</td>\n",
       "    </tr>\n",
       "    <tr>\n",
       "      <th>mean</th>\n",
       "      <td>0.386760</td>\n",
       "      <td>2.317073</td>\n",
       "      <td>28.895087</td>\n",
       "      <td>0.454123</td>\n",
       "      <td>0.324042</td>\n",
       "      <td>28.643471</td>\n",
       "      <td>0.235772</td>\n",
       "      <td>0.211382</td>\n",
       "      <td>0.552846</td>\n",
       "      <td>0.349593</td>\n",
       "      <td>...</td>\n",
       "      <td>0.020906</td>\n",
       "      <td>0.005807</td>\n",
       "      <td>0.777003</td>\n",
       "      <td>0.134727</td>\n",
       "      <td>0.078978</td>\n",
       "      <td>0.005807</td>\n",
       "      <td>0.003484</td>\n",
       "      <td>0.186992</td>\n",
       "      <td>0.087108</td>\n",
       "      <td>0.723577</td>\n",
       "    </tr>\n",
       "    <tr>\n",
       "      <th>std</th>\n",
       "      <td>0.487291</td>\n",
       "      <td>0.829990</td>\n",
       "      <td>12.480025</td>\n",
       "      <td>0.875664</td>\n",
       "      <td>0.673927</td>\n",
       "      <td>36.762900</td>\n",
       "      <td>0.424727</td>\n",
       "      <td>0.408526</td>\n",
       "      <td>0.497488</td>\n",
       "      <td>0.477119</td>\n",
       "      <td>...</td>\n",
       "      <td>0.143153</td>\n",
       "      <td>0.076028</td>\n",
       "      <td>0.416498</td>\n",
       "      <td>0.341630</td>\n",
       "      <td>0.269861</td>\n",
       "      <td>0.076028</td>\n",
       "      <td>0.058959</td>\n",
       "      <td>0.390132</td>\n",
       "      <td>0.282157</td>\n",
       "      <td>0.447488</td>\n",
       "    </tr>\n",
       "    <tr>\n",
       "      <th>min</th>\n",
       "      <td>0.000000</td>\n",
       "      <td>1.000000</td>\n",
       "      <td>0.420000</td>\n",
       "      <td>0.000000</td>\n",
       "      <td>0.000000</td>\n",
       "      <td>0.000000</td>\n",
       "      <td>0.000000</td>\n",
       "      <td>0.000000</td>\n",
       "      <td>0.000000</td>\n",
       "      <td>0.000000</td>\n",
       "      <td>...</td>\n",
       "      <td>0.000000</td>\n",
       "      <td>0.000000</td>\n",
       "      <td>0.000000</td>\n",
       "      <td>0.000000</td>\n",
       "      <td>0.000000</td>\n",
       "      <td>0.000000</td>\n",
       "      <td>0.000000</td>\n",
       "      <td>0.000000</td>\n",
       "      <td>0.000000</td>\n",
       "      <td>0.000000</td>\n",
       "    </tr>\n",
       "    <tr>\n",
       "      <th>25%</th>\n",
       "      <td>0.000000</td>\n",
       "      <td>2.000000</td>\n",
       "      <td>22.000000</td>\n",
       "      <td>0.000000</td>\n",
       "      <td>0.000000</td>\n",
       "      <td>7.895800</td>\n",
       "      <td>0.000000</td>\n",
       "      <td>0.000000</td>\n",
       "      <td>0.000000</td>\n",
       "      <td>0.000000</td>\n",
       "      <td>...</td>\n",
       "      <td>0.000000</td>\n",
       "      <td>0.000000</td>\n",
       "      <td>1.000000</td>\n",
       "      <td>0.000000</td>\n",
       "      <td>0.000000</td>\n",
       "      <td>0.000000</td>\n",
       "      <td>0.000000</td>\n",
       "      <td>0.000000</td>\n",
       "      <td>0.000000</td>\n",
       "      <td>0.000000</td>\n",
       "    </tr>\n",
       "    <tr>\n",
       "      <th>50%</th>\n",
       "      <td>0.000000</td>\n",
       "      <td>3.000000</td>\n",
       "      <td>28.000000</td>\n",
       "      <td>0.000000</td>\n",
       "      <td>0.000000</td>\n",
       "      <td>13.858300</td>\n",
       "      <td>0.000000</td>\n",
       "      <td>0.000000</td>\n",
       "      <td>1.000000</td>\n",
       "      <td>0.000000</td>\n",
       "      <td>...</td>\n",
       "      <td>0.000000</td>\n",
       "      <td>0.000000</td>\n",
       "      <td>1.000000</td>\n",
       "      <td>0.000000</td>\n",
       "      <td>0.000000</td>\n",
       "      <td>0.000000</td>\n",
       "      <td>0.000000</td>\n",
       "      <td>0.000000</td>\n",
       "      <td>0.000000</td>\n",
       "      <td>1.000000</td>\n",
       "    </tr>\n",
       "    <tr>\n",
       "      <th>75%</th>\n",
       "      <td>1.000000</td>\n",
       "      <td>3.000000</td>\n",
       "      <td>35.000000</td>\n",
       "      <td>1.000000</td>\n",
       "      <td>0.000000</td>\n",
       "      <td>29.700000</td>\n",
       "      <td>0.000000</td>\n",
       "      <td>0.000000</td>\n",
       "      <td>1.000000</td>\n",
       "      <td>1.000000</td>\n",
       "      <td>...</td>\n",
       "      <td>0.000000</td>\n",
       "      <td>0.000000</td>\n",
       "      <td>1.000000</td>\n",
       "      <td>0.000000</td>\n",
       "      <td>0.000000</td>\n",
       "      <td>0.000000</td>\n",
       "      <td>0.000000</td>\n",
       "      <td>0.000000</td>\n",
       "      <td>0.000000</td>\n",
       "      <td>1.000000</td>\n",
       "    </tr>\n",
       "    <tr>\n",
       "      <th>max</th>\n",
       "      <td>1.000000</td>\n",
       "      <td>3.000000</td>\n",
       "      <td>65.000000</td>\n",
       "      <td>5.000000</td>\n",
       "      <td>4.000000</td>\n",
       "      <td>247.520800</td>\n",
       "      <td>1.000000</td>\n",
       "      <td>1.000000</td>\n",
       "      <td>1.000000</td>\n",
       "      <td>1.000000</td>\n",
       "      <td>...</td>\n",
       "      <td>1.000000</td>\n",
       "      <td>1.000000</td>\n",
       "      <td>1.000000</td>\n",
       "      <td>1.000000</td>\n",
       "      <td>1.000000</td>\n",
       "      <td>1.000000</td>\n",
       "      <td>1.000000</td>\n",
       "      <td>1.000000</td>\n",
       "      <td>1.000000</td>\n",
       "      <td>1.000000</td>\n",
       "    </tr>\n",
       "  </tbody>\n",
       "</table>\n",
       "<p>8 rows × 25 columns</p>\n",
       "</div>"
      ],
      "text/plain": [
       "         Survived      Pclass         Age       SibSp       Parch        Fare  \\\n",
       "count  861.000000  861.000000  861.000000  861.000000  861.000000  861.000000   \n",
       "mean     0.386760    2.317073   28.895087    0.454123    0.324042   28.643471   \n",
       "std      0.487291    0.829990   12.480025    0.875664    0.673927   36.762900   \n",
       "min      0.000000    1.000000    0.420000    0.000000    0.000000    0.000000   \n",
       "25%      0.000000    2.000000   22.000000    0.000000    0.000000    7.895800   \n",
       "50%      0.000000    3.000000   28.000000    0.000000    0.000000   13.858300   \n",
       "75%      1.000000    3.000000   35.000000    1.000000    0.000000   29.700000   \n",
       "max      1.000000    3.000000   65.000000    5.000000    4.000000  247.520800   \n",
       "\n",
       "        Pclass__1   Pclass__2   Pclass__3  Sex__female     ...       \\\n",
       "count  861.000000  861.000000  861.000000   861.000000     ...        \n",
       "mean     0.235772    0.211382    0.552846     0.349593     ...        \n",
       "std      0.424727    0.408526    0.497488     0.477119     ...        \n",
       "min      0.000000    0.000000    0.000000     0.000000     ...        \n",
       "25%      0.000000    0.000000    0.000000     0.000000     ...        \n",
       "50%      0.000000    0.000000    1.000000     0.000000     ...        \n",
       "75%      0.000000    0.000000    1.000000     1.000000     ...        \n",
       "max      1.000000    1.000000    1.000000     1.000000     ...        \n",
       "\n",
       "         SibSp__4    SibSp__5    Parch__0    Parch__1    Parch__2    Parch__3  \\\n",
       "count  861.000000  861.000000  861.000000  861.000000  861.000000  861.000000   \n",
       "mean     0.020906    0.005807    0.777003    0.134727    0.078978    0.005807   \n",
       "std      0.143153    0.076028    0.416498    0.341630    0.269861    0.076028   \n",
       "min      0.000000    0.000000    0.000000    0.000000    0.000000    0.000000   \n",
       "25%      0.000000    0.000000    1.000000    0.000000    0.000000    0.000000   \n",
       "50%      0.000000    0.000000    1.000000    0.000000    0.000000    0.000000   \n",
       "75%      0.000000    0.000000    1.000000    0.000000    0.000000    0.000000   \n",
       "max      1.000000    1.000000    1.000000    1.000000    1.000000    1.000000   \n",
       "\n",
       "         Parch__4  Embarked__C  Embarked__Q  Embarked__S  \n",
       "count  861.000000   861.000000   861.000000   861.000000  \n",
       "mean     0.003484     0.186992     0.087108     0.723577  \n",
       "std      0.058959     0.390132     0.282157     0.447488  \n",
       "min      0.000000     0.000000     0.000000     0.000000  \n",
       "25%      0.000000     0.000000     0.000000     0.000000  \n",
       "50%      0.000000     0.000000     0.000000     1.000000  \n",
       "75%      0.000000     0.000000     0.000000     1.000000  \n",
       "max      1.000000     1.000000     1.000000     1.000000  \n",
       "\n",
       "[8 rows x 25 columns]"
      ]
     },
     "execution_count": 35,
     "metadata": {},
     "output_type": "execute_result"
    }
   ],
   "source": [
    "titanicDF.describe()"
   ]
  },
  {
   "cell_type": "code",
   "execution_count": 36,
   "metadata": {},
   "outputs": [
    {
     "data": {
      "text/plain": [
       "Index(['Survived', 'Pclass', 'Sex', 'Age', 'SibSp', 'Parch', 'Fare', 'Cabin',\n",
       "       'Embarked', 'Pclass__1', 'Pclass__2', 'Pclass__3', 'Sex__female',\n",
       "       'Sex__male', 'SibSp__0', 'SibSp__1', 'SibSp__2', 'SibSp__3', 'SibSp__4',\n",
       "       'SibSp__5', 'Parch__0', 'Parch__1', 'Parch__2', 'Parch__3', 'Parch__4',\n",
       "       'Embarked__C', 'Embarked__Q', 'Embarked__S'],\n",
       "      dtype='object')"
      ]
     },
     "execution_count": 36,
     "metadata": {},
     "output_type": "execute_result"
    }
   ],
   "source": [
    "titanicDF.columns"
   ]
  },
  {
   "cell_type": "code",
   "execution_count": 37,
   "metadata": {
    "collapsed": true
   },
   "outputs": [],
   "source": [
    "del titanicDF['Cabin']"
   ]
  },
  {
   "cell_type": "code",
   "execution_count": 38,
   "metadata": {
    "collapsed": true
   },
   "outputs": [],
   "source": [
    "del titanicDF['Embarked']"
   ]
  },
  {
   "cell_type": "code",
   "execution_count": 39,
   "metadata": {
    "collapsed": true
   },
   "outputs": [],
   "source": [
    "from sklearn import linear_model"
   ]
  },
  {
   "cell_type": "code",
   "execution_count": 40,
   "metadata": {
    "collapsed": true
   },
   "outputs": [],
   "source": [
    "titanicTrain, titanicTest = train_test_split(titanicDF,test_size=0.3,random_state=45)"
   ]
  },
  {
   "cell_type": "code",
   "execution_count": 41,
   "metadata": {},
   "outputs": [
    {
     "data": {
      "text/html": [
       "<div>\n",
       "<style>\n",
       "    .dataframe thead tr:only-child th {\n",
       "        text-align: right;\n",
       "    }\n",
       "\n",
       "    .dataframe thead th {\n",
       "        text-align: left;\n",
       "    }\n",
       "\n",
       "    .dataframe tbody tr th {\n",
       "        vertical-align: top;\n",
       "    }\n",
       "</style>\n",
       "<table border=\"1\" class=\"dataframe\">\n",
       "  <thead>\n",
       "    <tr style=\"text-align: right;\">\n",
       "      <th></th>\n",
       "      <th>Fare</th>\n",
       "      <th>Pclass__1</th>\n",
       "      <th>Pclass__2</th>\n",
       "      <th>Pclass__3</th>\n",
       "      <th>Sex__female</th>\n",
       "      <th>Sex__male</th>\n",
       "      <th>SibSp__0</th>\n",
       "      <th>SibSp__1</th>\n",
       "      <th>SibSp__2</th>\n",
       "      <th>SibSp__3</th>\n",
       "      <th>SibSp__4</th>\n",
       "      <th>SibSp__5</th>\n",
       "      <th>Parch__0</th>\n",
       "      <th>Parch__1</th>\n",
       "      <th>Parch__2</th>\n",
       "      <th>Parch__3</th>\n",
       "      <th>Parch__4</th>\n",
       "      <th>Embarked__C</th>\n",
       "      <th>Embarked__Q</th>\n",
       "      <th>Embarked__S</th>\n",
       "    </tr>\n",
       "  </thead>\n",
       "  <tbody>\n",
       "    <tr>\n",
       "      <th>185</th>\n",
       "      <td>50.0000</td>\n",
       "      <td>1</td>\n",
       "      <td>0</td>\n",
       "      <td>0</td>\n",
       "      <td>0</td>\n",
       "      <td>1</td>\n",
       "      <td>1</td>\n",
       "      <td>0</td>\n",
       "      <td>0</td>\n",
       "      <td>0</td>\n",
       "      <td>0</td>\n",
       "      <td>0</td>\n",
       "      <td>1</td>\n",
       "      <td>0</td>\n",
       "      <td>0</td>\n",
       "      <td>0</td>\n",
       "      <td>0</td>\n",
       "      <td>0</td>\n",
       "      <td>0</td>\n",
       "      <td>1</td>\n",
       "    </tr>\n",
       "    <tr>\n",
       "      <th>269</th>\n",
       "      <td>135.6333</td>\n",
       "      <td>1</td>\n",
       "      <td>0</td>\n",
       "      <td>0</td>\n",
       "      <td>1</td>\n",
       "      <td>0</td>\n",
       "      <td>1</td>\n",
       "      <td>0</td>\n",
       "      <td>0</td>\n",
       "      <td>0</td>\n",
       "      <td>0</td>\n",
       "      <td>0</td>\n",
       "      <td>1</td>\n",
       "      <td>0</td>\n",
       "      <td>0</td>\n",
       "      <td>0</td>\n",
       "      <td>0</td>\n",
       "      <td>0</td>\n",
       "      <td>0</td>\n",
       "      <td>1</td>\n",
       "    </tr>\n",
       "    <tr>\n",
       "      <th>226</th>\n",
       "      <td>10.5000</td>\n",
       "      <td>0</td>\n",
       "      <td>1</td>\n",
       "      <td>0</td>\n",
       "      <td>0</td>\n",
       "      <td>1</td>\n",
       "      <td>1</td>\n",
       "      <td>0</td>\n",
       "      <td>0</td>\n",
       "      <td>0</td>\n",
       "      <td>0</td>\n",
       "      <td>0</td>\n",
       "      <td>1</td>\n",
       "      <td>0</td>\n",
       "      <td>0</td>\n",
       "      <td>0</td>\n",
       "      <td>0</td>\n",
       "      <td>0</td>\n",
       "      <td>0</td>\n",
       "      <td>1</td>\n",
       "    </tr>\n",
       "    <tr>\n",
       "      <th>834</th>\n",
       "      <td>8.3000</td>\n",
       "      <td>0</td>\n",
       "      <td>0</td>\n",
       "      <td>1</td>\n",
       "      <td>0</td>\n",
       "      <td>1</td>\n",
       "      <td>1</td>\n",
       "      <td>0</td>\n",
       "      <td>0</td>\n",
       "      <td>0</td>\n",
       "      <td>0</td>\n",
       "      <td>0</td>\n",
       "      <td>1</td>\n",
       "      <td>0</td>\n",
       "      <td>0</td>\n",
       "      <td>0</td>\n",
       "      <td>0</td>\n",
       "      <td>0</td>\n",
       "      <td>0</td>\n",
       "      <td>1</td>\n",
       "    </tr>\n",
       "    <tr>\n",
       "      <th>372</th>\n",
       "      <td>8.0500</td>\n",
       "      <td>0</td>\n",
       "      <td>0</td>\n",
       "      <td>1</td>\n",
       "      <td>0</td>\n",
       "      <td>1</td>\n",
       "      <td>1</td>\n",
       "      <td>0</td>\n",
       "      <td>0</td>\n",
       "      <td>0</td>\n",
       "      <td>0</td>\n",
       "      <td>0</td>\n",
       "      <td>1</td>\n",
       "      <td>0</td>\n",
       "      <td>0</td>\n",
       "      <td>0</td>\n",
       "      <td>0</td>\n",
       "      <td>0</td>\n",
       "      <td>0</td>\n",
       "      <td>1</td>\n",
       "    </tr>\n",
       "  </tbody>\n",
       "</table>\n",
       "</div>"
      ],
      "text/plain": [
       "         Fare  Pclass__1  Pclass__2  Pclass__3  Sex__female  Sex__male  \\\n",
       "185   50.0000          1          0          0            0          1   \n",
       "269  135.6333          1          0          0            1          0   \n",
       "226   10.5000          0          1          0            0          1   \n",
       "834    8.3000          0          0          1            0          1   \n",
       "372    8.0500          0          0          1            0          1   \n",
       "\n",
       "     SibSp__0  SibSp__1  SibSp__2  SibSp__3  SibSp__4  SibSp__5  Parch__0  \\\n",
       "185         1         0         0         0         0         0         1   \n",
       "269         1         0         0         0         0         0         1   \n",
       "226         1         0         0         0         0         0         1   \n",
       "834         1         0         0         0         0         0         1   \n",
       "372         1         0         0         0         0         0         1   \n",
       "\n",
       "     Parch__1  Parch__2  Parch__3  Parch__4  Embarked__C  Embarked__Q  \\\n",
       "185         0         0         0         0            0            0   \n",
       "269         0         0         0         0            0            0   \n",
       "226         0         0         0         0            0            0   \n",
       "834         0         0         0         0            0            0   \n",
       "372         0         0         0         0            0            0   \n",
       "\n",
       "     Embarked__S  \n",
       "185            1  \n",
       "269            1  \n",
       "226            1  \n",
       "834            1  \n",
       "372            1  "
      ]
     },
     "execution_count": 41,
     "metadata": {},
     "output_type": "execute_result"
    }
   ],
   "source": [
    "titanicTrain_X = titanicTrain.iloc[:,range(6,titanicTrain.shape[1])]\n",
    "titanicTrain_X.head()"
   ]
  },
  {
   "cell_type": "code",
   "execution_count": 42,
   "metadata": {},
   "outputs": [
    {
     "data": {
      "text/plain": [
       "count    602.000000\n",
       "mean       0.388704\n",
       "std        0.487861\n",
       "min        0.000000\n",
       "25%        0.000000\n",
       "50%        0.000000\n",
       "75%        1.000000\n",
       "max        1.000000\n",
       "Name: Survived, dtype: float64"
      ]
     },
     "execution_count": 42,
     "metadata": {},
     "output_type": "execute_result"
    }
   ],
   "source": [
    "titanicTrain_Y = titanicTrain.Survived\n",
    "titanicTrain_Y.describe()"
   ]
  },
  {
   "cell_type": "code",
   "execution_count": 43,
   "metadata": {},
   "outputs": [
    {
     "data": {
      "text/html": [
       "<div>\n",
       "<style>\n",
       "    .dataframe thead tr:only-child th {\n",
       "        text-align: right;\n",
       "    }\n",
       "\n",
       "    .dataframe thead th {\n",
       "        text-align: left;\n",
       "    }\n",
       "\n",
       "    .dataframe tbody tr th {\n",
       "        vertical-align: top;\n",
       "    }\n",
       "</style>\n",
       "<table border=\"1\" class=\"dataframe\">\n",
       "  <thead>\n",
       "    <tr style=\"text-align: right;\">\n",
       "      <th></th>\n",
       "      <th>Fare</th>\n",
       "      <th>Pclass__1</th>\n",
       "      <th>Pclass__2</th>\n",
       "      <th>Pclass__3</th>\n",
       "      <th>Sex__female</th>\n",
       "      <th>Sex__male</th>\n",
       "      <th>SibSp__0</th>\n",
       "      <th>SibSp__1</th>\n",
       "      <th>SibSp__2</th>\n",
       "      <th>SibSp__3</th>\n",
       "      <th>SibSp__4</th>\n",
       "      <th>SibSp__5</th>\n",
       "      <th>Parch__0</th>\n",
       "      <th>Parch__1</th>\n",
       "      <th>Parch__2</th>\n",
       "      <th>Parch__3</th>\n",
       "      <th>Parch__4</th>\n",
       "      <th>Embarked__C</th>\n",
       "      <th>Embarked__Q</th>\n",
       "      <th>Embarked__S</th>\n",
       "    </tr>\n",
       "  </thead>\n",
       "  <tbody>\n",
       "    <tr>\n",
       "      <th>558</th>\n",
       "      <td>79.6500</td>\n",
       "      <td>1</td>\n",
       "      <td>0</td>\n",
       "      <td>0</td>\n",
       "      <td>1</td>\n",
       "      <td>0</td>\n",
       "      <td>0</td>\n",
       "      <td>1</td>\n",
       "      <td>0</td>\n",
       "      <td>0</td>\n",
       "      <td>0</td>\n",
       "      <td>0</td>\n",
       "      <td>0</td>\n",
       "      <td>1</td>\n",
       "      <td>0</td>\n",
       "      <td>0</td>\n",
       "      <td>0</td>\n",
       "      <td>0</td>\n",
       "      <td>0</td>\n",
       "      <td>1</td>\n",
       "    </tr>\n",
       "    <tr>\n",
       "      <th>581</th>\n",
       "      <td>110.8833</td>\n",
       "      <td>1</td>\n",
       "      <td>0</td>\n",
       "      <td>0</td>\n",
       "      <td>1</td>\n",
       "      <td>0</td>\n",
       "      <td>0</td>\n",
       "      <td>1</td>\n",
       "      <td>0</td>\n",
       "      <td>0</td>\n",
       "      <td>0</td>\n",
       "      <td>0</td>\n",
       "      <td>0</td>\n",
       "      <td>1</td>\n",
       "      <td>0</td>\n",
       "      <td>0</td>\n",
       "      <td>0</td>\n",
       "      <td>1</td>\n",
       "      <td>0</td>\n",
       "      <td>0</td>\n",
       "    </tr>\n",
       "    <tr>\n",
       "      <th>584</th>\n",
       "      <td>8.7125</td>\n",
       "      <td>0</td>\n",
       "      <td>0</td>\n",
       "      <td>1</td>\n",
       "      <td>0</td>\n",
       "      <td>1</td>\n",
       "      <td>1</td>\n",
       "      <td>0</td>\n",
       "      <td>0</td>\n",
       "      <td>0</td>\n",
       "      <td>0</td>\n",
       "      <td>0</td>\n",
       "      <td>1</td>\n",
       "      <td>0</td>\n",
       "      <td>0</td>\n",
       "      <td>0</td>\n",
       "      <td>0</td>\n",
       "      <td>1</td>\n",
       "      <td>0</td>\n",
       "      <td>0</td>\n",
       "    </tr>\n",
       "    <tr>\n",
       "      <th>105</th>\n",
       "      <td>7.8958</td>\n",
       "      <td>0</td>\n",
       "      <td>0</td>\n",
       "      <td>1</td>\n",
       "      <td>0</td>\n",
       "      <td>1</td>\n",
       "      <td>1</td>\n",
       "      <td>0</td>\n",
       "      <td>0</td>\n",
       "      <td>0</td>\n",
       "      <td>0</td>\n",
       "      <td>0</td>\n",
       "      <td>1</td>\n",
       "      <td>0</td>\n",
       "      <td>0</td>\n",
       "      <td>0</td>\n",
       "      <td>0</td>\n",
       "      <td>0</td>\n",
       "      <td>0</td>\n",
       "      <td>1</td>\n",
       "    </tr>\n",
       "    <tr>\n",
       "      <th>693</th>\n",
       "      <td>7.2250</td>\n",
       "      <td>0</td>\n",
       "      <td>0</td>\n",
       "      <td>1</td>\n",
       "      <td>0</td>\n",
       "      <td>1</td>\n",
       "      <td>1</td>\n",
       "      <td>0</td>\n",
       "      <td>0</td>\n",
       "      <td>0</td>\n",
       "      <td>0</td>\n",
       "      <td>0</td>\n",
       "      <td>1</td>\n",
       "      <td>0</td>\n",
       "      <td>0</td>\n",
       "      <td>0</td>\n",
       "      <td>0</td>\n",
       "      <td>1</td>\n",
       "      <td>0</td>\n",
       "      <td>0</td>\n",
       "    </tr>\n",
       "  </tbody>\n",
       "</table>\n",
       "</div>"
      ],
      "text/plain": [
       "         Fare  Pclass__1  Pclass__2  Pclass__3  Sex__female  Sex__male  \\\n",
       "558   79.6500          1          0          0            1          0   \n",
       "581  110.8833          1          0          0            1          0   \n",
       "584    8.7125          0          0          1            0          1   \n",
       "105    7.8958          0          0          1            0          1   \n",
       "693    7.2250          0          0          1            0          1   \n",
       "\n",
       "     SibSp__0  SibSp__1  SibSp__2  SibSp__3  SibSp__4  SibSp__5  Parch__0  \\\n",
       "558         0         1         0         0         0         0         0   \n",
       "581         0         1         0         0         0         0         0   \n",
       "584         1         0         0         0         0         0         1   \n",
       "105         1         0         0         0         0         0         1   \n",
       "693         1         0         0         0         0         0         1   \n",
       "\n",
       "     Parch__1  Parch__2  Parch__3  Parch__4  Embarked__C  Embarked__Q  \\\n",
       "558         1         0         0         0            0            0   \n",
       "581         1         0         0         0            1            0   \n",
       "584         0         0         0         0            1            0   \n",
       "105         0         0         0         0            0            0   \n",
       "693         0         0         0         0            1            0   \n",
       "\n",
       "     Embarked__S  \n",
       "558            1  \n",
       "581            0  \n",
       "584            0  \n",
       "105            1  \n",
       "693            0  "
      ]
     },
     "execution_count": 43,
     "metadata": {},
     "output_type": "execute_result"
    }
   ],
   "source": [
    "titanicTest_X = titanicTest.iloc[:,range(6,titanicTest.shape[1])]\n",
    "titanicTest_X.head()\n"
   ]
  },
  {
   "cell_type": "code",
   "execution_count": 44,
   "metadata": {},
   "outputs": [
    {
     "data": {
      "text/plain": [
       "count    259.000000\n",
       "mean       0.382239\n",
       "std        0.486875\n",
       "min        0.000000\n",
       "25%        0.000000\n",
       "50%        0.000000\n",
       "75%        1.000000\n",
       "max        1.000000\n",
       "Name: Survived, dtype: float64"
      ]
     },
     "execution_count": 44,
     "metadata": {},
     "output_type": "execute_result"
    }
   ],
   "source": [
    "titanicTest_Y = titanicTest.Survived\n",
    "titanicTest_Y.describe()"
   ]
  },
  {
   "cell_type": "code",
   "execution_count": 45,
   "metadata": {
    "collapsed": true
   },
   "outputs": [],
   "source": [
    "tmodel1 =  linear_model.LogisticRegression()"
   ]
  },
  {
   "cell_type": "code",
   "execution_count": 46,
   "metadata": {},
   "outputs": [
    {
     "data": {
      "text/plain": [
       "Index(['Fare', 'Pclass__1', 'Pclass__2', 'Pclass__3', 'Sex__female',\n",
       "       'Sex__male', 'SibSp__0', 'SibSp__1', 'SibSp__2', 'SibSp__3', 'SibSp__4',\n",
       "       'SibSp__5', 'Parch__0', 'Parch__1', 'Parch__2', 'Parch__3', 'Parch__4',\n",
       "       'Embarked__C', 'Embarked__Q', 'Embarked__S'],\n",
       "      dtype='object')"
      ]
     },
     "execution_count": 46,
     "metadata": {},
     "output_type": "execute_result"
    }
   ],
   "source": [
    "titanicTrain_X.columns"
   ]
  },
  {
   "cell_type": "code",
   "execution_count": 47,
   "metadata": {},
   "outputs": [
    {
     "data": {
      "text/plain": [
       "LogisticRegression(C=1.0, class_weight=None, dual=False, fit_intercept=True,\n",
       "          intercept_scaling=1, max_iter=100, multi_class='ovr', n_jobs=1,\n",
       "          penalty='l2', random_state=None, solver='liblinear', tol=0.0001,\n",
       "          verbose=0, warm_start=False)"
      ]
     },
     "execution_count": 47,
     "metadata": {},
     "output_type": "execute_result"
    }
   ],
   "source": [
    "tmodel1.fit(titanicTrain_X,titanicTrain_Y)"
   ]
  },
  {
   "cell_type": "code",
   "execution_count": null,
   "metadata": {
    "collapsed": true
   },
   "outputs": [],
   "source": []
  },
  {
   "cell_type": "code",
   "execution_count": 48,
   "metadata": {},
   "outputs": [
    {
     "data": {
      "text/plain": [
       "array([1, 1, 0, 0, 0, 1, 1, 0, 0, 0, 0, 1, 1, 0, 0, 0, 1, 0, 1, 1, 1, 0, 0,\n",
       "       1, 0, 0, 1, 1, 1, 0, 0, 0, 0, 0, 1, 1, 0, 1, 1, 1, 0, 1, 0, 0, 1, 0,\n",
       "       0, 1, 0, 1, 0, 1, 1, 0, 0, 1, 0, 1, 0, 1, 0, 0, 0, 0, 1, 0, 0, 1, 1,\n",
       "       1, 0, 0, 0, 0, 0, 1, 0, 1, 0, 0, 0, 1, 0, 1, 0, 0, 0, 0, 0, 0, 1, 0,\n",
       "       0, 0, 0, 1, 0, 0, 0, 0, 1, 0, 0, 0, 0, 0, 0, 1, 0, 0, 0, 0, 1, 0, 1,\n",
       "       1, 0, 0, 1, 0, 0, 0, 1, 0, 0, 0, 1, 1, 0, 1, 1, 0, 1, 0, 1, 0, 0, 1,\n",
       "       0, 0, 0, 0, 1, 1, 1, 0, 0, 1, 0, 1, 1, 1, 1, 1, 0, 0, 0, 0, 1, 1, 1,\n",
       "       1, 0, 0, 0, 1, 1, 1, 0, 1, 0, 0, 1, 0, 0, 0, 1, 0, 0, 1, 0, 0, 0, 0,\n",
       "       0, 0, 0, 1, 1, 0, 1, 0, 0, 0, 0, 1, 0, 0, 1, 0, 1, 0, 0, 1, 1, 0, 0,\n",
       "       0, 0, 1, 0, 1, 0, 0, 0, 0, 1, 0, 1, 0, 1, 1, 1, 0, 0, 0, 1, 1, 0, 0,\n",
       "       1, 0, 0, 0, 0, 0, 0, 0, 0, 0, 0, 0, 0, 0, 0, 0, 1, 1, 1, 0, 0, 1, 1,\n",
       "       1, 0, 0, 0, 1, 1], dtype=int64)"
      ]
     },
     "execution_count": 48,
     "metadata": {},
     "output_type": "execute_result"
    }
   ],
   "source": [
    "predicted1 = tmodel1.predict(titanicTest_X)\n",
    "predicted1"
   ]
  },
  {
   "cell_type": "code",
   "execution_count": 49,
   "metadata": {
    "collapsed": true
   },
   "outputs": [],
   "source": [
    "from sklearn import metrics"
   ]
  },
  {
   "cell_type": "code",
   "execution_count": 50,
   "metadata": {},
   "outputs": [
    {
     "name": "stdout",
     "output_type": "stream",
     "text": [
      "             precision    recall  f1-score   support\n",
      "\n",
      "          0       0.83      0.83      0.83       160\n",
      "          1       0.72      0.72      0.72        99\n",
      "\n",
      "avg / total       0.79      0.79      0.79       259\n",
      "\n"
     ]
    }
   ],
   "source": [
    "print (metrics.classification_report(titanicTest_Y,predicted1))"
   ]
  },
  {
   "cell_type": "code",
   "execution_count": 51,
   "metadata": {},
   "outputs": [
    {
     "name": "stdout",
     "output_type": "stream",
     "text": [
      "[[133  27]\n",
      " [ 28  71]]\n"
     ]
    }
   ],
   "source": [
    "print (metrics.confusion_matrix(titanicTest_Y, predicted1))"
   ]
  },
  {
   "cell_type": "code",
   "execution_count": 52,
   "metadata": {
    "collapsed": true
   },
   "outputs": [],
   "source": [
    "#ROC Curve analysis\n",
    "fpr, tpr, threshold = metrics.roc_curve(titanicTest_Y,predicted1,pos_label=1)"
   ]
  },
  {
   "cell_type": "code",
   "execution_count": 53,
   "metadata": {
    "scrolled": true
   },
   "outputs": [
    {
     "name": "stdout",
     "output_type": "stream",
     "text": [
      "[2 1 0]\n"
     ]
    }
   ],
   "source": [
    "print (threshold)"
   ]
  },
  {
   "cell_type": "code",
   "execution_count": 54,
   "metadata": {
    "collapsed": true
   },
   "outputs": [],
   "source": [
    "#Building CAP Curve to find fitment of model\n",
    "from scipy import integrate"
   ]
  },
  {
   "cell_type": "code",
   "execution_count": 55,
   "metadata": {
    "collapsed": true
   },
   "outputs": [],
   "source": [
    "def capcurve(y_values, y_preds_proba):\n",
    "\tnum_pos_obs = np.sum(y_values)\n",
    "\tnum_count = len(y_values)\n",
    "\trate_pos_obs = float(num_pos_obs) / float(num_count)\n",
    "\tideal = pd.DataFrame({'x':[0,rate_pos_obs,1],'y':[0,1,1]})\n",
    "\txx = np.arange(num_count) / float(num_count - 1)\n",
    "\n",
    "\ty_cap = np.c_[y_values,y_preds_proba]\n",
    "\ty_cap_df_s = pd.DataFrame(data=y_cap)\n",
    "\ty_cap_df_s = y_cap_df_s.sort_values([1], ascending=False).reset_index(drop=True)\n",
    "\n",
    "\tprint(y_cap_df_s.head(20))\n",
    "\n",
    "\tyy = np.cumsum(y_cap_df_s[0]) / float(num_pos_obs)\n",
    "\tyy = np.append([0], yy[0:num_count-1]) #add the first curve point (0,0) : for xx=0 we have yy=0\n",
    "\n",
    "\tpercent = 0.5\n",
    "\trow_index = np.trunc(num_count * percent)\n",
    "\n",
    "\tval_y1 = yy[row_index]\n",
    "\tval_y2 = yy[row_index+1]\n",
    "\tif val_y1 == val_y2:\n",
    "\t\tval = val_y1*1.0\n",
    "\telse:\n",
    "\t\tval_x1 = xx[row_index]\n",
    "\t\tval_x2 = xx[row_index+1]\n",
    "\t\tval = val_y1 + ((val_x2 - percent)/(val_x2 - val_x1))*(val_y2 - val_y1)\n",
    "\n",
    "\tsigma_ideal = 1 * xx[num_pos_obs - 1 ] / 2 + (xx[num_count - 1] - xx[num_pos_obs]) * 1\n",
    "\tsigma_model = integrate.simps(yy,xx)\n",
    "\tsigma_random = integrate.simps(xx,xx)\n",
    "\n",
    "\tar_value = (sigma_model - sigma_random) / (sigma_ideal - sigma_random)\n",
    "\t#ar_label = 'ar value = %s' % ar_value\n",
    "\n",
    "\tfig, ax = plt.subplots(nrows = 1, ncols = 1)\n",
    "\tax.plot(ideal['x'],ideal['y'], color='grey', label='Perfect Model')\n",
    "\tax.plot(xx,yy, color='red', label='User Model')\n",
    "\t#ax.scatter(xx,yy, color='red')\n",
    "\tax.plot(xx,xx, color='blue', label='Random Model')\n",
    "\tax.plot([percent, percent], [0.0, val], color='green', linestyle='--', linewidth=1)\n",
    "\tax.plot([0, percent], [val, val], color='green', linestyle='--', linewidth=1, label=str(val*100)+'% of positive obs at '+str(percent*100)+'%')\n",
    "\n",
    "\tplt.xlim(0, 1.02)\n",
    "\tplt.ylim(0, 1.25)\n",
    "\tplt.title(\"CAP Curve - a_r value =\"+str(ar_value))\n",
    "\tplt.xlabel('% of the data')\n",
    "\tplt.ylabel('% of positive obs')\n",
    "\tplt.legend()\n",
    "\tplt.show()"
   ]
  },
  {
   "cell_type": "code",
   "execution_count": 56,
   "metadata": {
    "collapsed": true
   },
   "outputs": [],
   "source": [
    "y_pred_proba = tmodel1.predict_proba(titanicTest_X)\n",
    "#capcurve(titanicTest_Y, y_pred_proba[:,1])"
   ]
  },
  {
   "cell_type": "code",
   "execution_count": 57,
   "metadata": {},
   "outputs": [
    {
     "name": "stdout",
     "output_type": "stream",
     "text": [
      "0.774210858586\n"
     ]
    }
   ],
   "source": [
    "#AUC score works only when the data is binary i.e 0,1\n",
    "auc = metrics.roc_auc_score(titanicTest_Y,predicted1)\n",
    "print (auc)"
   ]
  },
  {
   "cell_type": "code",
   "execution_count": 58,
   "metadata": {},
   "outputs": [
    {
     "data": {
      "image/png": "[encoded data removed]",
      "text/plain": [
       "<matplotlib.figure.Figure at 0x1a52fbdfcf8>"
      ]
     },
     "metadata": {},
     "output_type": "display_data"
    }
   ],
   "source": [
    "plt.plot(fpr,tpr,'b',label='AUC = %0.2f'% auc)\n",
    "plt.legend(loc='lower right')\n",
    "plt.plot([0,1],[0,1],'r--')\n",
    "plt.xlim([-0.1,1.2])\n",
    "plt.ylim([-0.1,1.2])\n",
    "plt.show()"
   ]
  },
  {
   "cell_type": "code",
   "execution_count": 59,
   "metadata": {
    "collapsed": true
   },
   "outputs": [],
   "source": [
    "#AUC is 0.77 which is not so good. Need to do regularization\n",
    "#penalty=l1 makes it a Lasso regression"
   ]
  },
  {
   "cell_type": "code",
   "execution_count": 60,
   "metadata": {
    "collapsed": true
   },
   "outputs": [],
   "source": [
    "tmodel_lasso = linear_model.LogisticRegression(penalty='l1')"
   ]
  },
  {
   "cell_type": "code",
   "execution_count": 61,
   "metadata": {},
   "outputs": [
    {
     "data": {
      "text/plain": [
       "LogisticRegression(C=1.0, class_weight=None, dual=False, fit_intercept=True,\n",
       "          intercept_scaling=1, max_iter=100, multi_class='ovr', n_jobs=1,\n",
       "          penalty='l1', random_state=None, solver='liblinear', tol=0.0001,\n",
       "          verbose=0, warm_start=False)"
      ]
     },
     "execution_count": 61,
     "metadata": {},
     "output_type": "execute_result"
    }
   ],
   "source": [
    "tmodel_lasso.fit(titanicTrain_X,titanicTrain_Y)"
   ]
  },
  {
   "cell_type": "code",
   "execution_count": 62,
   "metadata": {},
   "outputs": [
    {
     "data": {
      "text/plain": [
       "Index(['Fare', 'Pclass__1', 'Pclass__2', 'Pclass__3', 'Sex__female',\n",
       "       'Sex__male', 'SibSp__0', 'SibSp__1', 'SibSp__2', 'SibSp__3', 'SibSp__4',\n",
       "       'SibSp__5', 'Parch__0', 'Parch__1', 'Parch__2', 'Parch__3', 'Parch__4',\n",
       "       'Embarked__C', 'Embarked__Q', 'Embarked__S'],\n",
       "      dtype='object')"
      ]
     },
     "execution_count": 62,
     "metadata": {},
     "output_type": "execute_result"
    }
   ],
   "source": [
    "titanicTrain_X.columns"
   ]
  },
  {
   "cell_type": "code",
   "execution_count": 63,
   "metadata": {},
   "outputs": [
    {
     "data": {
      "text/plain": [
       "array([[ 0.00635685,  0.48086504,  0.        , -1.06904464,  1.21371709,\n",
       "        -1.25460288,  0.47805391,  0.39760034,  0.        , -0.41514561,\n",
       "        -1.55344956,  0.        , -0.00165098,  0.43324572,  0.59045658,\n",
       "         0.        ,  0.        ,  0.        ,  0.        , -0.54992967]])"
      ]
     },
     "execution_count": 63,
     "metadata": {},
     "output_type": "execute_result"
    }
   ],
   "source": [
    "tmodel_lasso.coef_"
   ]
  },
  {
   "cell_type": "code",
   "execution_count": 64,
   "metadata": {
    "collapsed": true
   },
   "outputs": [],
   "source": [
    "predicted2 = tmodel_lasso.predict(titanicTest_X)"
   ]
  },
  {
   "cell_type": "code",
   "execution_count": 65,
   "metadata": {},
   "outputs": [
    {
     "name": "stdout",
     "output_type": "stream",
     "text": [
      "             precision    recall  f1-score   support\n",
      "\n",
      "          0       0.83      0.83      0.83       160\n",
      "          1       0.72      0.72      0.72        99\n",
      "\n",
      "avg / total       0.79      0.79      0.79       259\n",
      "\n"
     ]
    }
   ],
   "source": [
    "print (metrics.classification_report(titanicTest_Y,predicted2))"
   ]
  },
  {
   "cell_type": "code",
   "execution_count": 66,
   "metadata": {},
   "outputs": [
    {
     "name": "stdout",
     "output_type": "stream",
     "text": [
      "0.774210858586\n"
     ]
    }
   ],
   "source": [
    "print (metrics.roc_auc_score(titanicTest_Y,predicted2))"
   ]
  },
  {
   "cell_type": "code",
   "execution_count": 67,
   "metadata": {
    "collapsed": true
   },
   "outputs": [],
   "source": [
    "#Using Naive Bayes"
   ]
  },
  {
   "cell_type": "code",
   "execution_count": 68,
   "metadata": {
    "collapsed": true
   },
   "outputs": [],
   "source": [
    "from sklearn.naive_bayes import GaussianNB"
   ]
  },
  {
   "cell_type": "code",
   "execution_count": 69,
   "metadata": {
    "collapsed": true
   },
   "outputs": [],
   "source": [
    "tmodel_nb = GaussianNB()"
   ]
  },
  {
   "cell_type": "code",
   "execution_count": 70,
   "metadata": {},
   "outputs": [
    {
     "data": {
      "text/plain": [
       "GaussianNB(priors=None)"
      ]
     },
     "execution_count": 70,
     "metadata": {},
     "output_type": "execute_result"
    }
   ],
   "source": [
    "tmodel_nb.fit(titanicTrain_X,titanicTrain_Y)"
   ]
  },
  {
   "cell_type": "code",
   "execution_count": 71,
   "metadata": {
    "collapsed": true
   },
   "outputs": [],
   "source": [
    "predicted3 = tmodel_nb.predict(titanicTest_X)"
   ]
  },
  {
   "cell_type": "code",
   "execution_count": 72,
   "metadata": {},
   "outputs": [
    {
     "name": "stdout",
     "output_type": "stream",
     "text": [
      "             precision    recall  f1-score   support\n",
      "\n",
      "          0       0.62      0.05      0.09       160\n",
      "          1       0.38      0.95      0.54        99\n",
      "\n",
      "avg / total       0.53      0.39      0.27       259\n",
      "\n"
     ]
    }
   ],
   "source": [
    "print (metrics.classification_report(titanicTest_Y, predicted3))"
   ]
  },
  {
   "cell_type": "code",
   "execution_count": 73,
   "metadata": {},
   "outputs": [
    {
     "data": {
      "text/plain": [
       "array([1, 1, 0, 0, 0, 1, 1, 0, 0, 0, 0, 1, 1, 0, 0, 0, 1, 0, 1, 1, 1, 0, 0,\n",
       "       1, 0, 0, 1, 1, 1, 0, 0, 0, 0, 0, 1, 0, 0, 1, 1, 1, 0, 1, 0, 0, 1, 0,\n",
       "       0, 1, 0, 1, 0, 1, 1, 0, 0, 1, 0, 1, 0, 1, 0, 0, 0, 0, 1, 0, 0, 1, 1,\n",
       "       1, 0, 0, 0, 0, 0, 1, 0, 1, 0, 0, 0, 1, 0, 1, 0, 0, 0, 0, 0, 0, 1, 0,\n",
       "       0, 0, 0, 1, 0, 0, 0, 0, 1, 0, 0, 0, 0, 1, 0, 1, 0, 0, 0, 0, 1, 0, 1,\n",
       "       1, 0, 0, 1, 0, 0, 0, 1, 0, 0, 0, 1, 1, 0, 1, 1, 0, 1, 0, 1, 0, 0, 1,\n",
       "       0, 0, 0, 0, 1, 1, 1, 0, 0, 1, 0, 1, 1, 1, 1, 1, 0, 0, 0, 0, 1, 1, 1,\n",
       "       1, 0, 0, 0, 1, 1, 1, 0, 1, 0, 0, 1, 0, 0, 0, 1, 0, 0, 1, 0, 0, 0, 0,\n",
       "       0, 0, 0, 1, 1, 0, 1, 0, 0, 0, 0, 1, 0, 0, 1, 0, 1, 0, 0, 1, 1, 0, 0,\n",
       "       0, 0, 1, 0, 1, 0, 0, 0, 0, 1, 0, 1, 0, 1, 1, 1, 0, 0, 0, 1, 1, 0, 0,\n",
       "       1, 0, 0, 0, 0, 0, 0, 0, 0, 0, 0, 0, 0, 0, 0, 0, 1, 1, 1, 0, 0, 1, 1,\n",
       "       1, 0, 0, 0, 1, 1], dtype=int64)"
      ]
     },
     "execution_count": 73,
     "metadata": {},
     "output_type": "execute_result"
    }
   ],
   "source": [
    "predicted2"
   ]
  },
  {
   "cell_type": "code",
   "execution_count": 74,
   "metadata": {},
   "outputs": [
    {
     "data": {
      "text/html": [
       "<div>\n",
       "<style>\n",
       "    .dataframe thead tr:only-child th {\n",
       "        text-align: right;\n",
       "    }\n",
       "\n",
       "    .dataframe thead th {\n",
       "        text-align: left;\n",
       "    }\n",
       "\n",
       "    .dataframe tbody tr th {\n",
       "        vertical-align: top;\n",
       "    }\n",
       "</style>\n",
       "<table border=\"1\" class=\"dataframe\">\n",
       "  <thead>\n",
       "    <tr style=\"text-align: right;\">\n",
       "      <th></th>\n",
       "      <th>PassengerId</th>\n",
       "      <th>Survived</th>\n",
       "      <th>Pclass</th>\n",
       "      <th>Name</th>\n",
       "      <th>Sex</th>\n",
       "      <th>Age</th>\n",
       "      <th>SibSp</th>\n",
       "      <th>Parch</th>\n",
       "      <th>Ticket</th>\n",
       "      <th>Fare</th>\n",
       "      <th>Cabin</th>\n",
       "      <th>Embarked</th>\n",
       "    </tr>\n",
       "  </thead>\n",
       "  <tbody>\n",
       "    <tr>\n",
       "      <th>0</th>\n",
       "      <td>1</td>\n",
       "      <td>0</td>\n",
       "      <td>3</td>\n",
       "      <td>Braund, Mr. Owen Harris</td>\n",
       "      <td>male</td>\n",
       "      <td>22.0</td>\n",
       "      <td>1</td>\n",
       "      <td>0</td>\n",
       "      <td>A/5 21171</td>\n",
       "      <td>7.2500</td>\n",
       "      <td>NaN</td>\n",
       "      <td>S</td>\n",
       "    </tr>\n",
       "    <tr>\n",
       "      <th>1</th>\n",
       "      <td>2</td>\n",
       "      <td>1</td>\n",
       "      <td>1</td>\n",
       "      <td>Cumings, Mrs. John Bradley (Florence Briggs Th...</td>\n",
       "      <td>female</td>\n",
       "      <td>38.0</td>\n",
       "      <td>1</td>\n",
       "      <td>0</td>\n",
       "      <td>PC 17599</td>\n",
       "      <td>71.2833</td>\n",
       "      <td>C85</td>\n",
       "      <td>C</td>\n",
       "    </tr>\n",
       "    <tr>\n",
       "      <th>2</th>\n",
       "      <td>3</td>\n",
       "      <td>1</td>\n",
       "      <td>3</td>\n",
       "      <td>Heikkinen, Miss. Laina</td>\n",
       "      <td>female</td>\n",
       "      <td>26.0</td>\n",
       "      <td>0</td>\n",
       "      <td>0</td>\n",
       "      <td>STON/O2. 3101282</td>\n",
       "      <td>7.9250</td>\n",
       "      <td>NaN</td>\n",
       "      <td>S</td>\n",
       "    </tr>\n",
       "    <tr>\n",
       "      <th>3</th>\n",
       "      <td>4</td>\n",
       "      <td>1</td>\n",
       "      <td>1</td>\n",
       "      <td>Futrelle, Mrs. Jacques Heath (Lily May Peel)</td>\n",
       "      <td>female</td>\n",
       "      <td>35.0</td>\n",
       "      <td>1</td>\n",
       "      <td>0</td>\n",
       "      <td>113803</td>\n",
       "      <td>53.1000</td>\n",
       "      <td>C123</td>\n",
       "      <td>S</td>\n",
       "    </tr>\n",
       "    <tr>\n",
       "      <th>4</th>\n",
       "      <td>5</td>\n",
       "      <td>0</td>\n",
       "      <td>3</td>\n",
       "      <td>Allen, Mr. William Henry</td>\n",
       "      <td>male</td>\n",
       "      <td>35.0</td>\n",
       "      <td>0</td>\n",
       "      <td>0</td>\n",
       "      <td>373450</td>\n",
       "      <td>8.0500</td>\n",
       "      <td>NaN</td>\n",
       "      <td>S</td>\n",
       "    </tr>\n",
       "  </tbody>\n",
       "</table>\n",
       "</div>"
      ],
      "text/plain": [
       "   PassengerId  Survived  Pclass  \\\n",
       "0            1         0       3   \n",
       "1            2         1       1   \n",
       "2            3         1       3   \n",
       "3            4         1       1   \n",
       "4            5         0       3   \n",
       "\n",
       "                                                Name     Sex   Age  SibSp  \\\n",
       "0                            Braund, Mr. Owen Harris    male  22.0      1   \n",
       "1  Cumings, Mrs. John Bradley (Florence Briggs Th...  female  38.0      1   \n",
       "2                             Heikkinen, Miss. Laina  female  26.0      0   \n",
       "3       Futrelle, Mrs. Jacques Heath (Lily May Peel)  female  35.0      1   \n",
       "4                           Allen, Mr. William Henry    male  35.0      0   \n",
       "\n",
       "   Parch            Ticket     Fare Cabin Embarked  \n",
       "0      0         A/5 21171   7.2500   NaN        S  \n",
       "1      0          PC 17599  71.2833   C85        C  \n",
       "2      0  STON/O2. 3101282   7.9250   NaN        S  \n",
       "3      0            113803  53.1000  C123        S  \n",
       "4      0            373450   8.0500   NaN        S  "
      ]
     },
     "execution_count": 74,
     "metadata": {},
     "output_type": "execute_result"
    }
   ],
   "source": [
    "titanic1 = pd.read_csv('Titanic/train.csv')\n",
    "titanic1.head()"
   ]
  },
  {
   "cell_type": "code",
   "execution_count": 75,
   "metadata": {
    "collapsed": true
   },
   "outputs": [],
   "source": [
    "del titanic1['Cabin']\n",
    "del titanic1['Ticket']\n",
    "del titanic1['Embarked']\n",
    "del titanic1['Name']"
   ]
  },
  {
   "cell_type": "code",
   "execution_count": 76,
   "metadata": {
    "collapsed": true
   },
   "outputs": [],
   "source": [
    "del titanic1['PassengerId']"
   ]
  },
  {
   "cell_type": "code",
   "execution_count": 77,
   "metadata": {},
   "outputs": [
    {
     "data": {
      "text/html": [
       "<div>\n",
       "<style>\n",
       "    .dataframe thead tr:only-child th {\n",
       "        text-align: right;\n",
       "    }\n",
       "\n",
       "    .dataframe thead th {\n",
       "        text-align: left;\n",
       "    }\n",
       "\n",
       "    .dataframe tbody tr th {\n",
       "        vertical-align: top;\n",
       "    }\n",
       "</style>\n",
       "<table border=\"1\" class=\"dataframe\">\n",
       "  <thead>\n",
       "    <tr style=\"text-align: right;\">\n",
       "      <th></th>\n",
       "      <th>Survived</th>\n",
       "      <th>Pclass</th>\n",
       "      <th>Sex</th>\n",
       "      <th>Age</th>\n",
       "      <th>SibSp</th>\n",
       "      <th>Parch</th>\n",
       "      <th>Fare</th>\n",
       "      <th>Sex__female</th>\n",
       "      <th>Sex__male</th>\n",
       "    </tr>\n",
       "  </thead>\n",
       "  <tbody>\n",
       "    <tr>\n",
       "      <th>0</th>\n",
       "      <td>0</td>\n",
       "      <td>3</td>\n",
       "      <td>male</td>\n",
       "      <td>22.0</td>\n",
       "      <td>1</td>\n",
       "      <td>0</td>\n",
       "      <td>7.2500</td>\n",
       "      <td>0</td>\n",
       "      <td>1</td>\n",
       "    </tr>\n",
       "    <tr>\n",
       "      <th>1</th>\n",
       "      <td>1</td>\n",
       "      <td>1</td>\n",
       "      <td>female</td>\n",
       "      <td>38.0</td>\n",
       "      <td>1</td>\n",
       "      <td>0</td>\n",
       "      <td>71.2833</td>\n",
       "      <td>1</td>\n",
       "      <td>0</td>\n",
       "    </tr>\n",
       "    <tr>\n",
       "      <th>2</th>\n",
       "      <td>1</td>\n",
       "      <td>3</td>\n",
       "      <td>female</td>\n",
       "      <td>26.0</td>\n",
       "      <td>0</td>\n",
       "      <td>0</td>\n",
       "      <td>7.9250</td>\n",
       "      <td>1</td>\n",
       "      <td>0</td>\n",
       "    </tr>\n",
       "    <tr>\n",
       "      <th>3</th>\n",
       "      <td>1</td>\n",
       "      <td>1</td>\n",
       "      <td>female</td>\n",
       "      <td>35.0</td>\n",
       "      <td>1</td>\n",
       "      <td>0</td>\n",
       "      <td>53.1000</td>\n",
       "      <td>1</td>\n",
       "      <td>0</td>\n",
       "    </tr>\n",
       "    <tr>\n",
       "      <th>4</th>\n",
       "      <td>0</td>\n",
       "      <td>3</td>\n",
       "      <td>male</td>\n",
       "      <td>35.0</td>\n",
       "      <td>0</td>\n",
       "      <td>0</td>\n",
       "      <td>8.0500</td>\n",
       "      <td>0</td>\n",
       "      <td>1</td>\n",
       "    </tr>\n",
       "  </tbody>\n",
       "</table>\n",
       "</div>"
      ],
      "text/plain": [
       "   Survived  Pclass     Sex   Age  SibSp  Parch     Fare  Sex__female  \\\n",
       "0         0       3    male  22.0      1      0   7.2500            0   \n",
       "1         1       1  female  38.0      1      0  71.2833            1   \n",
       "2         1       3  female  26.0      0      0   7.9250            1   \n",
       "3         1       1  female  35.0      1      0  53.1000            1   \n",
       "4         0       3    male  35.0      0      0   8.0500            0   \n",
       "\n",
       "   Sex__male  \n",
       "0          1  \n",
       "1          0  \n",
       "2          0  \n",
       "3          0  \n",
       "4          1  "
      ]
     },
     "execution_count": 77,
     "metadata": {},
     "output_type": "execute_result"
    }
   ],
   "source": [
    "#Doing cross tabulation as NB doesnt understand chars\n",
    "Sex_dummy = pd.get_dummies(titanic1['Sex'], prefix='Sex_')\n",
    "titanicDF1 = pd.concat([titanic1,Sex_dummy],axis=1)\n",
    "titanicDF1.head()"
   ]
  },
  {
   "cell_type": "code",
   "execution_count": 78,
   "metadata": {
    "collapsed": true
   },
   "outputs": [],
   "source": [
    "del titanicDF1['Sex']"
   ]
  },
  {
   "cell_type": "code",
   "execution_count": 79,
   "metadata": {},
   "outputs": [
    {
     "data": {
      "text/html": [
       "<div>\n",
       "<style>\n",
       "    .dataframe thead tr:only-child th {\n",
       "        text-align: right;\n",
       "    }\n",
       "\n",
       "    .dataframe thead th {\n",
       "        text-align: left;\n",
       "    }\n",
       "\n",
       "    .dataframe tbody tr th {\n",
       "        vertical-align: top;\n",
       "    }\n",
       "</style>\n",
       "<table border=\"1\" class=\"dataframe\">\n",
       "  <thead>\n",
       "    <tr style=\"text-align: right;\">\n",
       "      <th></th>\n",
       "      <th>Survived</th>\n",
       "      <th>Pclass</th>\n",
       "      <th>Age</th>\n",
       "      <th>SibSp</th>\n",
       "      <th>Parch</th>\n",
       "      <th>Fare</th>\n",
       "      <th>Sex__female</th>\n",
       "      <th>Sex__male</th>\n",
       "    </tr>\n",
       "  </thead>\n",
       "  <tbody>\n",
       "    <tr>\n",
       "      <th>0</th>\n",
       "      <td>0</td>\n",
       "      <td>3</td>\n",
       "      <td>22.0</td>\n",
       "      <td>1</td>\n",
       "      <td>0</td>\n",
       "      <td>7.2500</td>\n",
       "      <td>0</td>\n",
       "      <td>1</td>\n",
       "    </tr>\n",
       "    <tr>\n",
       "      <th>1</th>\n",
       "      <td>1</td>\n",
       "      <td>1</td>\n",
       "      <td>38.0</td>\n",
       "      <td>1</td>\n",
       "      <td>0</td>\n",
       "      <td>71.2833</td>\n",
       "      <td>1</td>\n",
       "      <td>0</td>\n",
       "    </tr>\n",
       "    <tr>\n",
       "      <th>2</th>\n",
       "      <td>1</td>\n",
       "      <td>3</td>\n",
       "      <td>26.0</td>\n",
       "      <td>0</td>\n",
       "      <td>0</td>\n",
       "      <td>7.9250</td>\n",
       "      <td>1</td>\n",
       "      <td>0</td>\n",
       "    </tr>\n",
       "    <tr>\n",
       "      <th>3</th>\n",
       "      <td>1</td>\n",
       "      <td>1</td>\n",
       "      <td>35.0</td>\n",
       "      <td>1</td>\n",
       "      <td>0</td>\n",
       "      <td>53.1000</td>\n",
       "      <td>1</td>\n",
       "      <td>0</td>\n",
       "    </tr>\n",
       "    <tr>\n",
       "      <th>4</th>\n",
       "      <td>0</td>\n",
       "      <td>3</td>\n",
       "      <td>35.0</td>\n",
       "      <td>0</td>\n",
       "      <td>0</td>\n",
       "      <td>8.0500</td>\n",
       "      <td>0</td>\n",
       "      <td>1</td>\n",
       "    </tr>\n",
       "  </tbody>\n",
       "</table>\n",
       "</div>"
      ],
      "text/plain": [
       "   Survived  Pclass   Age  SibSp  Parch     Fare  Sex__female  Sex__male\n",
       "0         0       3  22.0      1      0   7.2500            0          1\n",
       "1         1       1  38.0      1      0  71.2833            1          0\n",
       "2         1       3  26.0      0      0   7.9250            1          0\n",
       "3         1       1  35.0      1      0  53.1000            1          0\n",
       "4         0       3  35.0      0      0   8.0500            0          1"
      ]
     },
     "execution_count": 79,
     "metadata": {},
     "output_type": "execute_result"
    }
   ],
   "source": [
    "titanicDF1.head()"
   ]
  },
  {
   "cell_type": "code",
   "execution_count": 80,
   "metadata": {},
   "outputs": [
    {
     "name": "stderr",
     "output_type": "stream",
     "text": [
      "C:\\Users\\harsmoha\\Anaconda3\\lib\\site-packages\\ipykernel_launcher.py:2: FutureWarning: reshape is deprecated and will raise in a subsequent release. Please use .values.reshape(...) instead\n",
      "  \n"
     ]
    }
   ],
   "source": [
    "imp1 = Imputer(axis=0,strategy='median',missing_values='NaN')\n",
    "temp = imp1.fit_transform(titanicDF1.Age.reshape(-1,1))\n",
    "titanicDF1['Age'] = temp"
   ]
  },
  {
   "cell_type": "code",
   "execution_count": 81,
   "metadata": {},
   "outputs": [
    {
     "name": "stdout",
     "output_type": "stream",
     "text": [
      "0\n"
     ]
    }
   ],
   "source": [
    "print (titanicDF1['Age'].isnull().sum())"
   ]
  },
  {
   "cell_type": "code",
   "execution_count": 82,
   "metadata": {},
   "outputs": [
    {
     "name": "stdout",
     "output_type": "stream",
     "text": [
      "<class 'pandas.core.frame.DataFrame'>\n",
      "RangeIndex: 891 entries, 0 to 890\n",
      "Data columns (total 8 columns):\n",
      "Survived       891 non-null int64\n",
      "Pclass         891 non-null int64\n",
      "Age            891 non-null float64\n",
      "SibSp          891 non-null int64\n",
      "Parch          891 non-null int64\n",
      "Fare           891 non-null float64\n",
      "Sex__female    891 non-null uint8\n",
      "Sex__male      891 non-null uint8\n",
      "dtypes: float64(2), int64(4), uint8(2)\n",
      "memory usage: 43.6 KB\n"
     ]
    }
   ],
   "source": [
    "titanicDF1.info()"
   ]
  },
  {
   "cell_type": "code",
   "execution_count": 83,
   "metadata": {
    "collapsed": true
   },
   "outputs": [],
   "source": [
    "titanic1_train, titanic1_test = train_test_split(titanicDF1, test_size=0.2, random_state=10)"
   ]
  },
  {
   "cell_type": "code",
   "execution_count": 84,
   "metadata": {},
   "outputs": [
    {
     "data": {
      "text/html": [
       "<div>\n",
       "<style>\n",
       "    .dataframe thead tr:only-child th {\n",
       "        text-align: right;\n",
       "    }\n",
       "\n",
       "    .dataframe thead th {\n",
       "        text-align: left;\n",
       "    }\n",
       "\n",
       "    .dataframe tbody tr th {\n",
       "        vertical-align: top;\n",
       "    }\n",
       "</style>\n",
       "<table border=\"1\" class=\"dataframe\">\n",
       "  <thead>\n",
       "    <tr style=\"text-align: right;\">\n",
       "      <th></th>\n",
       "      <th>Pclass</th>\n",
       "      <th>Age</th>\n",
       "      <th>SibSp</th>\n",
       "      <th>Parch</th>\n",
       "      <th>Fare</th>\n",
       "      <th>Sex__female</th>\n",
       "      <th>Sex__male</th>\n",
       "    </tr>\n",
       "  </thead>\n",
       "  <tbody>\n",
       "    <tr>\n",
       "      <th>57</th>\n",
       "      <td>3</td>\n",
       "      <td>28.5</td>\n",
       "      <td>0</td>\n",
       "      <td>0</td>\n",
       "      <td>7.2292</td>\n",
       "      <td>0</td>\n",
       "      <td>1</td>\n",
       "    </tr>\n",
       "    <tr>\n",
       "      <th>717</th>\n",
       "      <td>2</td>\n",
       "      <td>27.0</td>\n",
       "      <td>0</td>\n",
       "      <td>0</td>\n",
       "      <td>10.5000</td>\n",
       "      <td>1</td>\n",
       "      <td>0</td>\n",
       "    </tr>\n",
       "    <tr>\n",
       "      <th>431</th>\n",
       "      <td>3</td>\n",
       "      <td>28.0</td>\n",
       "      <td>1</td>\n",
       "      <td>0</td>\n",
       "      <td>16.1000</td>\n",
       "      <td>1</td>\n",
       "      <td>0</td>\n",
       "    </tr>\n",
       "    <tr>\n",
       "      <th>633</th>\n",
       "      <td>1</td>\n",
       "      <td>28.0</td>\n",
       "      <td>0</td>\n",
       "      <td>0</td>\n",
       "      <td>0.0000</td>\n",
       "      <td>0</td>\n",
       "      <td>1</td>\n",
       "    </tr>\n",
       "    <tr>\n",
       "      <th>163</th>\n",
       "      <td>3</td>\n",
       "      <td>17.0</td>\n",
       "      <td>0</td>\n",
       "      <td>0</td>\n",
       "      <td>8.6625</td>\n",
       "      <td>0</td>\n",
       "      <td>1</td>\n",
       "    </tr>\n",
       "  </tbody>\n",
       "</table>\n",
       "</div>"
      ],
      "text/plain": [
       "     Pclass   Age  SibSp  Parch     Fare  Sex__female  Sex__male\n",
       "57        3  28.5      0      0   7.2292            0          1\n",
       "717       2  27.0      0      0  10.5000            1          0\n",
       "431       3  28.0      1      0  16.1000            1          0\n",
       "633       1  28.0      0      0   0.0000            0          1\n",
       "163       3  17.0      0      0   8.6625            0          1"
      ]
     },
     "execution_count": 84,
     "metadata": {},
     "output_type": "execute_result"
    }
   ],
   "source": [
    "titanic1_train_X = titanic1_train.iloc[:,range(1,titanicDF1.shape[1])]\n",
    "titanic1_train_X.head()"
   ]
  },
  {
   "cell_type": "code",
   "execution_count": 85,
   "metadata": {},
   "outputs": [
    {
     "data": {
      "text/plain": [
       "57     0\n",
       "717    1\n",
       "431    1\n",
       "633    0\n",
       "163    0\n",
       "Name: Survived, dtype: int64"
      ]
     },
     "execution_count": 85,
     "metadata": {},
     "output_type": "execute_result"
    }
   ],
   "source": [
    "titanic1_train_Y = titanic1_train.Survived\n",
    "titanic1_train_Y.head()"
   ]
  },
  {
   "cell_type": "code",
   "execution_count": 86,
   "metadata": {
    "collapsed": true
   },
   "outputs": [],
   "source": [
    "titanic1_test_X = titanic1_test.iloc[:,range(1,titanicDF1.shape[1])]\n",
    "titanic1_test_Y = titanic1_test.Survived"
   ]
  },
  {
   "cell_type": "code",
   "execution_count": 87,
   "metadata": {
    "collapsed": true
   },
   "outputs": [],
   "source": [
    "tmodel_nb1 = GaussianNB()"
   ]
  },
  {
   "cell_type": "code",
   "execution_count": 88,
   "metadata": {},
   "outputs": [
    {
     "data": {
      "text/plain": [
       "GaussianNB(priors=None)"
      ]
     },
     "execution_count": 88,
     "metadata": {},
     "output_type": "execute_result"
    }
   ],
   "source": [
    "tmodel_nb1.fit(titanic1_train_X,titanic1_train_Y)"
   ]
  },
  {
   "cell_type": "code",
   "execution_count": 89,
   "metadata": {
    "collapsed": true
   },
   "outputs": [],
   "source": [
    "predicted4 = tmodel_nb1.predict(titanic1_test_X)"
   ]
  },
  {
   "cell_type": "code",
   "execution_count": 90,
   "metadata": {},
   "outputs": [
    {
     "name": "stdout",
     "output_type": "stream",
     "text": [
      "             precision    recall  f1-score   support\n",
      "\n",
      "          0       0.84      0.88      0.86       117\n",
      "          1       0.75      0.69      0.72        62\n",
      "\n",
      "avg / total       0.81      0.82      0.81       179\n",
      "\n"
     ]
    }
   ],
   "source": [
    "print (metrics.classification_report(titanic1_test_Y, predicted4))"
   ]
  },
  {
   "cell_type": "code",
   "execution_count": 91,
   "metadata": {},
   "outputs": [
    {
     "data": {
      "text/plain": [
       "0.81564245810055869"
      ]
     },
     "execution_count": 91,
     "metadata": {},
     "output_type": "execute_result"
    }
   ],
   "source": [
    "tmodel_nb1.score(titanic1_test_X,titanic1_test_Y)"
   ]
  },
  {
   "cell_type": "code",
   "execution_count": 92,
   "metadata": {
    "collapsed": true
   },
   "outputs": [],
   "source": [
    "#Using KNN\n",
    "from sklearn.neighbors import KNeighborsClassifier"
   ]
  },
  {
   "cell_type": "code",
   "execution_count": 93,
   "metadata": {
    "collapsed": true
   },
   "outputs": [],
   "source": [
    "score = []\n",
    "for i in range(1,20):\n",
    "    knn = KNeighborsClassifier(i)\n",
    "    knn.fit(titanicTrain_X, titanicTrain_Y)\n",
    "    score.append(knn.score(titanicTest_X, titanicTest_Y))    "
   ]
  },
  {
   "cell_type": "code",
   "execution_count": 94,
   "metadata": {},
   "outputs": [
    {
     "data": {
      "image/png": "[encoded data removed]",
      "text/plain": [
       "<matplotlib.figure.Figure at 0x1a53032a278>"
      ]
     },
     "metadata": {},
     "output_type": "display_data"
    }
   ],
   "source": [
    "plt.plot(range(1,20), score)\n",
    "plt.show()"
   ]
  },
  {
   "cell_type": "code",
   "execution_count": 95,
   "metadata": {
    "collapsed": true
   },
   "outputs": [],
   "source": [
    "knn1 = KNeighborsClassifier(n_neighbors=3)"
   ]
  },
  {
   "cell_type": "code",
   "execution_count": 96,
   "metadata": {},
   "outputs": [
    {
     "data": {
      "text/plain": [
       "KNeighborsClassifier(algorithm='auto', leaf_size=30, metric='minkowski',\n",
       "           metric_params=None, n_jobs=1, n_neighbors=3, p=2,\n",
       "           weights='uniform')"
      ]
     },
     "execution_count": 96,
     "metadata": {},
     "output_type": "execute_result"
    }
   ],
   "source": [
    "knn1.fit(titanicTrain_X, titanicTrain_Y)"
   ]
  },
  {
   "cell_type": "code",
   "execution_count": 97,
   "metadata": {
    "collapsed": true
   },
   "outputs": [],
   "source": [
    "predicted5 = knn1.predict(titanicTest_X)"
   ]
  },
  {
   "cell_type": "code",
   "execution_count": 98,
   "metadata": {},
   "outputs": [
    {
     "name": "stdout",
     "output_type": "stream",
     "text": [
      "             precision    recall  f1-score   support\n",
      "\n",
      "          0       0.81      0.82      0.82       160\n",
      "          1       0.71      0.69      0.70        99\n",
      "\n",
      "avg / total       0.77      0.77      0.77       259\n",
      "\n"
     ]
    }
   ],
   "source": [
    "print (metrics.classification_report(titanicTest_Y, predicted5))"
   ]
  },
  {
   "cell_type": "code",
   "execution_count": 99,
   "metadata": {},
   "outputs": [
    {
     "name": "stdout",
     "output_type": "stream",
     "text": [
      "0.755934343434\n"
     ]
    }
   ],
   "source": [
    "print (metrics.roc_auc_score(titanicTest_Y, predicted5))"
   ]
  },
  {
   "cell_type": "code",
   "execution_count": 100,
   "metadata": {
    "collapsed": true
   },
   "outputs": [],
   "source": [
    "#Using gridsearchcv to find best parameters for KNN\n",
    "from sklearn.model_selection import GridSearchCV"
   ]
  },
  {
   "cell_type": "code",
   "execution_count": 101,
   "metadata": {
    "collapsed": true
   },
   "outputs": [],
   "source": [
    "knn2 = KNeighborsClassifier()\n",
    "params = [{\"n_neighbors\":range(1,20)}]\n",
    "gridsearch = GridSearchCV(estimator = knn2, cv=10, param_grid=params)"
   ]
  },
  {
   "cell_type": "code",
   "execution_count": 102,
   "metadata": {},
   "outputs": [
    {
     "data": {
      "text/plain": [
       "GridSearchCV(cv=10, error_score='raise',\n",
       "       estimator=KNeighborsClassifier(algorithm='auto', leaf_size=30, metric='minkowski',\n",
       "           metric_params=None, n_jobs=1, n_neighbors=5, p=2,\n",
       "           weights='uniform'),\n",
       "       fit_params=None, iid=True, n_jobs=1,\n",
       "       param_grid=[{'n_neighbors': range(1, 20)}], pre_dispatch='2*n_jobs',\n",
       "       refit=True, return_train_score='warn', scoring=None, verbose=0)"
      ]
     },
     "execution_count": 102,
     "metadata": {},
     "output_type": "execute_result"
    }
   ],
   "source": [
    "gridsearch.fit(titanicTrain_X, titanicTrain_Y)"
   ]
  },
  {
   "cell_type": "code",
   "execution_count": 103,
   "metadata": {},
   "outputs": [
    {
     "data": {
      "text/plain": [
       "{'n_neighbors': 6}"
      ]
     },
     "execution_count": 103,
     "metadata": {},
     "output_type": "execute_result"
    }
   ],
   "source": [
    "gridsearch.best_params_"
   ]
  },
  {
   "cell_type": "code",
   "execution_count": 104,
   "metadata": {},
   "outputs": [
    {
     "name": "stderr",
     "output_type": "stream",
     "text": [
      "C:\\Users\\harsmoha\\Anaconda3\\lib\\site-packages\\sklearn\\model_selection\\_search.py:761: DeprecationWarning: The grid_scores_ attribute was deprecated in version 0.18 in favor of the more elaborate cv_results_ attribute. The grid_scores_ attribute will not be available from 0.20\n",
      "  DeprecationWarning)\n"
     ]
    },
    {
     "data": {
      "text/plain": [
       "[mean: 0.75249, std: 0.07929, params: {'n_neighbors': 1},\n",
       " mean: 0.73920, std: 0.05414, params: {'n_neighbors': 2},\n",
       " mean: 0.75581, std: 0.04504, params: {'n_neighbors': 3},\n",
       " mean: 0.75083, std: 0.03412, params: {'n_neighbors': 4},\n",
       " mean: 0.75914, std: 0.05125, params: {'n_neighbors': 5},\n",
       " mean: 0.76080, std: 0.03950, params: {'n_neighbors': 6},\n",
       " mean: 0.73920, std: 0.04292, params: {'n_neighbors': 7},\n",
       " mean: 0.74917, std: 0.04890, params: {'n_neighbors': 8},\n",
       " mean: 0.74252, std: 0.03453, params: {'n_neighbors': 9},\n",
       " mean: 0.73422, std: 0.04863, params: {'n_neighbors': 10},\n",
       " mean: 0.72259, std: 0.04645, params: {'n_neighbors': 11},\n",
       " mean: 0.71429, std: 0.05315, params: {'n_neighbors': 12},\n",
       " mean: 0.71927, std: 0.05579, params: {'n_neighbors': 13},\n",
       " mean: 0.70930, std: 0.05278, params: {'n_neighbors': 14},\n",
       " mean: 0.71429, std: 0.05938, params: {'n_neighbors': 15},\n",
       " mean: 0.71429, std: 0.04849, params: {'n_neighbors': 16},\n",
       " mean: 0.72259, std: 0.04927, params: {'n_neighbors': 17},\n",
       " mean: 0.70764, std: 0.04491, params: {'n_neighbors': 18},\n",
       " mean: 0.71262, std: 0.05309, params: {'n_neighbors': 19}]"
      ]
     },
     "execution_count": 104,
     "metadata": {},
     "output_type": "execute_result"
    }
   ],
   "source": [
    "gridsearch.grid_scores_"
   ]
  },
  {
   "cell_type": "code",
   "execution_count": 105,
   "metadata": {
    "collapsed": true
   },
   "outputs": [],
   "source": [
    "#Using gradient descent with regularization"
   ]
  },
  {
   "cell_type": "code",
   "execution_count": 106,
   "metadata": {
    "collapsed": true
   },
   "outputs": [],
   "source": [
    "titanicTrain, titanicTest = train_test_split(titanicDF,test_size=0.2,random_state=45)"
   ]
  },
  {
   "cell_type": "code",
   "execution_count": 107,
   "metadata": {},
   "outputs": [
    {
     "data": {
      "text/html": [
       "<div>\n",
       "<style>\n",
       "    .dataframe thead tr:only-child th {\n",
       "        text-align: right;\n",
       "    }\n",
       "\n",
       "    .dataframe thead th {\n",
       "        text-align: left;\n",
       "    }\n",
       "\n",
       "    .dataframe tbody tr th {\n",
       "        vertical-align: top;\n",
       "    }\n",
       "</style>\n",
       "<table border=\"1\" class=\"dataframe\">\n",
       "  <thead>\n",
       "    <tr style=\"text-align: right;\">\n",
       "      <th></th>\n",
       "      <th>Fare</th>\n",
       "      <th>Pclass__1</th>\n",
       "      <th>Pclass__2</th>\n",
       "      <th>Sex__female</th>\n",
       "      <th>SibSp__0</th>\n",
       "      <th>SibSp__1</th>\n",
       "      <th>SibSp__2</th>\n",
       "      <th>SibSp__3</th>\n",
       "      <th>SibSp__4</th>\n",
       "      <th>Parch__0</th>\n",
       "      <th>Parch__1</th>\n",
       "      <th>Parch__2</th>\n",
       "      <th>Parch__3</th>\n",
       "      <th>Embarked__C</th>\n",
       "      <th>Embarked__Q</th>\n",
       "    </tr>\n",
       "  </thead>\n",
       "  <tbody>\n",
       "    <tr>\n",
       "      <th>515</th>\n",
       "      <td>34.0208</td>\n",
       "      <td>1</td>\n",
       "      <td>0</td>\n",
       "      <td>0</td>\n",
       "      <td>1</td>\n",
       "      <td>0</td>\n",
       "      <td>0</td>\n",
       "      <td>0</td>\n",
       "      <td>0</td>\n",
       "      <td>1</td>\n",
       "      <td>0</td>\n",
       "      <td>0</td>\n",
       "      <td>0</td>\n",
       "      <td>0</td>\n",
       "      <td>0</td>\n",
       "    </tr>\n",
       "    <tr>\n",
       "      <th>798</th>\n",
       "      <td>7.2292</td>\n",
       "      <td>0</td>\n",
       "      <td>0</td>\n",
       "      <td>0</td>\n",
       "      <td>1</td>\n",
       "      <td>0</td>\n",
       "      <td>0</td>\n",
       "      <td>0</td>\n",
       "      <td>0</td>\n",
       "      <td>1</td>\n",
       "      <td>0</td>\n",
       "      <td>0</td>\n",
       "      <td>0</td>\n",
       "      <td>1</td>\n",
       "      <td>0</td>\n",
       "    </tr>\n",
       "    <tr>\n",
       "      <th>29</th>\n",
       "      <td>7.8958</td>\n",
       "      <td>0</td>\n",
       "      <td>0</td>\n",
       "      <td>0</td>\n",
       "      <td>1</td>\n",
       "      <td>0</td>\n",
       "      <td>0</td>\n",
       "      <td>0</td>\n",
       "      <td>0</td>\n",
       "      <td>1</td>\n",
       "      <td>0</td>\n",
       "      <td>0</td>\n",
       "      <td>0</td>\n",
       "      <td>0</td>\n",
       "      <td>0</td>\n",
       "    </tr>\n",
       "    <tr>\n",
       "      <th>426</th>\n",
       "      <td>26.0000</td>\n",
       "      <td>0</td>\n",
       "      <td>1</td>\n",
       "      <td>1</td>\n",
       "      <td>0</td>\n",
       "      <td>1</td>\n",
       "      <td>0</td>\n",
       "      <td>0</td>\n",
       "      <td>0</td>\n",
       "      <td>1</td>\n",
       "      <td>0</td>\n",
       "      <td>0</td>\n",
       "      <td>0</td>\n",
       "      <td>0</td>\n",
       "      <td>0</td>\n",
       "    </tr>\n",
       "    <tr>\n",
       "      <th>674</th>\n",
       "      <td>0.0000</td>\n",
       "      <td>0</td>\n",
       "      <td>1</td>\n",
       "      <td>0</td>\n",
       "      <td>1</td>\n",
       "      <td>0</td>\n",
       "      <td>0</td>\n",
       "      <td>0</td>\n",
       "      <td>0</td>\n",
       "      <td>1</td>\n",
       "      <td>0</td>\n",
       "      <td>0</td>\n",
       "      <td>0</td>\n",
       "      <td>0</td>\n",
       "      <td>0</td>\n",
       "    </tr>\n",
       "  </tbody>\n",
       "</table>\n",
       "</div>"
      ],
      "text/plain": [
       "        Fare  Pclass__1  Pclass__2  Sex__female  SibSp__0  SibSp__1  SibSp__2  \\\n",
       "515  34.0208          1          0            0         1         0         0   \n",
       "798   7.2292          0          0            0         1         0         0   \n",
       "29    7.8958          0          0            0         1         0         0   \n",
       "426  26.0000          0          1            1         0         1         0   \n",
       "674   0.0000          0          1            0         1         0         0   \n",
       "\n",
       "     SibSp__3  SibSp__4  Parch__0  Parch__1  Parch__2  Parch__3  Embarked__C  \\\n",
       "515         0         0         1         0         0         0            0   \n",
       "798         0         0         1         0         0         0            1   \n",
       "29          0         0         1         0         0         0            0   \n",
       "426         0         0         1         0         0         0            0   \n",
       "674         0         0         1         0         0         0            0   \n",
       "\n",
       "     Embarked__Q  \n",
       "515            0  \n",
       "798            0  \n",
       "29             0  \n",
       "426            0  \n",
       "674            0  "
      ]
     },
     "execution_count": 107,
     "metadata": {},
     "output_type": "execute_result"
    }
   ],
   "source": [
    "titanicTrain_X_Proper = titanicTrain.iloc[:,list(range(6,9)) + list(range(10,11)) + list(range(12,17)) + \n",
    "                                                 list(range(18,22)) + list(range(23,25))]\n",
    "titanicTrain_X_Proper.head()"
   ]
  },
  {
   "cell_type": "code",
   "execution_count": 108,
   "metadata": {},
   "outputs": [
    {
     "data": {
      "text/plain": [
       "Index(['Fare', 'Pclass__1', 'Pclass__2', 'Sex__female', 'SibSp__0', 'SibSp__1',\n",
       "       'SibSp__2', 'SibSp__3', 'SibSp__4', 'Parch__0', 'Parch__1', 'Parch__2',\n",
       "       'Parch__3', 'Embarked__C', 'Embarked__Q'],\n",
       "      dtype='object')"
      ]
     },
     "execution_count": 108,
     "metadata": {},
     "output_type": "execute_result"
    }
   ],
   "source": [
    "titanicTest_X_Proper = titanicTest.iloc[:,list(range(6,9)) + list(range(10,11)) + list(range(12,17)) + \n",
    "                                                 list(range(18,22)) + list(range(23,25))]\n",
    "titanicTest_X_Proper.columns"
   ]
  },
  {
   "cell_type": "code",
   "execution_count": 109,
   "metadata": {
    "collapsed": true
   },
   "outputs": [],
   "source": [
    "titanicTrain_gradient_X = titanicTrain_X_Proper\n",
    "titanicTest_gradient_X = titanicTest_X_Proper"
   ]
  },
  {
   "cell_type": "code",
   "execution_count": 110,
   "metadata": {},
   "outputs": [
    {
     "data": {
      "text/plain": [
       "515    0\n",
       "798    0\n",
       "29     0\n",
       "426    1\n",
       "674    0\n",
       "Name: Survived, dtype: int64"
      ]
     },
     "execution_count": 110,
     "metadata": {},
     "output_type": "execute_result"
    }
   ],
   "source": [
    "titanicTrain_Y = titanicTrain.Survived\n",
    "titanicTrain_Y.head()"
   ]
  },
  {
   "cell_type": "code",
   "execution_count": 111,
   "metadata": {},
   "outputs": [
    {
     "data": {
      "text/plain": [
       "(688, 1)"
      ]
     },
     "execution_count": 111,
     "metadata": {},
     "output_type": "execute_result"
    }
   ],
   "source": [
    "titanicTrain_gradient_Y = np.array([titanicTrain_Y]).transpose()\n",
    "titanicTrain_gradient_Y.shape"
   ]
  },
  {
   "cell_type": "code",
   "execution_count": 112,
   "metadata": {},
   "outputs": [
    {
     "data": {
      "text/plain": [
       "(2, 1)"
      ]
     },
     "execution_count": 112,
     "metadata": {},
     "output_type": "execute_result"
    }
   ],
   "source": [
    "theta1_practice = np.array([1,2],ndmin=2).transpose()\n",
    "theta1_practice.shape"
   ]
  },
  {
   "cell_type": "code",
   "execution_count": 113,
   "metadata": {},
   "outputs": [
    {
     "data": {
      "text/plain": [
       "array([[1, 2, 2],\n",
       "       [2, 1, 3]])"
      ]
     },
     "execution_count": 113,
     "metadata": {},
     "output_type": "execute_result"
    }
   ],
   "source": [
    "X_practice = np.array([(1,2),(2,1),(2,3)],ndmin=2).transpose()\n",
    "X_practice"
   ]
  },
  {
   "cell_type": "code",
   "execution_count": 114,
   "metadata": {},
   "outputs": [
    {
     "data": {
      "text/plain": [
       "array([[1],\n",
       "       [0],\n",
       "       [1]])"
      ]
     },
     "execution_count": 114,
     "metadata": {},
     "output_type": "execute_result"
    }
   ],
   "source": [
    "Y_practice = np.array([1,0,1],ndmin=2).transpose()\n",
    "Y_practice"
   ]
  },
  {
   "cell_type": "code",
   "execution_count": 115,
   "metadata": {},
   "outputs": [
    {
     "data": {
      "text/plain": [
       "array([[5, 4, 8]])"
      ]
     },
     "execution_count": 115,
     "metadata": {},
     "output_type": "execute_result"
    }
   ],
   "source": [
    "theta1X = np.dot(theta1_practice.transpose(),X_practice)\n",
    "theta1X"
   ]
  },
  {
   "cell_type": "code",
   "execution_count": 116,
   "metadata": {},
   "outputs": [
    {
     "data": {
      "text/plain": [
       "array([[ 0.00673795,  0.01831564,  0.00033546]])"
      ]
     },
     "execution_count": 116,
     "metadata": {},
     "output_type": "execute_result"
    }
   ],
   "source": [
    "exp = np.divide(1,np.exp(theta1X))\n",
    "exp"
   ]
  },
  {
   "cell_type": "code",
   "execution_count": 117,
   "metadata": {},
   "outputs": [
    {
     "data": {
      "text/plain": [
       "array([[ 0.99330715,  0.98201379,  0.99966465]])"
      ]
     },
     "execution_count": 117,
     "metadata": {},
     "output_type": "execute_result"
    }
   ],
   "source": [
    "hx_practice = np.divide(1, np.add(1,exp))\n",
    "hx_practice"
   ]
  },
  {
   "cell_type": "code",
   "execution_count": 118,
   "metadata": {},
   "outputs": [
    {
     "data": {
      "text/plain": [
       "array([[ -6.69285092e-03,   9.82013790e-01,  -3.35350130e-04]])"
      ]
     },
     "execution_count": 118,
     "metadata": {},
     "output_type": "execute_result"
    }
   ],
   "source": [
    "costerror_practice = np.subtract(hx_practice,Y_practice.transpose())\n",
    "costerror_practice"
   ]
  },
  {
   "cell_type": "code",
   "execution_count": 119,
   "metadata": {},
   "outputs": [
    {
     "data": {
      "text/plain": [
       "array([[ -2.91643879e-03,  -1.74506034e+00,  -1.45665137e-04]])"
      ]
     },
     "execution_count": 119,
     "metadata": {},
     "output_type": "execute_result"
    }
   ],
   "source": [
    "costerror_practice_1 = np.divide(np.add(np.multiply(np.log10(hx_practice),Y_practice.transpose()),\n",
    "                      np.multiply(np.subtract(1,Y_practice.transpose()),np.log10(np.subtract(1,hx_practice)))),Y_practice.shape[0])\n",
    "#errorSum = costerror_practice_1.sum()\n",
    "#errorSum\n",
    "costerror_practice_1*3"
   ]
  },
  {
   "cell_type": "code",
   "execution_count": 120,
   "metadata": {},
   "outputs": [
    {
     "data": {
      "text/plain": [
       "array([[ 0.99330715,  0.98201379,  0.99966465]])"
      ]
     },
     "execution_count": 120,
     "metadata": {},
     "output_type": "execute_result"
    }
   ],
   "source": [
    "hx_practice2 = np.divide(1,np.add(1,np.divide(1,np.exp(np.dot(theta1_practice.transpose(),X_practice)))))\n",
    "hx_practice2"
   ]
  },
  {
   "cell_type": "code",
   "execution_count": 121,
   "metadata": {
    "collapsed": true
   },
   "outputs": [],
   "source": [
    "#thetanew = np.random.randint(0,50,size=(titanicTrain_gradient_X().shape[0],1))\n",
    "#thetanew.shape"
   ]
  },
  {
   "cell_type": "code",
   "execution_count": 122,
   "metadata": {},
   "outputs": [
    {
     "data": {
      "text/plain": [
       "0"
      ]
     },
     "execution_count": 122,
     "metadata": {},
     "output_type": "execute_result"
    }
   ],
   "source": [
    "titanicTrain_gradient_Y.min()"
   ]
  },
  {
   "cell_type": "code",
   "execution_count": 123,
   "metadata": {},
   "outputs": [
    {
     "data": {
      "text/plain": [
       "688"
      ]
     },
     "execution_count": 123,
     "metadata": {},
     "output_type": "execute_result"
    }
   ],
   "source": [
    "titanicTrain_gradient_Y.shape[0]"
   ]
  },
  {
   "cell_type": "code",
   "execution_count": 124,
   "metadata": {
    "collapsed": true
   },
   "outputs": [],
   "source": [
    " from scipy.special import expit"
   ]
  },
  {
   "cell_type": "code",
   "execution_count": 125,
   "metadata": {},
   "outputs": [
    {
     "data": {
      "text/plain": [
       "(688, 15)"
      ]
     },
     "execution_count": 125,
     "metadata": {},
     "output_type": "execute_result"
    }
   ],
   "source": [
    "titanicTrain_gradient_X.shape"
   ]
  },
  {
   "cell_type": "code",
   "execution_count": 126,
   "metadata": {
    "collapsed": true
   },
   "outputs": [],
   "source": [
    "def getJTheta(p_theta, p_titanicTrain_gradient_X, p_titanicTrain_gradient_Y):\n",
    "    thetaX = np.dot(p_theta.transpose(),p_titanicTrain_gradient_X())\n",
    "    eThetaX = expit(-thetaX)\n",
    "    denom = np.add(1,eThetaX)\n",
    "    hx = np.divide(1,denom)\n",
    "    p_hxNewLogSafe = np.subtract(hx,epsilon)\n",
    "    jTheta = np.add(np.multiply(p_titanicTrain_gradient_Y.transpose(),np.log(p_hxNewLogSafe)),\n",
    "                      np.multiply(np.subtract(1,p_titanicTrain_gradient_Y.transpose()),np.log(np.subtract(1,p_hxNewLogSafe))))\n",
    "    return jTheta     "
   ]
  },
  {
   "cell_type": "code",
   "execution_count": 127,
   "metadata": {
    "collapsed": true
   },
   "outputs": [],
   "source": [
    "def calculateGradientOfJ(p_theta,p_titanicTrain_gradient_X, p_titanicTrain_gradient_Y, p_epsilon):    \n",
    "    JPlus = getJTheta(np.add(p_theta,epsilon), p_titanicTrain_gradient_X, p_titanicTrain_gradient_Y)\n",
    "    JMinus = getJTheta(np.subtract(p_theta,epsilon), p_titanicTrain_gradient_X, p_titanicTrain_gradient_Y)\n",
    "    JDiff = np.divide(np.subtract(JPlus,JMinus),titanicTrain_gradient_Y.shape[0])\n",
    "    JDiff\n",
    "    return JDiff"
   ]
  },
  {
   "cell_type": "code",
   "execution_count": 128,
   "metadata": {
    "collapsed": true
   },
   "outputs": [],
   "source": [
    "from sklearn.preprocessing import StandardScaler"
   ]
  },
  {
   "cell_type": "code",
   "execution_count": 129,
   "metadata": {
    "collapsed": true
   },
   "outputs": [],
   "source": [
    "scalar = StandardScaler()"
   ]
  },
  {
   "cell_type": "code",
   "execution_count": 130,
   "metadata": {},
   "outputs": [
    {
     "data": {
      "text/html": [
       "<div>\n",
       "<style>\n",
       "    .dataframe thead tr:only-child th {\n",
       "        text-align: right;\n",
       "    }\n",
       "\n",
       "    .dataframe thead th {\n",
       "        text-align: left;\n",
       "    }\n",
       "\n",
       "    .dataframe tbody tr th {\n",
       "        vertical-align: top;\n",
       "    }\n",
       "</style>\n",
       "<table border=\"1\" class=\"dataframe\">\n",
       "  <thead>\n",
       "    <tr style=\"text-align: right;\">\n",
       "      <th></th>\n",
       "      <th>Fare</th>\n",
       "      <th>Pclass__1</th>\n",
       "      <th>Pclass__2</th>\n",
       "      <th>Sex__female</th>\n",
       "      <th>SibSp__0</th>\n",
       "      <th>SibSp__1</th>\n",
       "      <th>SibSp__2</th>\n",
       "      <th>SibSp__3</th>\n",
       "      <th>SibSp__4</th>\n",
       "      <th>Parch__0</th>\n",
       "      <th>Parch__1</th>\n",
       "      <th>Parch__2</th>\n",
       "      <th>Parch__3</th>\n",
       "      <th>Embarked__C</th>\n",
       "      <th>Embarked__Q</th>\n",
       "    </tr>\n",
       "  </thead>\n",
       "  <tbody>\n",
       "    <tr>\n",
       "      <th>515</th>\n",
       "      <td>34.0208</td>\n",
       "      <td>1</td>\n",
       "      <td>0</td>\n",
       "      <td>0</td>\n",
       "      <td>1</td>\n",
       "      <td>0</td>\n",
       "      <td>0</td>\n",
       "      <td>0</td>\n",
       "      <td>0</td>\n",
       "      <td>1</td>\n",
       "      <td>0</td>\n",
       "      <td>0</td>\n",
       "      <td>0</td>\n",
       "      <td>0</td>\n",
       "      <td>0</td>\n",
       "    </tr>\n",
       "    <tr>\n",
       "      <th>798</th>\n",
       "      <td>7.2292</td>\n",
       "      <td>0</td>\n",
       "      <td>0</td>\n",
       "      <td>0</td>\n",
       "      <td>1</td>\n",
       "      <td>0</td>\n",
       "      <td>0</td>\n",
       "      <td>0</td>\n",
       "      <td>0</td>\n",
       "      <td>1</td>\n",
       "      <td>0</td>\n",
       "      <td>0</td>\n",
       "      <td>0</td>\n",
       "      <td>1</td>\n",
       "      <td>0</td>\n",
       "    </tr>\n",
       "    <tr>\n",
       "      <th>29</th>\n",
       "      <td>7.8958</td>\n",
       "      <td>0</td>\n",
       "      <td>0</td>\n",
       "      <td>0</td>\n",
       "      <td>1</td>\n",
       "      <td>0</td>\n",
       "      <td>0</td>\n",
       "      <td>0</td>\n",
       "      <td>0</td>\n",
       "      <td>1</td>\n",
       "      <td>0</td>\n",
       "      <td>0</td>\n",
       "      <td>0</td>\n",
       "      <td>0</td>\n",
       "      <td>0</td>\n",
       "    </tr>\n",
       "    <tr>\n",
       "      <th>426</th>\n",
       "      <td>26.0000</td>\n",
       "      <td>0</td>\n",
       "      <td>1</td>\n",
       "      <td>1</td>\n",
       "      <td>0</td>\n",
       "      <td>1</td>\n",
       "      <td>0</td>\n",
       "      <td>0</td>\n",
       "      <td>0</td>\n",
       "      <td>1</td>\n",
       "      <td>0</td>\n",
       "      <td>0</td>\n",
       "      <td>0</td>\n",
       "      <td>0</td>\n",
       "      <td>0</td>\n",
       "    </tr>\n",
       "    <tr>\n",
       "      <th>674</th>\n",
       "      <td>0.0000</td>\n",
       "      <td>0</td>\n",
       "      <td>1</td>\n",
       "      <td>0</td>\n",
       "      <td>1</td>\n",
       "      <td>0</td>\n",
       "      <td>0</td>\n",
       "      <td>0</td>\n",
       "      <td>0</td>\n",
       "      <td>1</td>\n",
       "      <td>0</td>\n",
       "      <td>0</td>\n",
       "      <td>0</td>\n",
       "      <td>0</td>\n",
       "      <td>0</td>\n",
       "    </tr>\n",
       "  </tbody>\n",
       "</table>\n",
       "</div>"
      ],
      "text/plain": [
       "        Fare  Pclass__1  Pclass__2  Sex__female  SibSp__0  SibSp__1  SibSp__2  \\\n",
       "515  34.0208          1          0            0         1         0         0   \n",
       "798   7.2292          0          0            0         1         0         0   \n",
       "29    7.8958          0          0            0         1         0         0   \n",
       "426  26.0000          0          1            1         0         1         0   \n",
       "674   0.0000          0          1            0         1         0         0   \n",
       "\n",
       "     SibSp__3  SibSp__4  Parch__0  Parch__1  Parch__2  Parch__3  Embarked__C  \\\n",
       "515         0         0         1         0         0         0            0   \n",
       "798         0         0         1         0         0         0            1   \n",
       "29          0         0         1         0         0         0            0   \n",
       "426         0         0         1         0         0         0            0   \n",
       "674         0         0         1         0         0         0            0   \n",
       "\n",
       "     Embarked__Q  \n",
       "515            0  \n",
       "798            0  \n",
       "29             0  \n",
       "426            0  \n",
       "674            0  "
      ]
     },
     "execution_count": 130,
     "metadata": {},
     "output_type": "execute_result"
    }
   ],
   "source": [
    "titanicTrain_gradient_X.head()"
   ]
  },
  {
   "cell_type": "code",
   "execution_count": 131,
   "metadata": {},
   "outputs": [
    {
     "name": "stdout",
     "output_type": "stream",
     "text": [
      "(688, 15)\n"
     ]
    }
   ],
   "source": [
    "titanicTrain_gradient_sc_T_X = scalar.fit_transform(titanicTrain_gradient_X)\n",
    "print (titanicTrain_gradient_sc_T_X.shape)\n",
    "titanicTrain_gradient_sc_X = titanicTrain_gradient_sc_T_X\n",
    "#titanicTrain_gradient_sc_X = titanicTrain_gradient_sc_T_X.transpose()\n",
    "#print (titanicTrain_gradient_sc_X.shape)"
   ]
  },
  {
   "cell_type": "code",
   "execution_count": 132,
   "metadata": {},
   "outputs": [
    {
     "data": {
      "text/plain": [
       "array([  1.40856514e-01,  -5.84689921e-01,  -5.66637649e-01,\n",
       "        -7.63557033e-02,  -7.80464726e-01,  -3.60707424e-01,\n",
       "        -2.72693796e-01,   7.49504602e-01,  -4.28410215e-01,\n",
       "        -3.71539871e-01,  -5.66637649e-01,  -7.80464726e-01,\n",
       "         3.19687618e-02,   4.55093199e-02,   5.92267484e+00,\n",
       "        -7.63557033e-02,  -5.84803661e-01,  -3.44458754e-01,\n",
       "        -5.69909047e-01,  -5.70586075e-01,  -5.62461740e-01,\n",
       "        -5.67764223e-01,   2.75698808e-01,  -3.51229034e-01,\n",
       "        -5.65846880e-01,   1.29744766e+00,  -3.87788540e-01,\n",
       "         3.32367845e+00,  -5.84689921e-01,  -5.84803661e-01,\n",
       "        -1.50828773e-01,  -5.69909047e-01,  -5.70810849e-01,\n",
       "        -2.98420857e-01,  -5.65846880e-01,  -5.84126633e-01,\n",
       "        -1.26455768e-01,  -7.80464726e-01,  -5.65846880e-01,\n",
       "        -5.89542857e-01,  -6.85698824e-02,   1.13212111e-01,\n",
       "        -4.28410215e-01,  -4.28410215e-01,  -5.62461740e-01,\n",
       "         5.90498781e-02,  -3.54161918e-01,  -4.37888606e-01,\n",
       "         3.32367845e+00,   2.89263644e+00,  -3.89028856e-01,\n",
       "        -5.62461740e-01,  -6.04551211e-01,  -3.60707424e-01,\n",
       "        -7.82730463e-02,  -2.97545184e-02,  -2.49015824e-02,\n",
       "         1.47155487e+00,  -9.07980626e-02,  -3.87788540e-01,\n",
       "        -5.23194122e-01,   6.57542548e-01,  -5.69345760e-01,\n",
       "        -5.66637649e-01,  -5.62461740e-01,  -5.66637649e-01,\n",
       "        -5.62461740e-01,  -5.84803661e-01,  -5.73294187e-01,\n",
       "        -5.89542857e-01,  -5.77470095e-01,  -4.41273745e-01,\n",
       "         6.24029666e-01,   5.38116625e+00,  -4.97128547e-01,\n",
       "         1.29744766e+00,  -5.62461740e-01,  -5.66637649e-01,\n",
       "         1.36435968e+00,  -3.87788540e-01,  -2.89637498e-02,\n",
       "        -6.14610894e-02,  -5.62461740e-01,  -7.63557033e-02,\n",
       "         3.45546423e-01,   1.09625663e+00,   5.73591087e-01,\n",
       "         2.89263644e+00,  -4.96113006e-01,  -5.55691461e-01,\n",
       "        -5.62461740e-01,  -1.26455768e-01,   7.49504602e-01,\n",
       "        -5.36734680e-01,   5.87017905e-01,  -6.04551211e-01,\n",
       "        -5.68441251e-01,  -2.71678254e-01,  -5.60769171e-01,\n",
       "        -5.84689921e-01,  -4.28410215e-01,  -5.66637649e-01,\n",
       "        -5.45874557e-01,  -3.88917823e-01,  -7.63557033e-02,\n",
       "        -4.28410215e-01,  -3.67591444e-01,  -2.11761285e-01,\n",
       "        -4.28410215e-01,  -4.28410215e-01,   4.95055850e-01,\n",
       "        -6.85698824e-02,  -2.49015824e-02,  -5.67764223e-01,\n",
       "        -5.69345760e-01,  -4.28410215e-01,  -5.66637649e-01,\n",
       "        -5.62461740e-01,   7.49504602e-01,   7.08996669e-01,\n",
       "        -5.89656597e-01,  -4.76026942e-01,  -5.14392759e-01,\n",
       "        -7.63557033e-02,  -5.65846880e-01,  -4.96113006e-01,\n",
       "         3.32367845e+00,   1.80914901e-01,  -5.84803661e-01,\n",
       "        -4.48044024e-01,  -3.72893927e-01,   8.27278506e-03,\n",
       "        -6.11546264e-01,  -6.14610894e-02,  -4.01329099e-01,\n",
       "        -5.70924589e-01,   3.32367845e+00,  -5.84689921e-01,\n",
       "        -3.89028856e-01,  -4.46012940e-01,  -3.60707424e-01,\n",
       "        -5.20824524e-01,  -3.89028856e-01,  -5.13940504e-01,\n",
       "         4.89639627e-01,   1.38602458e+00,  -1.26455768e-01,\n",
       "        -5.77470095e-01,  -5.30866202e-01,   2.94317076e-01,\n",
       "        -1.26455768e-01,  -5.30641429e-01,  -5.23194122e-01,\n",
       "        -5.70586075e-01,  -7.80464726e-01,  -2.33087664e-01,\n",
       "         7.49504602e-01,  -5.67764223e-01,   2.38444269e-02,\n",
       "        -3.47166866e-01,  -5.84803661e-01,  -3.53937145e-01,\n",
       "         6.64971851e-02,   2.14766297e-01,   1.80914901e-01,\n",
       "        -5.62461740e-01,  -7.63557033e-02,  -5.66637649e-01,\n",
       "         6.57542548e-01,   9.35348763e-01,  -5.65846880e-01,\n",
       "        -5.84126633e-01,  -5.71149363e-01,   1.38602458e+00,\n",
       "         3.68430955e+00,  -4.96113006e-01,  -5.67087195e-01,\n",
       "        -5.52869609e-01,  -7.80464726e-01,   1.50448646e-01,\n",
       "        -2.72693796e-01,   1.33908488e+00,  -5.71038330e-01,\n",
       "         5.38116625e+00,  -3.44458754e-01,  -5.84689921e-01,\n",
       "        -6.95854242e-02,  -5.84689921e-01,   1.33073306e+00,\n",
       "        -2.97545184e-02,   1.80914901e-01,  -5.69345760e-01,\n",
       "        -6.14610894e-02,  -1.70462582e-01,   4.55093199e-02,\n",
       "        -5.70586075e-01,   4.88764553e-03,  -5.87511773e-01,\n",
       "         2.91947478e-01,  -2.49015824e-02,  -2.72693796e-01,\n",
       "        -8.65291261e-03,  -3.51229034e-01,  -4.76026942e-01,\n",
       "        -5.66637649e-01,   1.47155487e+00,  -5.30641429e-01,\n",
       "         9.48186165e-02,  -9.07980626e-02,  -6.14610894e-02,\n",
       "        -5.76002299e-01,  -5.45874557e-01,  -5.67764223e-01,\n",
       "         3.19687618e-02,   8.27278506e-03,  -5.66637649e-01,\n",
       "        -3.88917823e-01,  -4.42627801e-01,  -1.74977004e-01,\n",
       "        -5.69909047e-01,   3.18748210e+00,  -1.30517936e-01,\n",
       "         1.20999732e+00,  -5.20824524e-01,   1.36435968e+00,\n",
       "         8.98001195e-01,  -5.84126633e-01,  -4.17125514e-01,\n",
       "        -4.78962535e-01,   2.38444269e-02,  -5.40796847e-01,\n",
       "        -5.23194122e-01,  -5.69909047e-01,  -6.14610894e-02,\n",
       "        -5.45874557e-01,  -5.91573940e-01,  -4.28410215e-01,\n",
       "        -4.28410215e-01,  -5.67764223e-01,   6.64971851e-02,\n",
       "        -7.63557033e-02,  -5.69909047e-01,  -5.91573940e-01,\n",
       "        -5.84803661e-01,   6.27753320e-01,  -7.63557033e-02,\n",
       "        -7.80464726e-01,  -5.60092143e-01,  -7.80464726e-01,\n",
       "        -5.23194122e-01,  -7.63557033e-02,  -5.67764223e-01,\n",
       "        -2.11761285e-01,  -5.62461740e-01,  -6.95854242e-02,\n",
       "        -5.71038330e-01,  -5.70586075e-01,  -5.66637649e-01,\n",
       "        -5.45874557e-01,  -4.96113006e-01,   1.37654618e+00,\n",
       "        -4.14869657e-01,  -5.66637649e-01,  -2.49015824e-02,\n",
       "        -7.63557033e-02,  -3.90496652e-01,  -4.28410215e-01,\n",
       "        -7.63557033e-02,  -5.70586075e-01,  -7.63557033e-02,\n",
       "        -5.76002299e-01,   6.42761675e-01,  -4.28410215e-01,\n",
       "        -5.89429116e-01,  -5.66637649e-01,  -4.96113006e-01,\n",
       "        -1.26455768e-01,   2.94317076e-01,  -6.14610894e-02,\n",
       "         5.90498781e-02,  -5.69909047e-01,   3.18748210e+00,\n",
       "        -5.68441251e-01,  -5.97667192e-01,  -5.67087195e-01,\n",
       "        -5.84803661e-01,  -2.09730201e-01,  -4.69031889e-01,\n",
       "        -7.80464726e-01,  -5.67087195e-01,  -5.66637649e-01,\n",
       "         2.75698808e-01,  -4.47705510e-01,  -5.84126633e-01,\n",
       "        -5.62461740e-01,  -1.26455768e-01,  -2.09730201e-01,\n",
       "        -4.96113006e-01,  -5.71038330e-01,  -4.69031889e-01,\n",
       "        -7.80464726e-01,  -2.11761285e-01,  -4.28410215e-01,\n",
       "        -5.66637649e-01,  -5.62461740e-01,  -5.71263103e-01,\n",
       "        -5.62461740e-01,   5.60164270e-01,  -4.28410215e-01,\n",
       "         1.25738927e+00,  -7.63557033e-02,   2.62158250e-01,\n",
       "         7.61241558e-01,   6.27753320e-01,  -5.70586075e-01,\n",
       "         2.89263644e+00,  -4.28410215e-01,   2.83892646e+00,\n",
       "        -5.69232020e-01,   1.65683574e+00,  -5.65846880e-01,\n",
       "         6.64971851e-02,  -4.28410215e-01,   1.50448646e-01,\n",
       "        -4.42627801e-01,  -5.71038330e-01,  -4.78962535e-01,\n",
       "        -5.27256289e-01,  -2.49015824e-02,  -7.63557033e-02,\n",
       "         8.28153580e-01,  -4.96113006e-01,  -5.62461740e-01,\n",
       "         2.94317076e-01,  -3.88917823e-01,  -5.70586075e-01,\n",
       "        -5.67087195e-01,   2.75698808e-01,  -5.52081549e-01,\n",
       "        -5.70586075e-01,   8.81752526e-01,  -4.14869657e-01,\n",
       "        -5.84689921e-01,  -4.28410215e-01,   1.75161965e+00,\n",
       "        -2.24624815e-01,  -4.55491331e-01,  -5.89542857e-01,\n",
       "        -4.28410215e-01,  -5.70586075e-01,   2.28714872e+00,\n",
       "        -6.86836231e-02,  -2.98420857e-01,  -5.70924589e-01,\n",
       "        -5.84689921e-01,   5.38116625e+00,   9.96715525e-02,\n",
       "        -1.57599052e-01,  -4.28410215e-01,   6.27753320e-01,\n",
       "        -5.70586075e-01,  -5.62461740e-01,  -5.66637649e-01,\n",
       "        -4.28410215e-01,  -5.62461740e-01,   1.68606168e+00,\n",
       "         6.24029666e-01,  -2.58928465e-01,   1.75161965e+00,\n",
       "        -5.70586075e-01,  -2.89637498e-02,  -4.14869657e-01,\n",
       "        -5.23194122e-01,  -5.62461740e-01,  -1.74977004e-01,\n",
       "         2.46926923e+00,  -1.45412550e-01,  -3.89028856e-01,\n",
       "        -6.95854242e-02,  -5.45874557e-01,   2.14766297e-01,\n",
       "        -5.65846880e-01,   1.02313762e+00,  -7.63557033e-02,\n",
       "         2.16866884e+00,  -5.65846880e-01,  -4.28410215e-01,\n",
       "        -5.62461740e-01,  -5.66637649e-01,   2.46926923e+00,\n",
       "        -5.65846880e-01,  -9.07980626e-02,  -5.67764223e-01,\n",
       "        -3.49874978e-01,  -5.65846880e-01,  -5.65846880e-01,\n",
       "         8.76222562e-01,  -2.11761285e-01,   1.20999732e+00,\n",
       "         1.35488129e+00,  -4.28410215e-01,   1.63257647e+00,\n",
       "        -5.73294187e-01,   1.48013145e+00,   3.68430955e+00,\n",
       "        -3.60707424e-01,  -4.96113006e-01,  -2.32072122e-01,\n",
       "        -5.69909047e-01,  -5.94734307e-01,   2.46926923e+00,\n",
       "        -7.80464726e-01,  -2.49015824e-02,   1.48013145e+00,\n",
       "         1.14996661e+00,  -5.70586075e-01,  -4.42627801e-01,\n",
       "        -2.89637498e-02,   2.46926923e+00,  -5.67764223e-01,\n",
       "         1.43634941e+00,   6.64971851e-02,  -5.66637649e-01,\n",
       "        -5.66637649e-01,  -5.62461740e-01,  -5.62461740e-01,\n",
       "        -3.89028856e-01,  -5.70586075e-01,   7.20958398e-01,\n",
       "        -5.84803661e-01,  -6.95854242e-02,  -7.80464726e-01,\n",
       "        -5.89542857e-01,  -6.06130040e-01,   3.67774604e-01,\n",
       "        -2.33087664e-01,  -6.14610894e-02,   2.86194541e+00,\n",
       "         1.50448646e-01,  -5.62461740e-01,  -4.46012940e-01,\n",
       "        -7.82730463e-02,  -2.52382959e-01,   3.38861048e-02,\n",
       "        -7.63557033e-02,   2.94317076e-01,  -5.66637649e-01,\n",
       "         7.89676730e-01,  -7.63557033e-02,   1.68606168e+00,\n",
       "        -4.28410215e-01,  -3.44458754e-01,   5.38116625e+00,\n",
       "        -6.14610894e-02,  -5.46099330e-01,   1.36435968e+00,\n",
       "        -5.87511773e-01,  -2.58928465e-01,  -7.63557033e-02,\n",
       "        -3.09253303e-01,   5.22556358e+00,  -5.84803661e-01,\n",
       "         2.28714872e+00,   1.20999732e+00,   2.75698808e-01,\n",
       "        -5.45874557e-01,  -5.84689921e-01,   2.28714872e+00,\n",
       "        -4.14869657e-01,  -1.26455768e-01,  -5.65846880e-01,\n",
       "        -5.69909047e-01,  -5.70586075e-01,  -5.69909047e-01,\n",
       "        -5.23646377e-01,  -5.84689921e-01,   6.57542548e-01,\n",
       "        -7.80464726e-01,  -4.96113006e-01,  -5.89429116e-01,\n",
       "         2.16866884e+00,   1.44481226e+00,   1.47155487e+00,\n",
       "        -6.14610894e-02,   9.79807831e-01,  -5.70586075e-01,\n",
       "        -4.28410215e-01,   7.63158901e-01,   2.94317076e-01,\n",
       "        -3.89028856e-01,  -5.84126633e-01,  -4.28410215e-01,\n",
       "        -5.62461740e-01,  -2.93004634e-01,  -5.69909047e-01,\n",
       "        -5.70586075e-01,  -4.28410215e-01,   5.90498781e-02,\n",
       "        -5.62461740e-01,  -7.63557033e-02,  -6.14610894e-02,\n",
       "         1.31256705e+00,  -5.67764223e-01,  -5.66862422e-01,\n",
       "        -5.67764223e-01,   2.22237881e+00,  -5.23194122e-01,\n",
       "        -5.62461740e-01,   4.89639627e-01,   6.27753320e-01,\n",
       "        -4.28410215e-01,  -5.70586075e-01,  -5.66637649e-01,\n",
       "        -5.69570533e-01,   6.42761675e-01,   6.27753320e-01,\n",
       "        -5.66637649e-01,  -5.66637649e-01,  -3.67591444e-01,\n",
       "         4.55093199e-02,  -5.66637649e-01,  -5.62461740e-01,\n",
       "        -4.69031889e-01,   1.65683574e+00,  -2.11761285e-01,\n",
       "        -4.96113006e-01,   1.33073306e+00,  -2.39744202e-01,\n",
       "        -5.89542857e-01,  -2.93004634e-01,  -4.96113006e-01,\n",
       "         1.20999732e+00,   3.37547108e+00,   7.33369673e-01,\n",
       "        -5.23194122e-01,  -4.96113006e-01,   2.21650316e-01,\n",
       "        -6.05791527e-01,  -4.97128547e-01,  -5.53998892e-01,\n",
       "        -4.28410215e-01,  -5.97667192e-01,  -5.65846880e-01,\n",
       "        -5.67764223e-01,  -5.62461740e-01,  -4.05052752e-01,\n",
       "         3.19687618e-02,  -6.14610894e-02,   1.20999732e+00,\n",
       "        -6.71801747e-01,   5.08118025e-02,   6.13649475e-01,\n",
       "        -5.70586075e-01,  -5.84126633e-01,  -5.14392759e-01,\n",
       "        -5.62461740e-01,  -5.84689921e-01,  -4.96113006e-01,\n",
       "        -5.62461740e-01,   1.29744766e+00,  -4.28410215e-01,\n",
       "         7.49504602e-01,  -5.65846880e-01,   7.49504602e-01,\n",
       "        -5.84126633e-01,   4.89639627e-01,  -4.28410215e-01,\n",
       "        -5.66637649e-01,  -7.63557033e-02,  -5.45874557e-01,\n",
       "        -7.63557033e-02,   1.63257647e+00,  -1.84003141e-01,\n",
       "        -2.58928465e-01,  -5.73294187e-01,  -5.65846880e-01,\n",
       "         7.49504602e-01,  -6.85698824e-02,  -4.28410215e-01,\n",
       "        -5.62461740e-01,  -7.63557033e-02,   2.91947478e-01,\n",
       "         2.86194541e+00,  -5.66637649e-01,  -4.96113006e-01,\n",
       "        -5.13829472e-01,  -2.09730201e-01,   4.55093199e-02,\n",
       "        -5.62461740e-01,   1.56205183e+00,  -5.84689921e-01,\n",
       "         2.86531255e-01,  -5.45874557e-01,  -3.44458754e-01,\n",
       "         2.10164307e+00,  -5.70586075e-01,  -5.62461740e-01,\n",
       "        -3.90496652e-01,  -2.97545184e-02,  -4.28410215e-01,\n",
       "        -2.97545184e-02,  -5.62461740e-01,   3.06165064e-01,\n",
       "        -7.80464726e-01,  -5.76793067e-01,   4.55093199e-02,\n",
       "        -3.51229034e-01,  -2.23270759e-01,  -5.51404521e-01,\n",
       "        -2.23270759e-01,   4.88764553e-03,  -1.57599052e-01,\n",
       "        -4.05166493e-01,  -2.24624815e-01,   1.02313762e+00,\n",
       "        -5.84126633e-01,   1.56205183e+00,  -7.83867870e-02,\n",
       "        -5.70586075e-01,  -4.95660751e-01,  -4.46012940e-01,\n",
       "        -4.28410215e-01,   7.89676730e-01,   4.94279068e+00,\n",
       "         1.13212111e-01,  -4.28410215e-01,   5.92267484e+00,\n",
       "        -6.14610894e-02,  -7.80464726e-01,  -5.70586075e-01,\n",
       "        -5.65846880e-01,   3.37547108e+00,   3.19687618e-02,\n",
       "        -5.87511773e-01,  -3.54161918e-01,  -3.44458754e-01,\n",
       "        -5.66637649e-01,   7.63158901e-01,  -7.63557033e-02,\n",
       "        -3.60707424e-01,  -5.70586075e-01,  -5.66637649e-01,\n",
       "        -5.23194122e-01,  -7.63557033e-02,  -5.69909047e-01,\n",
       "        -4.96113006e-01,   5.60050529e-01,  -4.96113006e-01,\n",
       "        -5.45874557e-01,  -5.62461740e-01,  -4.92745870e-02,\n",
       "        -5.70586075e-01,  -5.69909047e-01,   7.33369673e-01,\n",
       "         9.79807831e-01,  -5.92250968e-01,  -5.23871150e-01,\n",
       "        -7.63557033e-02,  -5.67764223e-01,  -3.67591444e-01,\n",
       "         7.08996669e-01,  -3.60707424e-01,  -2.11761285e-01,\n",
       "        -3.51229034e-01,  -5.73857474e-01,  -2.93004634e-01,\n",
       "        -2.32072122e-01,  -5.84803661e-01,  -3.28210085e-01,\n",
       "        -4.28410215e-01,   1.33073306e+00,  -5.65846880e-01,\n",
       "        -5.27256289e-01,  -5.45874557e-01,   1.37654618e+00,\n",
       "        -5.66637649e-01,   1.65683574e+00,  -5.70586075e-01,\n",
       "         8.27278506e-03,  -1.57599052e-01,  -5.69345760e-01,\n",
       "         1.13212111e-01,   8.27278506e-03,  -1.57599052e-01,\n",
       "        -3.44458754e-01,  -5.70586075e-01,  -8.75266638e-02,\n",
       "        -5.70586075e-01])"
      ]
     },
     "execution_count": 132,
     "metadata": {},
     "output_type": "execute_result"
    }
   ],
   "source": [
    "titanicTrain_gradient_sc_X[:,0]"
   ]
  },
  {
   "cell_type": "code",
   "execution_count": 133,
   "metadata": {},
   "outputs": [
    {
     "data": {
      "text/plain": [
       "(688, 16)"
      ]
     },
     "execution_count": 133,
     "metadata": {},
     "output_type": "execute_result"
    }
   ],
   "source": [
    "X_gradient1 = np.ones(titanicTrain_gradient_sc_X.shape[0])\n",
    "X_gradient2 = np.c_[X_gradient1,titanicTrain_gradient_sc_X]\n",
    "X_gradient2.shape"
   ]
  },
  {
   "cell_type": "code",
   "execution_count": 134,
   "metadata": {
    "collapsed": true
   },
   "outputs": [],
   "source": [
    "#X_gradient2[:,0]"
   ]
  },
  {
   "cell_type": "code",
   "execution_count": 135,
   "metadata": {},
   "outputs": [
    {
     "data": {
      "text/plain": [
       "(16, 688)"
      ]
     },
     "execution_count": 135,
     "metadata": {},
     "output_type": "execute_result"
    }
   ],
   "source": [
    "titanicTrain_gradient_sc_X = X_gradient2.transpose\n",
    "titanicTrain_gradient_sc_X().shape"
   ]
  },
  {
   "cell_type": "code",
   "execution_count": 136,
   "metadata": {},
   "outputs": [
    {
     "data": {
      "text/plain": [
       "array([ 1.,  1.,  1.,  1.,  1.,  1.,  1.,  1.,  1.,  1.,  1.,  1.,  1.,\n",
       "        1.,  1.,  1.,  1.,  1.,  1.,  1.,  1.,  1.,  1.,  1.,  1.,  1.,\n",
       "        1.,  1.,  1.,  1.,  1.,  1.,  1.,  1.,  1.,  1.,  1.,  1.,  1.,\n",
       "        1.,  1.,  1.,  1.,  1.,  1.,  1.,  1.,  1.,  1.,  1.,  1.,  1.,\n",
       "        1.,  1.,  1.,  1.,  1.,  1.,  1.,  1.,  1.,  1.,  1.,  1.,  1.,\n",
       "        1.,  1.,  1.,  1.,  1.,  1.,  1.,  1.,  1.,  1.,  1.,  1.,  1.,\n",
       "        1.,  1.,  1.,  1.,  1.,  1.,  1.,  1.,  1.,  1.,  1.,  1.,  1.,\n",
       "        1.,  1.,  1.,  1.,  1.,  1.,  1.,  1.,  1.,  1.,  1.,  1.,  1.,\n",
       "        1.,  1.,  1.,  1.,  1.,  1.,  1.,  1.,  1.,  1.,  1.,  1.,  1.,\n",
       "        1.,  1.,  1.,  1.,  1.,  1.,  1.,  1.,  1.,  1.,  1.,  1.,  1.,\n",
       "        1.,  1.,  1.,  1.,  1.,  1.,  1.,  1.,  1.,  1.,  1.,  1.,  1.,\n",
       "        1.,  1.,  1.,  1.,  1.,  1.,  1.,  1.,  1.,  1.,  1.,  1.,  1.,\n",
       "        1.,  1.,  1.,  1.,  1.,  1.,  1.,  1.,  1.,  1.,  1.,  1.,  1.,\n",
       "        1.,  1.,  1.,  1.,  1.,  1.,  1.,  1.,  1.,  1.,  1.,  1.,  1.,\n",
       "        1.,  1.,  1.,  1.,  1.,  1.,  1.,  1.,  1.,  1.,  1.,  1.,  1.,\n",
       "        1.,  1.,  1.,  1.,  1.,  1.,  1.,  1.,  1.,  1.,  1.,  1.,  1.,\n",
       "        1.,  1.,  1.,  1.,  1.,  1.,  1.,  1.,  1.,  1.,  1.,  1.,  1.,\n",
       "        1.,  1.,  1.,  1.,  1.,  1.,  1.,  1.,  1.,  1.,  1.,  1.,  1.,\n",
       "        1.,  1.,  1.,  1.,  1.,  1.,  1.,  1.,  1.,  1.,  1.,  1.,  1.,\n",
       "        1.,  1.,  1.,  1.,  1.,  1.,  1.,  1.,  1.,  1.,  1.,  1.,  1.,\n",
       "        1.,  1.,  1.,  1.,  1.,  1.,  1.,  1.,  1.,  1.,  1.,  1.,  1.,\n",
       "        1.,  1.,  1.,  1.,  1.,  1.,  1.,  1.,  1.,  1.,  1.,  1.,  1.,\n",
       "        1.,  1.,  1.,  1.,  1.,  1.,  1.,  1.,  1.,  1.,  1.,  1.,  1.,\n",
       "        1.,  1.,  1.,  1.,  1.,  1.,  1.,  1.,  1.,  1.,  1.,  1.,  1.,\n",
       "        1.,  1.,  1.,  1.,  1.,  1.,  1.,  1.,  1.,  1.,  1.,  1.,  1.,\n",
       "        1.,  1.,  1.,  1.,  1.,  1.,  1.,  1.,  1.,  1.,  1.,  1.,  1.,\n",
       "        1.,  1.,  1.,  1.,  1.,  1.,  1.,  1.,  1.,  1.,  1.,  1.,  1.,\n",
       "        1.,  1.,  1.,  1.,  1.,  1.,  1.,  1.,  1.,  1.,  1.,  1.,  1.,\n",
       "        1.,  1.,  1.,  1.,  1.,  1.,  1.,  1.,  1.,  1.,  1.,  1.,  1.,\n",
       "        1.,  1.,  1.,  1.,  1.,  1.,  1.,  1.,  1.,  1.,  1.,  1.,  1.,\n",
       "        1.,  1.,  1.,  1.,  1.,  1.,  1.,  1.,  1.,  1.,  1.,  1.,  1.,\n",
       "        1.,  1.,  1.,  1.,  1.,  1.,  1.,  1.,  1.,  1.,  1.,  1.,  1.,\n",
       "        1.,  1.,  1.,  1.,  1.,  1.,  1.,  1.,  1.,  1.,  1.,  1.,  1.,\n",
       "        1.,  1.,  1.,  1.,  1.,  1.,  1.,  1.,  1.,  1.,  1.,  1.,  1.,\n",
       "        1.,  1.,  1.,  1.,  1.,  1.,  1.,  1.,  1.,  1.,  1.,  1.,  1.,\n",
       "        1.,  1.,  1.,  1.,  1.,  1.,  1.,  1.,  1.,  1.,  1.,  1.,  1.,\n",
       "        1.,  1.,  1.,  1.,  1.,  1.,  1.,  1.,  1.,  1.,  1.,  1.,  1.,\n",
       "        1.,  1.,  1.,  1.,  1.,  1.,  1.,  1.,  1.,  1.,  1.,  1.,  1.,\n",
       "        1.,  1.,  1.,  1.,  1.,  1.,  1.,  1.,  1.,  1.,  1.,  1.,  1.,\n",
       "        1.,  1.,  1.,  1.,  1.,  1.,  1.,  1.,  1.,  1.,  1.,  1.,  1.,\n",
       "        1.,  1.,  1.,  1.,  1.,  1.,  1.,  1.,  1.,  1.,  1.,  1.,  1.,\n",
       "        1.,  1.,  1.,  1.,  1.,  1.,  1.,  1.,  1.,  1.,  1.,  1.,  1.,\n",
       "        1.,  1.,  1.,  1.,  1.,  1.,  1.,  1.,  1.,  1.,  1.,  1.,  1.,\n",
       "        1.,  1.,  1.,  1.,  1.,  1.,  1.,  1.,  1.,  1.,  1.,  1.,  1.,\n",
       "        1.,  1.,  1.,  1.,  1.,  1.,  1.,  1.,  1.,  1.,  1.,  1.,  1.,\n",
       "        1.,  1.,  1.,  1.,  1.,  1.,  1.,  1.,  1.,  1.,  1.,  1.,  1.,\n",
       "        1.,  1.,  1.,  1.,  1.,  1.,  1.,  1.,  1.,  1.,  1.,  1.,  1.,\n",
       "        1.,  1.,  1.,  1.,  1.,  1.,  1.,  1.,  1.,  1.,  1.,  1.,  1.,\n",
       "        1.,  1.,  1.,  1.,  1.,  1.,  1.,  1.,  1.,  1.,  1.,  1.,  1.,\n",
       "        1.,  1.,  1.,  1.,  1.,  1.,  1.,  1.,  1.,  1.,  1.,  1.,  1.,\n",
       "        1.,  1.,  1.,  1.,  1.,  1.,  1.,  1.,  1.,  1.,  1.,  1.,  1.,\n",
       "        1.,  1.,  1.,  1.,  1.,  1.,  1.,  1.,  1.,  1.,  1.,  1.,  1.,\n",
       "        1.,  1.,  1.,  1.,  1.,  1.,  1.,  1.,  1.,  1.,  1.,  1.])"
      ]
     },
     "execution_count": 136,
     "metadata": {},
     "output_type": "execute_result"
    }
   ],
   "source": [
    "titanicTrain_gradient_sc_X()[0,:]"
   ]
  },
  {
   "cell_type": "code",
   "execution_count": 137,
   "metadata": {
    "collapsed": true
   },
   "outputs": [],
   "source": [
    "#calculateGradientOfJ(theta1_practice,X_practice,Y_practice,0.1).shape"
   ]
  },
  {
   "cell_type": "code",
   "execution_count": 185,
   "metadata": {
    "collapsed": true
   },
   "outputs": [],
   "source": [
    "iteration = 20000\n",
    "#iteration = 50000\n",
    "initialThetaSeed = 10\n",
    "np.random.seed(initialThetaSeed)\n",
    "thetanew = np.random.randint(0,initialThetaSeed,size=(titanicTrain_gradient_sc_X().shape[0],1))\n",
    "theta = thetanew\n",
    "errorLog = np.empty(iteration)\n",
    "gradientDiffLog = np.empty(iteration)\n",
    "#lambdaa = 0.48\n",
    "#alpha = 0.0043\n",
    "lambdaa = 0.1\n",
    "alpha = 0.7\n",
    "epsilon = 0.001\n",
    "for i in range(iteration):\n",
    "    thetaX = np.dot(theta.transpose(),titanicTrain_gradient_sc_X())\n",
    "    eThetaX = expit(-thetaX)\n",
    "    denom = np.add(1,eThetaX)\n",
    "    hx = np.divide(1,denom)\n",
    "    diff = np.subtract(hx,titanicTrain_gradient_Y.transpose())    \n",
    "    derivative = np.dot(diff,titanicTrain_gradient_sc_X().transpose())\n",
    "    #print (derivative)\n",
    "    #gradientDiffLog[i] = np.multiply(np.divide(np.subtract(calculateGradientOfJ(theta,titanicTrain_gradient_X,titanicTrain_gradient_Y, epsilon),\n",
    "                                   #derivative),derivative),100)\n",
    "    #gradientDiffLog[i] =  np.subtract(calculateGradientOfJ(theta,titanicTrain_gradient_X,titanicTrain_gradient_Y, epsilon),\n",
    "     #                               derivative)\n",
    "    #theta = np.subtract(thetanew, np.multiply((alpha/titanicTrain_gradient_X().shape[1]),derivative.transpose()))\n",
    "    #Implementing regularization    \n",
    "   \n",
    "    #print (\"before\", thetaRegularized)\n",
    "    thetaRegularized = thetanew*(1-(alpha*lambdaa/titanicTrain_gradient_sc_X().shape[1]))\n",
    "    #print (\"after\", thetaRegularized)\n",
    "    #Not regularizing theta0 (the constant)\n",
    "    thetaRegularized[0][0] = thetaRegularized[0][0]/(1-(alpha*lambdaa/titanicTrain_gradient_sc_X().shape[1]))\n",
    "    #print (\"after adjustment\", thetaRegularized)\n",
    "    #print (np.multiply((alpha/titanicTrain_gradient_sc_X.shape[1]),derivative.transpose()))\n",
    "    theta = np.subtract(thetaRegularized,np.multiply((alpha/titanicTrain_gradient_sc_X().shape[1]),derivative.transpose()))\n",
    "    thetaXNew = np.dot(theta.transpose(),titanicTrain_gradient_sc_X())\n",
    "    eThetaXNew = expit(-thetaXNew)\n",
    "    denomNew = np.add(1,eThetaXNew)\n",
    "    hxNew = np.divide(1,denomNew)\n",
    "    hxNewLogSafe = np.subtract(hxNew,epsilon)\n",
    "   # print (derivative.shape)\n",
    "    costerror = -np.divide(np.add(np.multiply(titanicTrain_gradient_Y.transpose(),np.log(hxNewLogSafe)),\n",
    "                      np.multiply(np.subtract(1,titanicTrain_gradient_Y.transpose()),np.log(np.subtract(1,hxNewLogSafe)))),\n",
    "                          titanicTrain_gradient_Y.shape[0])\n",
    "    #print (costerror.shape)\n",
    "    errorLog[i] = costerror.sum()\n",
    "    \"\"\"if(i!=0 and (errorLog[i] > errorLog[i-1])):\n",
    "        print (\"i=\", i)\n",
    "        break\n",
    "        \"\"\"\n",
    "    thetanew = theta\n",
    "    "
   ]
  },
  {
   "cell_type": "code",
   "execution_count": 186,
   "metadata": {},
   "outputs": [
    {
     "data": {
      "text/plain": [
       "0.0036451283600808719"
      ]
     },
     "execution_count": 186,
     "metadata": {},
     "output_type": "execute_result"
    }
   ],
   "source": [
    "100*(errorLog[iteration-2] - errorLog[iteration-1])/errorLog[iteration-2]"
   ]
  },
  {
   "cell_type": "code",
   "execution_count": 188,
   "metadata": {},
   "outputs": [
    {
     "data": {
      "image/png": "[encoded data removed]",
      "text/plain": [
       "<matplotlib.figure.Figure at 0x1a5363e0390>"
      ]
     },
     "metadata": {},
     "output_type": "display_data"
    }
   ],
   "source": [
    "plt.plot(range(iteration),errorLog)\n",
    "plt.show()"
   ]
  },
  {
   "cell_type": "code",
   "execution_count": 189,
   "metadata": {
    "collapsed": true
   },
   "outputs": [],
   "source": [
    "def getPredictedFromGradient(theta_p,testX_p):\n",
    "    thetaX = np.dot(theta_p.transpose(),testX_p())\n",
    "    denom = np.add(1,expit(-thetaX))\n",
    "    hx = np.divide(1,denom)\n",
    "    #print (hx)\n",
    "    hxT = hx.transpose()          \n",
    "    return hxT"
   ]
  },
  {
   "cell_type": "code",
   "execution_count": 190,
   "metadata": {},
   "outputs": [
    {
     "data": {
      "text/plain": [
       "(15, 688)"
      ]
     },
     "execution_count": 190,
     "metadata": {},
     "output_type": "execute_result"
    }
   ],
   "source": [
    "titanicTrain_gradient_X.transpose().shape"
   ]
  },
  {
   "cell_type": "code",
   "execution_count": 191,
   "metadata": {},
   "outputs": [
    {
     "data": {
      "text/plain": [
       "(15, 173)"
      ]
     },
     "execution_count": 191,
     "metadata": {},
     "output_type": "execute_result"
    }
   ],
   "source": [
    "titanicTest_gradient_X.transpose().shape"
   ]
  },
  {
   "cell_type": "code",
   "execution_count": 192,
   "metadata": {},
   "outputs": [
    {
     "name": "stdout",
     "output_type": "stream",
     "text": [
      "(173, 15)\n"
     ]
    }
   ],
   "source": [
    "titanicTest_gradient_sc_T_X = scalar.transform(titanicTest_gradient_X)\n",
    "#print (titanicTest_gradient_sc_T_X.shape)\n",
    "titanicTest_gradient_sc_X = titanicTest_gradient_sc_T_X\n",
    "#titanicTest_gradient_sc_X = titanicTest_gradient_sc_T_X.transpose()\n",
    "print (titanicTest_gradient_sc_X.shape)"
   ]
  },
  {
   "cell_type": "code",
   "execution_count": 193,
   "metadata": {
    "collapsed": true
   },
   "outputs": [],
   "source": [
    "X_t_gradient1 = np.ones(titanicTest_gradient_sc_X.shape[0])\n",
    "X_t_gradient2 = np.c_[X_t_gradient1,titanicTest_gradient_sc_X]\n",
    "titanicTest_gradient_sc_X = X_t_gradient2.transpose"
   ]
  },
  {
   "cell_type": "code",
   "execution_count": 194,
   "metadata": {},
   "outputs": [
    {
     "data": {
      "text/plain": [
       "(16, 173)"
      ]
     },
     "execution_count": 194,
     "metadata": {},
     "output_type": "execute_result"
    }
   ],
   "source": [
    "titanicTest_gradient_sc_X().shape"
   ]
  },
  {
   "cell_type": "code",
   "execution_count": 195,
   "metadata": {},
   "outputs": [
    {
     "data": {
      "text/plain": [
       "(173, 1)"
      ]
     },
     "execution_count": 195,
     "metadata": {},
     "output_type": "execute_result"
    }
   ],
   "source": [
    "titanicTest_Y = titanicTest.Survived\n",
    "titanicTest_gradient_Y = np.array([titanicTest_Y]).transpose()\n",
    "titanicTest_gradient_Y.shape"
   ]
  },
  {
   "cell_type": "code",
   "execution_count": 196,
   "metadata": {
    "collapsed": true
   },
   "outputs": [],
   "source": [
    "predicted_gradient = getPredictedFromGradient(theta,titanicTest_gradient_sc_X)"
   ]
  },
  {
   "cell_type": "code",
   "execution_count": 197,
   "metadata": {
    "collapsed": true
   },
   "outputs": [],
   "source": [
    "for i in range(0,predicted_gradient.shape[0]):\n",
    "    if predicted_gradient[i][0] > 0.51:\n",
    "        predicted_gradient[i][0] = 1\n",
    "    else:\n",
    "        predicted_gradient[i][0] = 0"
   ]
  },
  {
   "cell_type": "code",
   "execution_count": 198,
   "metadata": {},
   "outputs": [
    {
     "name": "stdout",
     "output_type": "stream",
     "text": [
      "             precision    recall  f1-score   support\n",
      "\n",
      "          0       0.64      0.99      0.78       101\n",
      "          1       0.94      0.22      0.36        72\n",
      "\n",
      "avg / total       0.77      0.67      0.60       173\n",
      "\n"
     ]
    }
   ],
   "source": [
    "print (metrics.classification_report(titanicTest_gradient_Y, predicted_gradient))"
   ]
  },
  {
   "cell_type": "code",
   "execution_count": 199,
   "metadata": {},
   "outputs": [
    {
     "name": "stdout",
     "output_type": "stream",
     "text": [
      "0.606160616062\n"
     ]
    }
   ],
   "source": [
    "print (metrics.roc_auc_score(titanicTest_gradient_Y, predicted_gradient))"
   ]
  },
  {
   "cell_type": "code",
   "execution_count": 200,
   "metadata": {},
   "outputs": [
    {
     "name": "stdout",
     "output_type": "stream",
     "text": [
      "             precision    recall  f1-score   support\n",
      "\n",
      "          0       0.82      0.83      0.83       101\n",
      "          1       0.76      0.75      0.76        72\n",
      "\n",
      "avg / total       0.80      0.80      0.80       173\n",
      "\n"
     ]
    }
   ],
   "source": [
    "#Using Logistic regression\n",
    "tmodel_log1 = linear_model.LogisticRegression(C=0.2)\n",
    "\n",
    "tmodel_log1.fit(titanicTrain_X_Proper,titanicTrain_Y)\n",
    "\n",
    "predicted_log1 = tmodel_log1.predict(titanicTest_X_Proper)\n",
    "\n",
    "print (metrics.classification_report(titanicTest_Y, predicted_log1))"
   ]
  },
  {
   "cell_type": "code",
   "execution_count": 201,
   "metadata": {},
   "outputs": [],
   "source": [
    "#Using Neural Networks\n",
    "import keras\n",
    "from keras.models import Sequential\n",
    "from keras.layers import Dense\n",
    "from keras.layers import Dropout\n",
    "from keras.wrappers.scikit_learn import KerasClassifier\n",
    "from sklearn.model_selection import cross_val_score"
   ]
  },
  {
   "cell_type": "code",
   "execution_count": 215,
   "metadata": {},
   "outputs": [
    {
     "data": {
      "text/plain": [
       "(688, 15)"
      ]
     },
     "execution_count": 215,
     "metadata": {},
     "output_type": "execute_result"
    }
   ],
   "source": [
    "titanicTrain_X_Proper.shape"
   ]
  },
  {
   "cell_type": "code",
   "execution_count": 216,
   "metadata": {
    "collapsed": true
   },
   "outputs": [],
   "source": [
    "np.random.seed(10)\n",
    "dropoutrate = 0.1\n",
    "def buildClassifier():\n",
    "    classifier = Sequential()\n",
    "    classifier.add(Dense(8, activation='relu', input_dim=15, kernel_initializer='uniform'))\n",
    "    classifier.add(Dropout(dropoutrate))\n",
    "    classifier.add(Dense(8, activation='relu', kernel_initializer='uniform'))\n",
    "    classifier.add(Dropout(dropoutrate))\n",
    "    classifier.add(Dense(1, activation='sigmoid', kernel_initializer='uniform'))\n",
    "    #classifier.build(input_shape=15)\n",
    "    classifier.compile(optimizer='adam',loss='binary_crossentropy',metrics=['accuracy'])\n",
    "    return classifier"
   ]
  },
  {
   "cell_type": "code",
   "execution_count": 217,
   "metadata": {
    "collapsed": true
   },
   "outputs": [],
   "source": [
    "classifier = KerasClassifier(build_fn=buildClassifier, epochs=300, batch_size=5)\n",
    "#Kfold = cross_val_score(estimator=classifier,cv=10,X=scalar.fit_transform(titanicTrain_X_Proper),y=titanicTrain_Y)"
   ]
  },
  {
   "cell_type": "code",
   "execution_count": 218,
   "metadata": {
    "collapsed": true
   },
   "outputs": [],
   "source": [
    "#mean = Kfold.mean()\n",
    "#mean"
   ]
  },
  {
   "cell_type": "code",
   "execution_count": 219,
   "metadata": {},
   "outputs": [
    {
     "name": "stdout",
     "output_type": "stream",
     "text": [
      "Epoch 1/300\n",
      "688/688 [==============================] - 1s 754us/step - loss: 0.6795 - acc: 0.6206\n",
      "Epoch 2/300\n",
      "688/688 [==============================] - 0s 201us/step - loss: 0.5833 - acc: 0.6802\n",
      "Epoch 3/300\n",
      "688/688 [==============================] - 0s 183us/step - loss: 0.5257 - acc: 0.7791\n",
      "Epoch 4/300\n",
      "688/688 [==============================] - 0s 198us/step - loss: 0.4920 - acc: 0.7791\n",
      "Epoch 5/300\n",
      "688/688 [==============================] - 0s 186us/step - loss: 0.4841 - acc: 0.7805\n",
      "Epoch 6/300\n",
      "688/688 [==============================] - 0s 192us/step - loss: 0.4697 - acc: 0.7892\n",
      "Epoch 7/300\n",
      "688/688 [==============================] - 0s 222us/step - loss: 0.4709 - acc: 0.7965\n",
      "Epoch 8/300\n",
      "688/688 [==============================] - 0s 202us/step - loss: 0.4689 - acc: 0.7936\n",
      "Epoch 9/300\n",
      "688/688 [==============================] - 0s 185us/step - loss: 0.4538 - acc: 0.8023\n",
      "Epoch 10/300\n",
      "688/688 [==============================] - 0s 214us/step - loss: 0.4584 - acc: 0.7980\n",
      "Epoch 11/300\n",
      "688/688 [==============================] - 0s 180us/step - loss: 0.4665 - acc: 0.7907\n",
      "Epoch 12/300\n",
      "688/688 [==============================] - 0s 198us/step - loss: 0.4475 - acc: 0.7994\n",
      "Epoch 13/300\n",
      "688/688 [==============================] - 0s 180us/step - loss: 0.4600 - acc: 0.7951\n",
      "Epoch 14/300\n",
      "688/688 [==============================] - 0s 182us/step - loss: 0.4538 - acc: 0.7951\n",
      "Epoch 15/300\n",
      "688/688 [==============================] - 0s 185us/step - loss: 0.4567 - acc: 0.7907\n",
      "Epoch 16/300\n",
      "688/688 [==============================] - 0s 186us/step - loss: 0.4343 - acc: 0.7936\n",
      "Epoch 17/300\n",
      "688/688 [==============================] - 0s 193us/step - loss: 0.4458 - acc: 0.7936\n",
      "Epoch 18/300\n",
      "688/688 [==============================] - 0s 195us/step - loss: 0.4378 - acc: 0.8023\n",
      "Epoch 19/300\n",
      "688/688 [==============================] - 0s 177us/step - loss: 0.4431 - acc: 0.8096\n",
      "Epoch 20/300\n",
      "688/688 [==============================] - 0s 183us/step - loss: 0.4445 - acc: 0.8038\n",
      "Epoch 21/300\n",
      "688/688 [==============================] - 0s 179us/step - loss: 0.4464 - acc: 0.7878\n",
      "Epoch 22/300\n",
      "688/688 [==============================] - 0s 189us/step - loss: 0.4351 - acc: 0.7994\n",
      "Epoch 23/300\n",
      "688/688 [==============================] - 0s 190us/step - loss: 0.4333 - acc: 0.8125\n",
      "Epoch 24/300\n",
      "688/688 [==============================] - 0s 190us/step - loss: 0.4313 - acc: 0.8140\n",
      "Epoch 25/300\n",
      "688/688 [==============================] - 0s 203us/step - loss: 0.4398 - acc: 0.8009\n",
      "Epoch 26/300\n",
      "688/688 [==============================] - 0s 202us/step - loss: 0.4286 - acc: 0.8227\n",
      "Epoch 27/300\n",
      "688/688 [==============================] - 0s 182us/step - loss: 0.4390 - acc: 0.8110\n",
      "Epoch 28/300\n",
      "688/688 [==============================] - 0s 196us/step - loss: 0.4230 - acc: 0.8256\n",
      "Epoch 29/300\n",
      "688/688 [==============================] - 0s 180us/step - loss: 0.4303 - acc: 0.8110\n",
      "Epoch 30/300\n",
      "688/688 [==============================] - 0s 182us/step - loss: 0.4272 - acc: 0.8212\n",
      "Epoch 31/300\n",
      "688/688 [==============================] - 0s 182us/step - loss: 0.4420 - acc: 0.8038\n",
      "Epoch 32/300\n",
      "688/688 [==============================] - 0s 183us/step - loss: 0.4236 - acc: 0.8052\n",
      "Epoch 33/300\n",
      "688/688 [==============================] - 0s 189us/step - loss: 0.4340 - acc: 0.8096\n",
      "Epoch 34/300\n",
      "688/688 [==============================] - 0s 192us/step - loss: 0.4315 - acc: 0.8067\n",
      "Epoch 35/300\n",
      "688/688 [==============================] - 0s 186us/step - loss: 0.4281 - acc: 0.8096\n",
      "Epoch 36/300\n",
      "688/688 [==============================] - 0s 180us/step - loss: 0.4240 - acc: 0.8198\n",
      "Epoch 37/300\n",
      "688/688 [==============================] - 0s 189us/step - loss: 0.4283 - acc: 0.8183\n",
      "Epoch 38/300\n",
      "688/688 [==============================] - 0s 180us/step - loss: 0.4243 - acc: 0.8227\n",
      "Epoch 39/300\n",
      "688/688 [==============================] - 0s 185us/step - loss: 0.4150 - acc: 0.8227\n",
      "Epoch 40/300\n",
      "688/688 [==============================] - 0s 187us/step - loss: 0.4285 - acc: 0.8038\n",
      "Epoch 41/300\n",
      "688/688 [==============================] - 0s 193us/step - loss: 0.4255 - acc: 0.8241\n",
      "Epoch 42/300\n",
      "688/688 [==============================] - 0s 192us/step - loss: 0.4247 - acc: 0.8154\n",
      "Epoch 43/300\n",
      "688/688 [==============================] - 0s 190us/step - loss: 0.4248 - acc: 0.8212\n",
      "Epoch 44/300\n",
      "688/688 [==============================] - 0s 174us/step - loss: 0.4329 - acc: 0.8183\n",
      "Epoch 45/300\n",
      "688/688 [==============================] - 0s 182us/step - loss: 0.4286 - acc: 0.8183\n",
      "Epoch 46/300\n",
      "688/688 [==============================] - 0s 180us/step - loss: 0.4207 - acc: 0.8285\n",
      "Epoch 47/300\n",
      "688/688 [==============================] - 0s 185us/step - loss: 0.4156 - acc: 0.8154\n",
      "Epoch 48/300\n",
      "688/688 [==============================] - 0s 189us/step - loss: 0.4355 - acc: 0.8169\n",
      "Epoch 49/300\n",
      "688/688 [==============================] - 0s 189us/step - loss: 0.4159 - acc: 0.8169\n",
      "Epoch 50/300\n",
      "688/688 [==============================] - 0s 182us/step - loss: 0.4261 - acc: 0.8299\n",
      "Epoch 51/300\n",
      "688/688 [==============================] - 0s 195us/step - loss: 0.4240 - acc: 0.8198\n",
      "Epoch 52/300\n",
      "688/688 [==============================] - 0s 180us/step - loss: 0.4241 - acc: 0.8256\n",
      "Epoch 53/300\n",
      "688/688 [==============================] - 0s 182us/step - loss: 0.4314 - acc: 0.8212\n",
      "Epoch 54/300\n",
      "688/688 [==============================] - 0s 185us/step - loss: 0.4190 - acc: 0.8256\n",
      "Epoch 55/300\n",
      "688/688 [==============================] - 0s 199us/step - loss: 0.4242 - acc: 0.8154\n",
      "Epoch 56/300\n",
      "688/688 [==============================] - 0s 217us/step - loss: 0.4214 - acc: 0.8227\n",
      "Epoch 57/300\n",
      "688/688 [==============================] - 0s 205us/step - loss: 0.4250 - acc: 0.8299\n",
      "Epoch 58/300\n",
      "688/688 [==============================] - 0s 190us/step - loss: 0.4130 - acc: 0.8270\n",
      "Epoch 59/300\n",
      "688/688 [==============================] - 0s 180us/step - loss: 0.4102 - acc: 0.8241\n",
      "Epoch 60/300\n",
      "688/688 [==============================] - 0s 193us/step - loss: 0.4231 - acc: 0.8270\n",
      "Epoch 61/300\n",
      "688/688 [==============================] - 0s 203us/step - loss: 0.4138 - acc: 0.8343\n",
      "Epoch 62/300\n",
      "688/688 [==============================] - 0s 233us/step - loss: 0.4203 - acc: 0.8256\n",
      "Epoch 63/300\n",
      "688/688 [==============================] - 0s 221us/step - loss: 0.4165 - acc: 0.8270\n",
      "Epoch 64/300\n",
      "688/688 [==============================] - 0s 222us/step - loss: 0.4180 - acc: 0.8256\n",
      "Epoch 65/300\n",
      "688/688 [==============================] - 0s 233us/step - loss: 0.4194 - acc: 0.8299\n",
      "Epoch 66/300\n",
      "688/688 [==============================] - 0s 222us/step - loss: 0.4068 - acc: 0.8387\n",
      "Epoch 67/300\n",
      "688/688 [==============================] - 0s 224us/step - loss: 0.4099 - acc: 0.8314\n",
      "Epoch 68/300\n",
      "688/688 [==============================] - 0s 217us/step - loss: 0.4129 - acc: 0.8285\n",
      "Epoch 69/300\n",
      "688/688 [==============================] - 0s 233us/step - loss: 0.3994 - acc: 0.8314\n",
      "Epoch 70/300\n",
      "688/688 [==============================] - 0s 246us/step - loss: 0.4095 - acc: 0.8299\n",
      "Epoch 71/300\n",
      "688/688 [==============================] - 0s 237us/step - loss: 0.4216 - acc: 0.8299\n",
      "Epoch 72/300\n",
      "688/688 [==============================] - 0s 233us/step - loss: 0.4247 - acc: 0.8299\n",
      "Epoch 73/300\n",
      "688/688 [==============================] - 0s 214us/step - loss: 0.4214 - acc: 0.8241\n",
      "Epoch 74/300\n",
      "688/688 [==============================] - 0s 234us/step - loss: 0.4256 - acc: 0.8212\n",
      "Epoch 75/300\n",
      "688/688 [==============================] - 0s 250us/step - loss: 0.4194 - acc: 0.8198\n",
      "Epoch 76/300\n",
      "688/688 [==============================] - 0s 234us/step - loss: 0.4100 - acc: 0.8285\n",
      "Epoch 77/300\n",
      "688/688 [==============================] - 0s 219us/step - loss: 0.4106 - acc: 0.8285\n",
      "Epoch 78/300\n",
      "688/688 [==============================] - 0s 241us/step - loss: 0.4165 - acc: 0.8212\n",
      "Epoch 79/300\n",
      "688/688 [==============================] - 0s 265us/step - loss: 0.4158 - acc: 0.8328\n",
      "Epoch 80/300\n",
      "688/688 [==============================] - 0s 262us/step - loss: 0.4105 - acc: 0.8285\n",
      "Epoch 81/300\n",
      "688/688 [==============================] - 0s 254us/step - loss: 0.4068 - acc: 0.8270\n",
      "Epoch 82/300\n",
      "688/688 [==============================] - 0s 250us/step - loss: 0.4190 - acc: 0.8358\n",
      "Epoch 83/300\n"
     ]
    },
    {
     "name": "stdout",
     "output_type": "stream",
     "text": [
      "688/688 [==============================] - 0s 221us/step - loss: 0.4147 - acc: 0.8212\n",
      "Epoch 84/300\n",
      "688/688 [==============================] - 0s 247us/step - loss: 0.4124 - acc: 0.8285\n",
      "Epoch 85/300\n",
      "688/688 [==============================] - 0s 249us/step - loss: 0.4199 - acc: 0.8256\n",
      "Epoch 86/300\n",
      "688/688 [==============================] - 0s 233us/step - loss: 0.4169 - acc: 0.8372\n",
      "Epoch 87/300\n",
      "688/688 [==============================] - 0s 240us/step - loss: 0.4105 - acc: 0.8343\n",
      "Epoch 88/300\n",
      "688/688 [==============================] - 0s 243us/step - loss: 0.4324 - acc: 0.8241\n",
      "Epoch 89/300\n",
      "688/688 [==============================] - 0s 249us/step - loss: 0.4229 - acc: 0.8198\n",
      "Epoch 90/300\n",
      "688/688 [==============================] - 0s 250us/step - loss: 0.4205 - acc: 0.8285\n",
      "Epoch 91/300\n",
      "688/688 [==============================] - 0s 243us/step - loss: 0.4106 - acc: 0.8299\n",
      "Epoch 92/300\n",
      "688/688 [==============================] - 0s 240us/step - loss: 0.4190 - acc: 0.8169\n",
      "Epoch 93/300\n",
      "688/688 [==============================] - 0s 253us/step - loss: 0.4133 - acc: 0.8256\n",
      "Epoch 94/300\n",
      "688/688 [==============================] - 0s 238us/step - loss: 0.4116 - acc: 0.8270\n",
      "Epoch 95/300\n",
      "688/688 [==============================] - 0s 240us/step - loss: 0.4033 - acc: 0.8314\n",
      "Epoch 96/300\n",
      "688/688 [==============================] - 0s 233us/step - loss: 0.3986 - acc: 0.8212\n",
      "Epoch 97/300\n",
      "688/688 [==============================] - 0s 251us/step - loss: 0.4147 - acc: 0.8183\n",
      "Epoch 98/300\n",
      "688/688 [==============================] - 0s 244us/step - loss: 0.3952 - acc: 0.8270\n",
      "Epoch 99/300\n",
      "688/688 [==============================] - 0s 235us/step - loss: 0.4198 - acc: 0.8227\n",
      "Epoch 100/300\n",
      "688/688 [==============================] - 0s 228us/step - loss: 0.4079 - acc: 0.8285\n",
      "Epoch 101/300\n",
      "688/688 [==============================] - 0s 233us/step - loss: 0.4124 - acc: 0.8270\n",
      "Epoch 102/300\n",
      "688/688 [==============================] - 0s 241us/step - loss: 0.4121 - acc: 0.8401\n",
      "Epoch 103/300\n",
      "688/688 [==============================] - 0s 244us/step - loss: 0.4132 - acc: 0.8328\n",
      "Epoch 104/300\n",
      "688/688 [==============================] - 0s 233us/step - loss: 0.4166 - acc: 0.8314\n",
      "Epoch 105/300\n",
      "688/688 [==============================] - 0s 221us/step - loss: 0.4139 - acc: 0.8285\n",
      "Epoch 106/300\n",
      "688/688 [==============================] - 0s 215us/step - loss: 0.4121 - acc: 0.8314\n",
      "Epoch 107/300\n",
      "688/688 [==============================] - 0s 244us/step - loss: 0.4159 - acc: 0.8328\n",
      "Epoch 108/300\n",
      "688/688 [==============================] - 0s 208us/step - loss: 0.4039 - acc: 0.8401\n",
      "Epoch 109/300\n",
      "688/688 [==============================] - 0s 251us/step - loss: 0.4005 - acc: 0.8299\n",
      "Epoch 110/300\n",
      "688/688 [==============================] - 0s 257us/step - loss: 0.4208 - acc: 0.8343\n",
      "Epoch 111/300\n",
      "688/688 [==============================] - 0s 203us/step - loss: 0.4176 - acc: 0.8328\n",
      "Epoch 112/300\n",
      "688/688 [==============================] - 0s 250us/step - loss: 0.4054 - acc: 0.8358\n",
      "Epoch 113/300\n",
      "688/688 [==============================] - 0s 235us/step - loss: 0.4105 - acc: 0.8299\n",
      "Epoch 114/300\n",
      "688/688 [==============================] - 0s 182us/step - loss: 0.4025 - acc: 0.8328\n",
      "Epoch 115/300\n",
      "688/688 [==============================] - 0s 183us/step - loss: 0.4072 - acc: 0.8241\n",
      "Epoch 116/300\n",
      "688/688 [==============================] - 0s 205us/step - loss: 0.4084 - acc: 0.8299\n",
      "Epoch 117/300\n",
      "688/688 [==============================] - 0s 244us/step - loss: 0.4138 - acc: 0.8227\n",
      "Epoch 118/300\n",
      "688/688 [==============================] - 0s 235us/step - loss: 0.4006 - acc: 0.8299\n",
      "Epoch 119/300\n",
      "688/688 [==============================] - 0s 308us/step - loss: 0.4252 - acc: 0.8241\n",
      "Epoch 120/300\n",
      "688/688 [==============================] - 0s 227us/step - loss: 0.4047 - acc: 0.8227\n",
      "Epoch 121/300\n",
      "688/688 [==============================] - 0s 195us/step - loss: 0.4076 - acc: 0.8285\n",
      "Epoch 122/300\n",
      "688/688 [==============================] - 0s 182us/step - loss: 0.4024 - acc: 0.8285\n",
      "Epoch 123/300\n",
      "688/688 [==============================] - 0s 205us/step - loss: 0.4154 - acc: 0.8314\n",
      "Epoch 124/300\n",
      "688/688 [==============================] - 0s 259us/step - loss: 0.4062 - acc: 0.8343\n",
      "Epoch 125/300\n",
      "688/688 [==============================] - 0s 199us/step - loss: 0.3966 - acc: 0.8343\n",
      "Epoch 126/300\n",
      "688/688 [==============================] - 0s 195us/step - loss: 0.4049 - acc: 0.8372\n",
      "Epoch 127/300\n",
      "688/688 [==============================] - 0s 176us/step - loss: 0.4133 - acc: 0.8256\n",
      "Epoch 128/300\n",
      "688/688 [==============================] - 0s 199us/step - loss: 0.3968 - acc: 0.8314\n",
      "Epoch 129/300\n",
      "688/688 [==============================] - 0s 180us/step - loss: 0.4103 - acc: 0.8241\n",
      "Epoch 130/300\n",
      "688/688 [==============================] - 0s 192us/step - loss: 0.4077 - acc: 0.8328\n",
      "Epoch 131/300\n",
      "688/688 [==============================] - 0s 185us/step - loss: 0.4187 - acc: 0.8212\n",
      "Epoch 132/300\n",
      "688/688 [==============================] - 0s 211us/step - loss: 0.3931 - acc: 0.8285\n",
      "Epoch 133/300\n",
      "688/688 [==============================] - 0s 190us/step - loss: 0.4085 - acc: 0.8372\n",
      "Epoch 134/300\n",
      "688/688 [==============================] - 0s 203us/step - loss: 0.4092 - acc: 0.8372\n",
      "Epoch 135/300\n",
      "688/688 [==============================] - 0s 218us/step - loss: 0.4076 - acc: 0.8227\n",
      "Epoch 136/300\n",
      "688/688 [==============================] - 0s 202us/step - loss: 0.3999 - acc: 0.8372\n",
      "Epoch 137/300\n",
      "688/688 [==============================] - 0s 192us/step - loss: 0.4083 - acc: 0.8358\n",
      "Epoch 138/300\n",
      "688/688 [==============================] - 0s 190us/step - loss: 0.4019 - acc: 0.8270\n",
      "Epoch 139/300\n",
      "688/688 [==============================] - 0s 193us/step - loss: 0.4022 - acc: 0.8387\n",
      "Epoch 140/300\n",
      "688/688 [==============================] - 0s 214us/step - loss: 0.4017 - acc: 0.8358\n",
      "Epoch 141/300\n",
      "688/688 [==============================] - 0s 186us/step - loss: 0.4142 - acc: 0.8314\n",
      "Epoch 142/300\n",
      "688/688 [==============================] - 0s 183us/step - loss: 0.4080 - acc: 0.8401\n",
      "Epoch 143/300\n",
      "688/688 [==============================] - 0s 179us/step - loss: 0.4071 - acc: 0.8358\n",
      "Epoch 144/300\n",
      "688/688 [==============================] - 0s 190us/step - loss: 0.4062 - acc: 0.8328\n",
      "Epoch 145/300\n",
      "688/688 [==============================] - 0s 190us/step - loss: 0.4089 - acc: 0.8401\n",
      "Epoch 146/300\n",
      "688/688 [==============================] - 0s 198us/step - loss: 0.4051 - acc: 0.8285\n",
      "Epoch 147/300\n",
      "688/688 [==============================] - 0s 208us/step - loss: 0.4069 - acc: 0.8314\n",
      "Epoch 148/300\n",
      "688/688 [==============================] - 0s 215us/step - loss: 0.3988 - acc: 0.8416\n",
      "Epoch 149/300\n",
      "688/688 [==============================] - 0s 217us/step - loss: 0.4000 - acc: 0.8299\n",
      "Epoch 150/300\n",
      "688/688 [==============================] - 0s 201us/step - loss: 0.4161 - acc: 0.8285\n",
      "Epoch 151/300\n",
      "688/688 [==============================] - 0s 198us/step - loss: 0.4057 - acc: 0.8358\n",
      "Epoch 152/300\n",
      "688/688 [==============================] - 0s 198us/step - loss: 0.4099 - acc: 0.8314\n",
      "Epoch 153/300\n",
      "688/688 [==============================] - 0s 179us/step - loss: 0.4018 - acc: 0.8299\n",
      "Epoch 154/300\n",
      "688/688 [==============================] - 0s 251us/step - loss: 0.4091 - acc: 0.8328\n",
      "Epoch 155/300\n",
      "688/688 [==============================] - 0s 209us/step - loss: 0.4001 - acc: 0.8285\n",
      "Epoch 156/300\n",
      "688/688 [==============================] - 0s 190us/step - loss: 0.4016 - acc: 0.8358\n",
      "Epoch 157/300\n",
      "688/688 [==============================] - 0s 203us/step - loss: 0.4091 - acc: 0.8299\n",
      "Epoch 158/300\n",
      "688/688 [==============================] - 0s 179us/step - loss: 0.4015 - acc: 0.8401\n",
      "Epoch 159/300\n",
      "688/688 [==============================] - 0s 196us/step - loss: 0.3983 - acc: 0.8328\n",
      "Epoch 160/300\n",
      "688/688 [==============================] - 0s 198us/step - loss: 0.3845 - acc: 0.8430\n",
      "Epoch 161/300\n",
      "688/688 [==============================] - 0s 217us/step - loss: 0.4102 - acc: 0.8372\n",
      "Epoch 162/300\n",
      "688/688 [==============================] - 0s 192us/step - loss: 0.4088 - acc: 0.8328\n",
      "Epoch 163/300\n",
      "688/688 [==============================] - 0s 202us/step - loss: 0.4027 - acc: 0.8401\n",
      "Epoch 164/300\n",
      "688/688 [==============================] - 0s 259us/step - loss: 0.4066 - acc: 0.8328\n",
      "Epoch 165/300\n"
     ]
    },
    {
     "name": "stdout",
     "output_type": "stream",
     "text": [
      "688/688 [==============================] - 0s 212us/step - loss: 0.3996 - acc: 0.8299\n",
      "Epoch 166/300\n",
      "688/688 [==============================] - 0s 244us/step - loss: 0.3966 - acc: 0.8328 0s - loss: 0.3770 - acc: 0.8\n",
      "Epoch 167/300\n",
      "688/688 [==============================] - 0s 246us/step - loss: 0.4041 - acc: 0.8372\n",
      "Epoch 168/300\n",
      "688/688 [==============================] - 0s 215us/step - loss: 0.4041 - acc: 0.8328\n",
      "Epoch 169/300\n",
      "688/688 [==============================] - 0s 254us/step - loss: 0.4035 - acc: 0.8285\n",
      "Epoch 170/300\n",
      "688/688 [==============================] - 0s 240us/step - loss: 0.4066 - acc: 0.8358\n",
      "Epoch 171/300\n",
      "688/688 [==============================] - 0s 221us/step - loss: 0.4010 - acc: 0.8401\n",
      "Epoch 172/300\n",
      "688/688 [==============================] - 0s 251us/step - loss: 0.4137 - acc: 0.8299\n",
      "Epoch 173/300\n",
      "688/688 [==============================] - 0s 238us/step - loss: 0.3952 - acc: 0.8387\n",
      "Epoch 174/300\n",
      "688/688 [==============================] - 0s 249us/step - loss: 0.4116 - acc: 0.8358\n",
      "Epoch 175/300\n",
      "688/688 [==============================] - 0s 244us/step - loss: 0.4062 - acc: 0.8358\n",
      "Epoch 176/300\n",
      "688/688 [==============================] - 0s 244us/step - loss: 0.3970 - acc: 0.8401\n",
      "Epoch 177/300\n",
      "688/688 [==============================] - 0s 251us/step - loss: 0.4095 - acc: 0.8285\n",
      "Epoch 178/300\n",
      "688/688 [==============================] - 0s 233us/step - loss: 0.4027 - acc: 0.8314\n",
      "Epoch 179/300\n",
      "688/688 [==============================] - 0s 273us/step - loss: 0.4132 - acc: 0.8241\n",
      "Epoch 180/300\n",
      "688/688 [==============================] - 0s 260us/step - loss: 0.3999 - acc: 0.8430\n",
      "Epoch 181/300\n",
      "688/688 [==============================] - 0s 230us/step - loss: 0.4029 - acc: 0.8358\n",
      "Epoch 182/300\n",
      "688/688 [==============================] - 0s 238us/step - loss: 0.4072 - acc: 0.8387\n",
      "Epoch 183/300\n",
      "688/688 [==============================] - 0s 192us/step - loss: 0.4179 - acc: 0.8299\n",
      "Epoch 184/300\n",
      "688/688 [==============================] - 0s 193us/step - loss: 0.4043 - acc: 0.8343\n",
      "Epoch 185/300\n",
      "688/688 [==============================] - 0s 186us/step - loss: 0.4038 - acc: 0.8343\n",
      "Epoch 186/300\n",
      "688/688 [==============================] - 0s 196us/step - loss: 0.4110 - acc: 0.8416\n",
      "Epoch 187/300\n",
      "688/688 [==============================] - 0s 186us/step - loss: 0.4064 - acc: 0.8328\n",
      "Epoch 188/300\n",
      "688/688 [==============================] - 0s 201us/step - loss: 0.4175 - acc: 0.8314\n",
      "Epoch 189/300\n",
      "688/688 [==============================] - 0s 193us/step - loss: 0.3861 - acc: 0.8387\n",
      "Epoch 190/300\n",
      "688/688 [==============================] - 0s 205us/step - loss: 0.3992 - acc: 0.8256\n",
      "Epoch 191/300\n",
      "688/688 [==============================] - 0s 189us/step - loss: 0.4042 - acc: 0.8270\n",
      "Epoch 192/300\n",
      "688/688 [==============================] - 0s 192us/step - loss: 0.4125 - acc: 0.8314\n",
      "Epoch 193/300\n",
      "688/688 [==============================] - 0s 192us/step - loss: 0.4088 - acc: 0.8328\n",
      "Epoch 194/300\n",
      "688/688 [==============================] - 0s 192us/step - loss: 0.3856 - acc: 0.8387\n",
      "Epoch 195/300\n",
      "688/688 [==============================] - 0s 190us/step - loss: 0.3958 - acc: 0.8241\n",
      "Epoch 196/300\n",
      "688/688 [==============================] - 0s 198us/step - loss: 0.4065 - acc: 0.8299\n",
      "Epoch 197/300\n",
      "688/688 [==============================] - 0s 202us/step - loss: 0.4038 - acc: 0.8445\n",
      "Epoch 198/300\n",
      "688/688 [==============================] - 0s 211us/step - loss: 0.4137 - acc: 0.8256\n",
      "Epoch 199/300\n",
      "688/688 [==============================] - 0s 187us/step - loss: 0.4028 - acc: 0.8343\n",
      "Epoch 200/300\n",
      "688/688 [==============================] - 0s 206us/step - loss: 0.3977 - acc: 0.8401\n",
      "Epoch 201/300\n",
      "688/688 [==============================] - 0s 187us/step - loss: 0.4047 - acc: 0.8314\n",
      "Epoch 202/300\n",
      "688/688 [==============================] - 0s 198us/step - loss: 0.4092 - acc: 0.8256\n",
      "Epoch 203/300\n",
      "688/688 [==============================] - 0s 195us/step - loss: 0.3916 - acc: 0.8343\n",
      "Epoch 204/300\n",
      "688/688 [==============================] - 0s 199us/step - loss: 0.3978 - acc: 0.8328\n",
      "Epoch 205/300\n",
      "688/688 [==============================] - 0s 209us/step - loss: 0.4010 - acc: 0.8416\n",
      "Epoch 206/300\n",
      "688/688 [==============================] - 0s 192us/step - loss: 0.3943 - acc: 0.8416\n",
      "Epoch 207/300\n",
      "688/688 [==============================] - 0s 192us/step - loss: 0.4010 - acc: 0.8241\n",
      "Epoch 208/300\n",
      "688/688 [==============================] - 0s 193us/step - loss: 0.3974 - acc: 0.8445\n",
      "Epoch 209/300\n",
      "688/688 [==============================] - 0s 183us/step - loss: 0.3996 - acc: 0.8358\n",
      "Epoch 210/300\n",
      "688/688 [==============================] - 0s 189us/step - loss: 0.3971 - acc: 0.8358\n",
      "Epoch 211/300\n",
      "688/688 [==============================] - 0s 187us/step - loss: 0.4041 - acc: 0.8416\n",
      "Epoch 212/300\n",
      "688/688 [==============================] - 0s 198us/step - loss: 0.4022 - acc: 0.8299\n",
      "Epoch 213/300\n",
      "688/688 [==============================] - 0s 203us/step - loss: 0.3970 - acc: 0.8416\n",
      "Epoch 214/300\n",
      "688/688 [==============================] - 0s 183us/step - loss: 0.4125 - acc: 0.8314\n",
      "Epoch 215/300\n",
      "688/688 [==============================] - 0s 192us/step - loss: 0.4134 - acc: 0.8387\n",
      "Epoch 216/300\n",
      "688/688 [==============================] - 0s 192us/step - loss: 0.3880 - acc: 0.8314\n",
      "Epoch 217/300\n",
      "688/688 [==============================] - 0s 180us/step - loss: 0.3994 - acc: 0.8430\n",
      "Epoch 218/300\n",
      "688/688 [==============================] - 0s 201us/step - loss: 0.4060 - acc: 0.8372\n",
      "Epoch 219/300\n",
      "688/688 [==============================] - 0s 211us/step - loss: 0.3993 - acc: 0.8416\n",
      "Epoch 220/300\n",
      "688/688 [==============================] - 0s 222us/step - loss: 0.4115 - acc: 0.8198\n",
      "Epoch 221/300\n",
      "688/688 [==============================] - 0s 186us/step - loss: 0.4069 - acc: 0.8299\n",
      "Epoch 222/300\n",
      "688/688 [==============================] - 0s 193us/step - loss: 0.4023 - acc: 0.8358\n",
      "Epoch 223/300\n",
      "688/688 [==============================] - 0s 189us/step - loss: 0.3962 - acc: 0.8416\n",
      "Epoch 224/300\n",
      "688/688 [==============================] - 0s 199us/step - loss: 0.3901 - acc: 0.8299\n",
      "Epoch 225/300\n",
      "688/688 [==============================] - 0s 189us/step - loss: 0.3995 - acc: 0.8387\n",
      "Epoch 226/300\n",
      "688/688 [==============================] - 0s 192us/step - loss: 0.4055 - acc: 0.8430\n",
      "Epoch 227/300\n",
      "688/688 [==============================] - 0s 180us/step - loss: 0.4047 - acc: 0.8241\n",
      "Epoch 228/300\n",
      "688/688 [==============================] - 0s 198us/step - loss: 0.4070 - acc: 0.8416\n",
      "Epoch 229/300\n",
      "688/688 [==============================] - 0s 177us/step - loss: 0.4064 - acc: 0.8314\n",
      "Epoch 230/300\n",
      "688/688 [==============================] - 0s 190us/step - loss: 0.3959 - acc: 0.8445\n",
      "Epoch 231/300\n",
      "688/688 [==============================] - 0s 185us/step - loss: 0.4094 - acc: 0.8328\n",
      "Epoch 232/300\n",
      "688/688 [==============================] - 0s 185us/step - loss: 0.3941 - acc: 0.8430\n",
      "Epoch 233/300\n",
      "688/688 [==============================] - 0s 190us/step - loss: 0.4028 - acc: 0.8314\n",
      "Epoch 234/300\n",
      "688/688 [==============================] - 0s 186us/step - loss: 0.3953 - acc: 0.8358\n",
      "Epoch 235/300\n",
      "688/688 [==============================] - 0s 190us/step - loss: 0.4029 - acc: 0.8328\n",
      "Epoch 236/300\n",
      "688/688 [==============================] - 0s 198us/step - loss: 0.4032 - acc: 0.8401\n",
      "Epoch 237/300\n",
      "688/688 [==============================] - 0s 198us/step - loss: 0.4016 - acc: 0.8416\n",
      "Epoch 238/300\n",
      "688/688 [==============================] - 0s 203us/step - loss: 0.3897 - acc: 0.8401\n",
      "Epoch 239/300\n",
      "688/688 [==============================] - 0s 173us/step - loss: 0.3863 - acc: 0.8328\n",
      "Epoch 240/300\n",
      "688/688 [==============================] - 0s 187us/step - loss: 0.4113 - acc: 0.8328\n",
      "Epoch 241/300\n",
      "688/688 [==============================] - 0s 183us/step - loss: 0.4062 - acc: 0.8328\n",
      "Epoch 242/300\n",
      "688/688 [==============================] - 0s 201us/step - loss: 0.4120 - acc: 0.8358\n",
      "Epoch 243/300\n",
      "688/688 [==============================] - 0s 180us/step - loss: 0.4154 - acc: 0.8328\n",
      "Epoch 244/300\n",
      "688/688 [==============================] - 0s 196us/step - loss: 0.4078 - acc: 0.8299\n",
      "Epoch 245/300\n",
      "688/688 [==============================] - 0s 192us/step - loss: 0.3919 - acc: 0.8387\n",
      "Epoch 246/300\n"
     ]
    },
    {
     "name": "stdout",
     "output_type": "stream",
     "text": [
      "688/688 [==============================] - 0s 206us/step - loss: 0.4018 - acc: 0.8343\n",
      "Epoch 247/300\n",
      "688/688 [==============================] - 0s 179us/step - loss: 0.4039 - acc: 0.8328\n",
      "Epoch 248/300\n",
      "688/688 [==============================] - 0s 192us/step - loss: 0.3941 - acc: 0.8445\n",
      "Epoch 249/300\n",
      "688/688 [==============================] - 0s 201us/step - loss: 0.3978 - acc: 0.8358\n",
      "Epoch 250/300\n",
      "688/688 [==============================] - 0s 179us/step - loss: 0.3923 - acc: 0.8387\n",
      "Epoch 251/300\n",
      "688/688 [==============================] - 0s 201us/step - loss: 0.3988 - acc: 0.8358\n",
      "Epoch 252/300\n",
      "688/688 [==============================] - 0s 203us/step - loss: 0.3982 - acc: 0.8372\n",
      "Epoch 253/300\n",
      "688/688 [==============================] - 0s 270us/step - loss: 0.4058 - acc: 0.8401\n",
      "Epoch 254/300\n",
      "688/688 [==============================] - 0s 225us/step - loss: 0.4076 - acc: 0.8343\n",
      "Epoch 255/300\n",
      "688/688 [==============================] - 0s 244us/step - loss: 0.3982 - acc: 0.8343\n",
      "Epoch 256/300\n",
      "688/688 [==============================] - 0s 201us/step - loss: 0.4097 - acc: 0.8299\n",
      "Epoch 257/300\n",
      "688/688 [==============================] - 0s 278us/step - loss: 0.4132 - acc: 0.8285\n",
      "Epoch 258/300\n",
      "688/688 [==============================] - 0s 231us/step - loss: 0.3945 - acc: 0.8372\n",
      "Epoch 259/300\n",
      "688/688 [==============================] - 0s 230us/step - loss: 0.3994 - acc: 0.8358\n",
      "Epoch 260/300\n",
      "688/688 [==============================] - 0s 208us/step - loss: 0.3986 - acc: 0.8445\n",
      "Epoch 261/300\n",
      "688/688 [==============================] - 0s 189us/step - loss: 0.3977 - acc: 0.8416\n",
      "Epoch 262/300\n",
      "688/688 [==============================] - 0s 208us/step - loss: 0.3958 - acc: 0.8372\n",
      "Epoch 263/300\n",
      "688/688 [==============================] - 0s 205us/step - loss: 0.3949 - acc: 0.8358\n",
      "Epoch 264/300\n",
      "688/688 [==============================] - 0s 214us/step - loss: 0.4002 - acc: 0.8299\n",
      "Epoch 265/300\n",
      "688/688 [==============================] - 0s 214us/step - loss: 0.3958 - acc: 0.8343\n",
      "Epoch 266/300\n",
      "688/688 [==============================] - 0s 222us/step - loss: 0.4082 - acc: 0.8387\n",
      "Epoch 267/300\n",
      "688/688 [==============================] - 0s 214us/step - loss: 0.3948 - acc: 0.8328\n",
      "Epoch 268/300\n",
      "688/688 [==============================] - 0s 199us/step - loss: 0.3950 - acc: 0.8314\n",
      "Epoch 269/300\n",
      "688/688 [==============================] - 0s 202us/step - loss: 0.3930 - acc: 0.8372\n",
      "Epoch 270/300\n",
      "688/688 [==============================] - 0s 198us/step - loss: 0.3870 - acc: 0.8387\n",
      "Epoch 271/300\n",
      "688/688 [==============================] - 0s 196us/step - loss: 0.3959 - acc: 0.8343\n",
      "Epoch 272/300\n",
      "688/688 [==============================] - 0s 273us/step - loss: 0.3972 - acc: 0.8372\n",
      "Epoch 273/300\n",
      "688/688 [==============================] - 0s 244us/step - loss: 0.3957 - acc: 0.8372\n",
      "Epoch 274/300\n",
      "688/688 [==============================] - ETA: 0s - loss: 0.4074 - acc: 0.822 - 0s 291us/step - loss: 0.4071 - acc: 0.8227\n",
      "Epoch 275/300\n",
      "688/688 [==============================] - 0s 217us/step - loss: 0.4023 - acc: 0.8416\n",
      "Epoch 276/300\n",
      "688/688 [==============================] - 0s 279us/step - loss: 0.4041 - acc: 0.8343\n",
      "Epoch 277/300\n",
      "688/688 [==============================] - 0s 276us/step - loss: 0.3919 - acc: 0.8328\n",
      "Epoch 278/300\n",
      "688/688 [==============================] - 0s 331us/step - loss: 0.3940 - acc: 0.8387\n",
      "Epoch 279/300\n",
      "688/688 [==============================] - 0s 314us/step - loss: 0.4035 - acc: 0.8314\n",
      "Epoch 280/300\n",
      "688/688 [==============================] - 0s 317us/step - loss: 0.3928 - acc: 0.8372\n",
      "Epoch 281/300\n",
      "688/688 [==============================] - 0s 266us/step - loss: 0.4112 - acc: 0.8328\n",
      "Epoch 282/300\n",
      "688/688 [==============================] - 0s 282us/step - loss: 0.3916 - acc: 0.8372\n",
      "Epoch 283/300\n",
      "688/688 [==============================] - 0s 249us/step - loss: 0.4019 - acc: 0.8343\n",
      "Epoch 284/300\n",
      "688/688 [==============================] - 0s 262us/step - loss: 0.4044 - acc: 0.8256\n",
      "Epoch 285/300\n",
      "688/688 [==============================] - 0s 247us/step - loss: 0.3986 - acc: 0.8314\n",
      "Epoch 286/300\n",
      "688/688 [==============================] - 0s 259us/step - loss: 0.3910 - acc: 0.8372\n",
      "Epoch 287/300\n",
      "688/688 [==============================] - 0s 285us/step - loss: 0.3875 - acc: 0.8387\n",
      "Epoch 288/300\n",
      "688/688 [==============================] - 0s 269us/step - loss: 0.4065 - acc: 0.8328\n",
      "Epoch 289/300\n",
      "688/688 [==============================] - 0s 227us/step - loss: 0.3909 - acc: 0.8256\n",
      "Epoch 290/300\n",
      "688/688 [==============================] - 0s 249us/step - loss: 0.3875 - acc: 0.8372\n",
      "Epoch 291/300\n",
      "688/688 [==============================] - 0s 238us/step - loss: 0.4007 - acc: 0.8445\n",
      "Epoch 292/300\n",
      "688/688 [==============================] - 0s 266us/step - loss: 0.4005 - acc: 0.8358\n",
      "Epoch 293/300\n",
      "688/688 [==============================] - 0s 221us/step - loss: 0.3896 - acc: 0.8343\n",
      "Epoch 294/300\n",
      "688/688 [==============================] - 0s 209us/step - loss: 0.3922 - acc: 0.8358\n",
      "Epoch 295/300\n",
      "688/688 [==============================] - 0s 211us/step - loss: 0.4056 - acc: 0.8372\n",
      "Epoch 296/300\n",
      "688/688 [==============================] - 0s 214us/step - loss: 0.4014 - acc: 0.8358\n",
      "Epoch 297/300\n",
      "688/688 [==============================] - 0s 217us/step - loss: 0.4025 - acc: 0.8387\n",
      "Epoch 298/300\n",
      "688/688 [==============================] - 0s 201us/step - loss: 0.3975 - acc: 0.8328\n",
      "Epoch 299/300\n",
      "688/688 [==============================] - 0s 208us/step - loss: 0.3983 - acc: 0.8285\n",
      "Epoch 300/300\n",
      "688/688 [==============================] - 0s 214us/step - loss: 0.3894 - acc: 0.8299\n"
     ]
    }
   ],
   "source": [
    "classifier.fit(scalar.fit_transform(titanicTrain_X_Proper), titanicTrain_Y)\n",
    "predicted_NN = classifier.predict(scalar.transform(titanicTest_X_Proper))"
   ]
  },
  {
   "cell_type": "code",
   "execution_count": 220,
   "metadata": {},
   "outputs": [
    {
     "name": "stdout",
     "output_type": "stream",
     "text": [
      "             precision    recall  f1-score   support\n",
      "\n",
      "          0       0.76      0.89      0.82       101\n",
      "          1       0.80      0.61      0.69        72\n",
      "\n",
      "avg / total       0.78      0.77      0.77       173\n",
      "\n"
     ]
    }
   ],
   "source": [
    "print (metrics.classification_report(titanicTest_Y, predicted_NN))"
   ]
  },
  {
   "cell_type": "code",
   "execution_count": 221,
   "metadata": {},
   "outputs": [
    {
     "name": "stdout",
     "output_type": "stream",
     "text": [
      "0.751100110011\n"
     ]
    }
   ],
   "source": [
    "print (metrics.roc_auc_score(titanicTest_gradient_Y, predicted_NN))"
   ]
  }
 ],
 "metadata": {
  "kernelspec": {
   "display_name": "Python 3",
   "language": "python",
   "name": "python3"
  },
  "language_info": {
   "codemirror_mode": {
    "name": "ipython",
    "version": 3
   },
   "file_extension": ".py",
   "mimetype": "text/x-python",
   "name": "python",
   "nbconvert_exporter": "python",
   "pygments_lexer": "ipython3",
   "version": "3.6.3"
  }
 },
 "nbformat": 4,
 "nbformat_minor": 1
}
